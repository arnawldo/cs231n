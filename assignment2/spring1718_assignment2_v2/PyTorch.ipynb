{
 "cells": [
  {
   "cell_type": "markdown",
   "metadata": {},
   "source": [
    "# What's this PyTorch business?\n",
    "\n",
    "You've written a lot of code in this assignment to provide a whole host of neural network functionality. Dropout, Batch Norm, and 2D convolutions are some of the workhorses of deep learning in computer vision. You've also worked hard to make your code efficient and vectorized.\n",
    "\n",
    "For the last part of this assignment, though, we're going to leave behind your beautiful codebase and instead migrate to one of two popular deep learning frameworks: in this instance, PyTorch (or TensorFlow, if you switch over to that notebook). \n",
    "\n",
    "### What is PyTorch?\n",
    "\n",
    "PyTorch is a system for executing dynamic computational graphs over Tensor objects that behave similarly as numpy ndarray. It comes with a powerful automatic differentiation engine that removes the need for manual back-propagation. \n",
    "\n",
    "### Why?\n",
    "\n",
    "* Our code will now run on GPUs! Much faster training. When using a framework like PyTorch or TensorFlow you can harness the power of the GPU for your own custom neural network architectures without having to write CUDA code directly (which is beyond the scope of this class).\n",
    "* We want you to be ready to use one of these frameworks for your project so you can experiment more efficiently than if you were writing every feature you want to use by hand. \n",
    "* We want you to stand on the shoulders of giants! TensorFlow and PyTorch are both excellent frameworks that will make your lives a lot easier, and now that you understand their guts, you are free to use them :) \n",
    "* We want you to be exposed to the sort of deep learning code you might run into in academia or industry.\n",
    "\n",
    "### PyTorch versions\n",
    "This notebook assumes that you are using **PyTorch version 0.4**. Prior to this version, Tensors had to be wrapped in Variable objects to be used in autograd; however Variables have now been deprecated. In addition 0.4 also separates a Tensor's datatype from its device, and uses numpy-style factories for constructing Tensors rather than directly invoking Tensor constructors."
   ]
  },
  {
   "cell_type": "markdown",
   "metadata": {},
   "source": [
    "## How will I learn PyTorch?\n",
    "\n",
    "Justin Johnson has made an excellent [tutorial](https://github.com/jcjohnson/pytorch-examples) for PyTorch. \n",
    "\n",
    "You can also find the detailed [API doc](http://pytorch.org/docs/stable/index.html) here. If you have other questions that are not addressed by the API docs, the [PyTorch forum](https://discuss.pytorch.org/) is a much better place to ask than StackOverflow.\n",
    "\n",
    "\n",
    "# Table of Contents\n",
    "\n",
    "This assignment has 5 parts. You will learn PyTorch on different levels of abstractions, which will help you understand it better and prepare you for the final project. \n",
    "\n",
    "1. Preparation: we will use CIFAR-10 dataset.\n",
    "2. Barebones PyTorch: we will work directly with the lowest-level PyTorch Tensors. \n",
    "3. PyTorch Module API: we will use `nn.Module` to define arbitrary neural network architecture. \n",
    "4. PyTorch Sequential API: we will use `nn.Sequential` to define a linear feed-forward network very conveniently. \n",
    "5. CIFAR-10 open-ended challenge: please implement your own network to get as high accuracy as possible on CIFAR-10. You can experiment with any layer, optimizer, hyperparameters or other advanced features. \n",
    "\n",
    "Here is a table of comparison:\n",
    "\n",
    "| API           | Flexibility | Convenience |\n",
    "|---------------|-------------|-------------|\n",
    "| Barebone      | High        | Low         |\n",
    "| `nn.Module`     | High        | Medium      |\n",
    "| `nn.Sequential` | Low         | High        |"
   ]
  },
  {
   "cell_type": "markdown",
   "metadata": {},
   "source": [
    "# Part I. Preparation\n",
    "\n",
    "First, we load the CIFAR-10 dataset. This might take a couple minutes the first time you do it, but the files should stay cached after that.\n",
    "\n",
    "In previous parts of the assignment we had to write our own code to download the CIFAR-10 dataset, preprocess it, and iterate through it in minibatches; PyTorch provides convenient tools to automate this process for us."
   ]
  },
  {
   "cell_type": "code",
   "execution_count": 1,
   "metadata": {},
   "outputs": [],
   "source": [
    "import torch\n",
    "import torch.nn as nn\n",
    "import torch.optim as optim\n",
    "from torch.utils.data import DataLoader\n",
    "from torch.utils.data import sampler\n",
    "\n",
    "import torchvision.datasets as dset\n",
    "import torchvision.transforms as T\n",
    "\n",
    "import numpy as np"
   ]
  },
  {
   "cell_type": "code",
   "execution_count": 3,
   "metadata": {},
   "outputs": [
    {
     "name": "stdout",
     "output_type": "stream",
     "text": [
      "Files already downloaded and verified\n",
      "Files already downloaded and verified\n",
      "Files already downloaded and verified\n"
     ]
    }
   ],
   "source": [
    "NUM_TRAIN = 49000\n",
    "\n",
    "# The torchvision.transforms package provides tools for preprocessing data\n",
    "# and for performing data augmentation; here we set up a transform to\n",
    "# preprocess the data by subtracting the mean RGB value and dividing by the\n",
    "# standard deviation of each RGB value; we've hardcoded the mean and std.\n",
    "transform = T.Compose([\n",
    "                T.ToTensor(),\n",
    "                T.Normalize((0.4914, 0.4822, 0.4465), (0.2023, 0.1994, 0.2010))\n",
    "            ])\n",
    "\n",
    "# We set up a Dataset object for each split (train / val / test); Datasets load\n",
    "# training examples one at a time, so we wrap each Dataset in a DataLoader which\n",
    "# iterates through the Dataset and forms minibatches. We divide the CIFAR-10\n",
    "# training set into train and val sets by passing a Sampler object to the\n",
    "# DataLoader telling how it should sample from the underlying Dataset.\n",
    "cifar10_train = dset.CIFAR10('./cs231n/datasets', train=True, download=True,\n",
    "                             transform=transform)\n",
    "loader_train = DataLoader(cifar10_train, batch_size=64, \n",
    "                          sampler=sampler.SubsetRandomSampler(range(NUM_TRAIN)))\n",
    "\n",
    "cifar10_val = dset.CIFAR10('./cs231n/datasets', train=True, download=True,\n",
    "                           transform=transform)\n",
    "loader_val = DataLoader(cifar10_val, batch_size=64, \n",
    "                        sampler=sampler.SubsetRandomSampler(range(NUM_TRAIN, 50000)))\n",
    "\n",
    "cifar10_test = dset.CIFAR10('./cs231n/datasets', train=False, download=True, \n",
    "                            transform=transform)\n",
    "loader_test = DataLoader(cifar10_test, batch_size=64)"
   ]
  },
  {
   "cell_type": "markdown",
   "metadata": {},
   "source": [
    "You have an option to **use GPU by setting the flag to True below**. It is not necessary to use GPU for this assignment. Note that if your computer does not have CUDA enabled, `torch.cuda.is_available()` will return False and this notebook will fallback to CPU mode.\n",
    "\n",
    "The global variables `dtype` and `device` will control the data types throughout this assignment. "
   ]
  },
  {
   "cell_type": "code",
   "execution_count": 4,
   "metadata": {},
   "outputs": [
    {
     "name": "stdout",
     "output_type": "stream",
     "text": [
      "using device: cpu\n"
     ]
    }
   ],
   "source": [
    "USE_GPU = True\n",
    "\n",
    "dtype = torch.float32 # we will be using float throughout this tutorial\n",
    "\n",
    "if USE_GPU and torch.cuda.is_available():\n",
    "    device = torch.device('cuda')\n",
    "else:\n",
    "    device = torch.device('cpu')\n",
    "\n",
    "# Constant to control how frequently we print train loss\n",
    "print_every = 100\n",
    "\n",
    "print('using device:', device)"
   ]
  },
  {
   "cell_type": "markdown",
   "metadata": {},
   "source": [
    "# Part II. Barebones PyTorch\n",
    "\n",
    "PyTorch ships with high-level APIs to help us define model architectures conveniently, which we will cover in Part II of this tutorial. In this section, we will start with the barebone PyTorch elements to understand the autograd engine better. After this exercise, you will come to appreciate the high-level model API more.\n",
    "\n",
    "We will start with a simple fully-connected ReLU network with two hidden layers and no biases for CIFAR classification. \n",
    "This implementation computes the forward pass using operations on PyTorch Tensors, and uses PyTorch autograd to compute gradients. It is important that you understand every line, because you will write a harder version after the example.\n",
    "\n",
    "When we create a PyTorch Tensor with `requires_grad=True`, then operations involving that Tensor will not just compute values; they will also build up a computational graph in the background, allowing us to easily backpropagate through the graph to compute gradients of some Tensors with respect to a downstream loss. Concretely if x is a Tensor with `x.requires_grad == True` then after backpropagation `x.grad` will be another Tensor holding the gradient of x with respect to the scalar loss at the end."
   ]
  },
  {
   "cell_type": "markdown",
   "metadata": {},
   "source": [
    "### PyTorch Tensors: Flatten Function\n",
    "A PyTorch Tensor is conceptionally similar to a numpy array: it is an n-dimensional grid of numbers, and like numpy PyTorch provides many functions to efficiently operate on Tensors. As a simple example, we provide a `flatten` function below which reshapes image data for use in a fully-connected neural network.\n",
    "\n",
    "Recall that image data is typically stored in a Tensor of shape N x C x H x W, where:\n",
    "\n",
    "* N is the number of datapoints\n",
    "* C is the number of channels\n",
    "* H is the height of the intermediate feature map in pixels\n",
    "* W is the height of the intermediate feature map in pixels\n",
    "\n",
    "This is the right way to represent the data when we are doing something like a 2D convolution, that needs spatial understanding of where the intermediate features are relative to each other. When we use fully connected affine layers to process the image, however, we want each datapoint to be represented by a single vector -- it's no longer useful to segregate the different channels, rows, and columns of the data. So, we use a \"flatten\" operation to collapse the `C x H x W` values per representation into a single long vector. The flatten function below first reads in the N, C, H, and W values from a given batch of data, and then returns a \"view\" of that data. \"View\" is analogous to numpy's \"reshape\" method: it reshapes x's dimensions to be N x ??, where ?? is allowed to be anything (in this case, it will be C x H x W, but we don't need to specify that explicitly). "
   ]
  },
  {
   "cell_type": "code",
   "execution_count": 5,
   "metadata": {},
   "outputs": [
    {
     "name": "stdout",
     "output_type": "stream",
     "text": [
      "Before flattening:  tensor([[[[ 0,  1],\n",
      "          [ 2,  3],\n",
      "          [ 4,  5]]],\n",
      "\n",
      "\n",
      "        [[[ 6,  7],\n",
      "          [ 8,  9],\n",
      "          [10, 11]]]])\n",
      "After flattening:  tensor([[ 0,  1,  2,  3,  4,  5],\n",
      "        [ 6,  7,  8,  9, 10, 11]])\n"
     ]
    }
   ],
   "source": [
    "def flatten(x):\n",
    "    N = x.shape[0] # read in N, C, H, W\n",
    "    return x.view(N, -1)  # \"flatten\" the C * H * W values into a single vector per image\n",
    "\n",
    "def test_flatten():\n",
    "    x = torch.arange(12).view(2, 1, 3, 2)\n",
    "    print('Before flattening: ', x)\n",
    "    print('After flattening: ', flatten(x))\n",
    "\n",
    "test_flatten()"
   ]
  },
  {
   "cell_type": "markdown",
   "metadata": {},
   "source": [
    "### Barebones PyTorch: Two-Layer Network\n",
    "\n",
    "Here we define a function `two_layer_fc` which performs the forward pass of a two-layer fully-connected ReLU network on a batch of image data. After defining the forward pass we check that it doesn't crash and that it produces outputs of the right shape by running zeros through the network.\n",
    "\n",
    "You don't have to write any code here, but it's important that you read and understand the implementation."
   ]
  },
  {
   "cell_type": "code",
   "execution_count": 6,
   "metadata": {},
   "outputs": [
    {
     "name": "stdout",
     "output_type": "stream",
     "text": [
      "torch.Size([64, 10])\n"
     ]
    }
   ],
   "source": [
    "import torch.nn.functional as F  # useful stateless functions\n",
    "\n",
    "def two_layer_fc(x, params):\n",
    "    \"\"\"\n",
    "    A fully-connected neural networks; the architecture is:\n",
    "    NN is fully connected -> ReLU -> fully connected layer.\n",
    "    Note that this function only defines the forward pass; \n",
    "    PyTorch will take care of the backward pass for us.\n",
    "    \n",
    "    The input to the network will be a minibatch of data, of shape\n",
    "    (N, d1, ..., dM) where d1 * ... * dM = D. The hidden layer will have H units,\n",
    "    and the output layer will produce scores for C classes.\n",
    "    \n",
    "    Inputs:\n",
    "    - x: A PyTorch Tensor of shape (N, d1, ..., dM) giving a minibatch of\n",
    "      input data.\n",
    "    - params: A list [w1, w2] of PyTorch Tensors giving weights for the network;\n",
    "      w1 has shape (D, H) and w2 has shape (H, C).\n",
    "    \n",
    "    Returns:\n",
    "    - scores: A PyTorch Tensor of shape (N, C) giving classification scores for\n",
    "      the input data x.\n",
    "    \"\"\"\n",
    "    # first we flatten the image\n",
    "    x = flatten(x)  # shape: [batch_size, C x H x W]\n",
    "    \n",
    "    w1, w2 = params\n",
    "    \n",
    "    # Forward pass: compute predicted y using operations on Tensors. Since w1 and\n",
    "    # w2 have requires_grad=True, operations involving these Tensors will cause\n",
    "    # PyTorch to build a computational graph, allowing automatic computation of\n",
    "    # gradients. Since we are no longer implementing the backward pass by hand we\n",
    "    # don't need to keep references to intermediate values.\n",
    "    # you can also use `.clamp(min=0)`, equivalent to F.relu()\n",
    "    x = F.relu(x.mm(w1))\n",
    "    x = x.mm(w2)\n",
    "    return x\n",
    "    \n",
    "\n",
    "def two_layer_fc_test():\n",
    "    hidden_layer_size = 42\n",
    "    x = torch.zeros((64, 50), dtype=dtype)  # minibatch size 64, feature dimension 50\n",
    "    w1 = torch.zeros((50, hidden_layer_size), dtype=dtype)\n",
    "    w2 = torch.zeros((hidden_layer_size, 10), dtype=dtype)\n",
    "    scores = two_layer_fc(x, [w1, w2])\n",
    "    print(scores.size())  # you should see [64, 10]\n",
    "\n",
    "two_layer_fc_test()"
   ]
  },
  {
   "cell_type": "markdown",
   "metadata": {},
   "source": [
    "### Barebones PyTorch: Three-Layer ConvNet\n",
    "\n",
    "Here you will complete the implementation of the function `three_layer_convnet`, which will perform the forward pass of a three-layer convolutional network. Like above, we can immediately test our implementation by passing zeros through the network. The network should have the following architecture:\n",
    "\n",
    "1. A convolutional layer (with bias) with `channel_1` filters, each with shape `KW1 x KH1`, and zero-padding of two\n",
    "2. ReLU nonlinearity\n",
    "3. A convolutional layer (with bias) with `channel_2` filters, each with shape `KW2 x KH2`, and zero-padding of one\n",
    "4. ReLU nonlinearity\n",
    "5. Fully-connected layer with bias, producing scores for C classes.\n",
    "\n",
    "**HINT**: For convolutions: http://pytorch.org/docs/stable/nn.html#torch.nn.functional.conv2d; pay attention to the shapes of convolutional filters!"
   ]
  },
  {
   "cell_type": "code",
   "execution_count": 7,
   "metadata": {},
   "outputs": [],
   "source": [
    "def three_layer_convnet(x, params):\n",
    "    \"\"\"\n",
    "    Performs the forward pass of a three-layer convolutional network with the\n",
    "    architecture defined above.\n",
    "\n",
    "    Inputs:\n",
    "    - x: A PyTorch Tensor of shape (N, 3, H, W) giving a minibatch of images\n",
    "    - params: A list of PyTorch Tensors giving the weights and biases for the\n",
    "      network; should contain the following:\n",
    "      - conv_w1: PyTorch Tensor of shape (channel_1, 3, KH1, KW1) giving weights\n",
    "        for the first convolutional layer\n",
    "      - conv_b1: PyTorch Tensor of shape (channel_1,) giving biases for the first\n",
    "        convolutional layer\n",
    "      - conv_w2: PyTorch Tensor of shape (channel_2, channel_1, KH2, KW2) giving\n",
    "        weights for the second convolutional layer\n",
    "      - conv_b2: PyTorch Tensor of shape (channel_2,) giving biases for the second\n",
    "        convolutional layer\n",
    "      - fc_w: PyTorch Tensor giving weights for the fully-connected layer. Can you\n",
    "        figure out what the shape should be?\n",
    "      - fc_b: PyTorch Tensor giving biases for the fully-connected layer. Can you\n",
    "        figure out what the shape should be?\n",
    "    \n",
    "    Returns:\n",
    "    - scores: PyTorch Tensor of shape (N, C) giving classification scores for x\n",
    "    \"\"\"\n",
    "    conv_w1, conv_b1, conv_w2, conv_b2, fc_w, fc_b = params\n",
    "    scores = None\n",
    "    ################################################################################\n",
    "    # TODO: Implement the forward pass for the three-layer ConvNet.                #\n",
    "    ################################################################################\n",
    "    out_conv1 = F.relu(F.conv2d(x, conv_w1, conv_b1, padding=2))\n",
    "    out_conv2 = F.relu(F.conv2d(out_conv1, conv_w2, conv_b2, padding=1))\n",
    "    \n",
    "    fc_input = flatten(out_conv2)\n",
    "    scores = fc_input.mm(fc_w) + fc_b\n",
    "    ################################################################################\n",
    "    #                                 END OF YOUR CODE                             #\n",
    "    ################################################################################\n",
    "    return scores"
   ]
  },
  {
   "cell_type": "markdown",
   "metadata": {},
   "source": [
    "After defining the forward pass of the ConvNet above, run the following cell to test your implementation.\n",
    "\n",
    "When you run this function, scores should have shape (64, 10)."
   ]
  },
  {
   "cell_type": "code",
   "execution_count": 8,
   "metadata": {},
   "outputs": [
    {
     "name": "stdout",
     "output_type": "stream",
     "text": [
      "torch.Size([64, 10])\n"
     ]
    }
   ],
   "source": [
    "def three_layer_convnet_test():\n",
    "    x = torch.zeros((64, 3, 32, 32), dtype=dtype)  # minibatch size 64, image size [3, 32, 32]\n",
    "\n",
    "    conv_w1 = torch.zeros((6, 3, 5, 5), dtype=dtype)  # [out_channel, in_channel, kernel_H, kernel_W]\n",
    "    conv_b1 = torch.zeros((6,))  # out_channel\n",
    "    conv_w2 = torch.zeros((9, 6, 3, 3), dtype=dtype)  # [out_channel, in_channel, kernel_H, kernel_W]\n",
    "    conv_b2 = torch.zeros((9,))  # out_channel\n",
    "\n",
    "    # you must calculate the shape of the tensor after two conv layers, before the fully-connected layer\n",
    "    fc_w = torch.zeros((9 * 32 * 32, 10))\n",
    "    fc_b = torch.zeros(10)\n",
    "\n",
    "    scores = three_layer_convnet(x, [conv_w1, conv_b1, conv_w2, conv_b2, fc_w, fc_b])\n",
    "    print(scores.size())  # you should see [64, 10]\n",
    "three_layer_convnet_test()"
   ]
  },
  {
   "cell_type": "markdown",
   "metadata": {},
   "source": [
    "### Barebones PyTorch: Initialization\n",
    "Let's write a couple utility methods to initialize the weight matrices for our models.\n",
    "\n",
    "- `random_weight(shape)` initializes a weight tensor with the Kaiming normalization method.\n",
    "- `zero_weight(shape)` initializes a weight tensor with all zeros. Useful for instantiating bias parameters.\n",
    "\n",
    "The `random_weight` function uses the Kaiming normal initialization method, described in:\n",
    "\n",
    "He et al, *Delving Deep into Rectifiers: Surpassing Human-Level Performance on ImageNet Classification*, ICCV 2015, https://arxiv.org/abs/1502.01852"
   ]
  },
  {
   "cell_type": "code",
   "execution_count": 9,
   "metadata": {},
   "outputs": [
    {
     "data": {
      "text/plain": [
       "tensor([[ 0.2193, -0.2646, -0.8754, -0.2606, -1.9957],\n",
       "        [ 1.6392,  0.1286, -0.0422, -0.4387, -0.0785],\n",
       "        [ 0.3782, -0.4146,  1.0210,  0.6629, -1.0485]], requires_grad=True)"
      ]
     },
     "execution_count": 9,
     "metadata": {},
     "output_type": "execute_result"
    }
   ],
   "source": [
    "def random_weight(shape):\n",
    "    \"\"\"\n",
    "    Create random Tensors for weights; setting requires_grad=True means that we\n",
    "    want to compute gradients for these Tensors during the backward pass.\n",
    "    We use Kaiming normalization: sqrt(2 / fan_in)\n",
    "    \"\"\"\n",
    "    if len(shape) == 2:  # FC weight\n",
    "        fan_in = shape[0]\n",
    "    else:\n",
    "        fan_in = np.prod(shape[1:]) # conv weight [out_channel, in_channel, kH, kW]\n",
    "    # randn is standard normal distribution generator. \n",
    "    w = torch.randn(shape, device=device, dtype=dtype) * np.sqrt(2. / fan_in)\n",
    "    w.requires_grad = True\n",
    "    return w\n",
    "\n",
    "def zero_weight(shape):\n",
    "    return torch.zeros(shape, device=device, dtype=dtype, requires_grad=True)\n",
    "\n",
    "# create a weight of shape [3 x 5]\n",
    "# you should see the type `torch.cuda.FloatTensor` if you use GPU. \n",
    "# Otherwise it should be `torch.FloatTensor`\n",
    "random_weight((3, 5))"
   ]
  },
  {
   "cell_type": "markdown",
   "metadata": {},
   "source": [
    "### Barebones PyTorch: Check Accuracy\n",
    "When training the model we will use the following function to check the accuracy of our model on the training or validation sets.\n",
    "\n",
    "When checking accuracy we don't need to compute any gradients; as a result we don't need PyTorch to build a computational graph for us when we compute scores. To prevent a graph from being built we scope our computation under a `torch.no_grad()` context manager."
   ]
  },
  {
   "cell_type": "code",
   "execution_count": 10,
   "metadata": {},
   "outputs": [],
   "source": [
    "def check_accuracy_part2(loader, model_fn, params):\n",
    "    \"\"\"\n",
    "    Check the accuracy of a classification model.\n",
    "    \n",
    "    Inputs:\n",
    "    - loader: A DataLoader for the data split we want to check\n",
    "    - model_fn: A function that performs the forward pass of the model,\n",
    "      with the signature scores = model_fn(x, params)\n",
    "    - params: List of PyTorch Tensors giving parameters of the model\n",
    "    \n",
    "    Returns: Nothing, but prints the accuracy of the model\n",
    "    \"\"\"\n",
    "    split = 'val' if loader.dataset.train else 'test'\n",
    "    print('Checking accuracy on the %s set' % split)\n",
    "    num_correct, num_samples = 0, 0\n",
    "    with torch.no_grad():\n",
    "        for x, y in loader:\n",
    "            x = x.to(device=device, dtype=dtype)  # move to device, e.g. GPU\n",
    "            y = y.to(device=device, dtype=torch.int64)\n",
    "            scores = model_fn(x, params)\n",
    "            _, preds = scores.max(1)\n",
    "            num_correct += (preds == y).sum()\n",
    "            num_samples += preds.size(0)\n",
    "        acc = float(num_correct) / num_samples\n",
    "        print('Got %d / %d correct (%.2f%%)' % (num_correct, num_samples, 100 * acc))"
   ]
  },
  {
   "cell_type": "markdown",
   "metadata": {},
   "source": [
    "### BareBones PyTorch: Training Loop\n",
    "We can now set up a basic training loop to train our network. We will train the model using stochastic gradient descent without momentum. We will use `torch.functional.cross_entropy` to compute the loss; you can [read about it here](http://pytorch.org/docs/stable/nn.html#cross-entropy).\n",
    "\n",
    "The training loop takes as input the neural network function, a list of initialized parameters (`[w1, w2]` in our example), and learning rate."
   ]
  },
  {
   "cell_type": "code",
   "execution_count": 11,
   "metadata": {},
   "outputs": [],
   "source": [
    "def train_part2(model_fn, params, learning_rate):\n",
    "    \"\"\"\n",
    "    Train a model on CIFAR-10.\n",
    "    \n",
    "    Inputs:\n",
    "    - model_fn: A Python function that performs the forward pass of the model.\n",
    "      It should have the signature scores = model_fn(x, params) where x is a\n",
    "      PyTorch Tensor of image data, params is a list of PyTorch Tensors giving\n",
    "      model weights, and scores is a PyTorch Tensor of shape (N, C) giving\n",
    "      scores for the elements in x.\n",
    "    - params: List of PyTorch Tensors giving weights for the model\n",
    "    - learning_rate: Python scalar giving the learning rate to use for SGD\n",
    "    \n",
    "    Returns: Nothing\n",
    "    \"\"\"\n",
    "    for t, (x, y) in enumerate(loader_train):\n",
    "        # Move the data to the proper device (GPU or CPU)\n",
    "        x = x.to(device=device, dtype=dtype)\n",
    "        y = y.to(device=device, dtype=torch.long)\n",
    "\n",
    "        # Forward pass: compute scores and loss\n",
    "        scores = model_fn(x, params)\n",
    "        loss = F.cross_entropy(scores, y)\n",
    "\n",
    "        # Backward pass: PyTorch figures out which Tensors in the computational\n",
    "        # graph has requires_grad=True and uses backpropagation to compute the\n",
    "        # gradient of the loss with respect to these Tensors, and stores the\n",
    "        # gradients in the .grad attribute of each Tensor.\n",
    "        loss.backward()\n",
    "\n",
    "        # Update parameters. We don't want to backpropagate through the\n",
    "        # parameter updates, so we scope the updates under a torch.no_grad()\n",
    "        # context manager to prevent a computational graph from being built.\n",
    "        with torch.no_grad():\n",
    "            for w in params:\n",
    "                w -= learning_rate * w.grad\n",
    "\n",
    "                # Manually zero the gradients after running the backward pass\n",
    "                w.grad.zero_()\n",
    "\n",
    "        if t % print_every == 0:\n",
    "            print('Iteration %d, loss = %.4f' % (t, loss.item()))\n",
    "            check_accuracy_part2(loader_val, model_fn, params)\n",
    "            print()"
   ]
  },
  {
   "cell_type": "markdown",
   "metadata": {},
   "source": [
    "### BareBones PyTorch: Train a Two-Layer Network\n",
    "Now we are ready to run the training loop. We need to explicitly allocate tensors for the fully connected weights, `w1` and `w2`. \n",
    "\n",
    "Each minibatch of CIFAR has 64 examples, so the tensor shape is `[64, 3, 32, 32]`. \n",
    "\n",
    "After flattening, `x` shape should be `[64, 3 * 32 * 32]`. This will be the size of the first dimension of `w1`. \n",
    "The second dimension of `w1` is the hidden layer size, which will also be the first dimension of `w2`. \n",
    "\n",
    "Finally, the output of the network is a 10-dimensional vector that represents the probability distribution over 10 classes. \n",
    "\n",
    "You don't need to tune any hyperparameters but you should see accuracies above 40% after training for one epoch."
   ]
  },
  {
   "cell_type": "code",
   "execution_count": 11,
   "metadata": {},
   "outputs": [
    {
     "name": "stdout",
     "output_type": "stream",
     "text": [
      "Iteration 0, loss = 4.2596\n",
      "Checking accuracy on the val set\n",
      "Got 140 / 1000 correct (14.00%)\n",
      "\n",
      "Iteration 100, loss = 2.5108\n",
      "Checking accuracy on the val set\n",
      "Got 287 / 1000 correct (28.70%)\n",
      "\n",
      "Iteration 200, loss = 2.2679\n",
      "Checking accuracy on the val set\n",
      "Got 376 / 1000 correct (37.60%)\n",
      "\n",
      "Iteration 300, loss = 1.6180\n",
      "Checking accuracy on the val set\n",
      "Got 443 / 1000 correct (44.30%)\n",
      "\n",
      "Iteration 400, loss = 2.1447\n",
      "Checking accuracy on the val set\n",
      "Got 390 / 1000 correct (39.00%)\n",
      "\n",
      "Iteration 500, loss = 1.4793\n",
      "Checking accuracy on the val set\n",
      "Got 430 / 1000 correct (43.00%)\n",
      "\n",
      "Iteration 600, loss = 1.2377\n",
      "Checking accuracy on the val set\n",
      "Got 447 / 1000 correct (44.70%)\n",
      "\n",
      "Iteration 700, loss = 1.6790\n",
      "Checking accuracy on the val set\n",
      "Got 448 / 1000 correct (44.80%)\n",
      "\n"
     ]
    }
   ],
   "source": [
    "hidden_layer_size = 4000\n",
    "learning_rate = 1e-2\n",
    "\n",
    "w1 = random_weight((3 * 32 * 32, hidden_layer_size))\n",
    "w2 = random_weight((hidden_layer_size, 10))\n",
    "\n",
    "train_part2(two_layer_fc, [w1, w2], learning_rate)"
   ]
  },
  {
   "cell_type": "markdown",
   "metadata": {},
   "source": [
    "### BareBones PyTorch: Training a ConvNet\n",
    "\n",
    "In the below you should use the functions defined above to train a three-layer convolutional network on CIFAR. The network should have the following architecture:\n",
    "\n",
    "1. Convolutional layer (with bias) with 32 5x5 filters, with zero-padding of 2\n",
    "2. ReLU\n",
    "3. Convolutional layer (with bias) with 16 3x3 filters, with zero-padding of 1\n",
    "4. ReLU\n",
    "5. Fully-connected layer (with bias) to compute scores for 10 classes\n",
    "\n",
    "You should initialize your weight matrices using the `random_weight` function defined above, and you should initialize your bias vectors using the `zero_weight` function above.\n",
    "\n",
    "You don't need to tune any hyperparameters, but if everything works correctly you should achieve an accuracy above 42% after one epoch."
   ]
  },
  {
   "cell_type": "code",
   "execution_count": 12,
   "metadata": {},
   "outputs": [
    {
     "name": "stdout",
     "output_type": "stream",
     "text": [
      "Iteration 0, loss = 3.0742\n",
      "Checking accuracy on the val set\n",
      "Got 137 / 1000 correct (13.70%)\n",
      "\n",
      "Iteration 100, loss = 1.6988\n",
      "Checking accuracy on the val set\n",
      "Got 365 / 1000 correct (36.50%)\n",
      "\n",
      "Iteration 200, loss = 1.8670\n",
      "Checking accuracy on the val set\n",
      "Got 398 / 1000 correct (39.80%)\n",
      "\n",
      "Iteration 300, loss = 1.6430\n",
      "Checking accuracy on the val set\n",
      "Got 424 / 1000 correct (42.40%)\n",
      "\n",
      "Iteration 400, loss = 1.7903\n",
      "Checking accuracy on the val set\n",
      "Got 455 / 1000 correct (45.50%)\n",
      "\n",
      "Iteration 500, loss = 1.6408\n",
      "Checking accuracy on the val set\n",
      "Got 466 / 1000 correct (46.60%)\n",
      "\n",
      "Iteration 600, loss = 1.5004\n",
      "Checking accuracy on the val set\n",
      "Got 450 / 1000 correct (45.00%)\n",
      "\n",
      "Iteration 700, loss = 1.5323\n",
      "Checking accuracy on the val set\n",
      "Got 469 / 1000 correct (46.90%)\n",
      "\n"
     ]
    }
   ],
   "source": [
    "learning_rate = 3e-3\n",
    "\n",
    "channel_1 = 32\n",
    "channel_2 = 16\n",
    "\n",
    "conv_w1 = None\n",
    "conv_b1 = None\n",
    "conv_w2 = None\n",
    "conv_b2 = None\n",
    "fc_w = None\n",
    "fc_b = None\n",
    "\n",
    "################################################################################\n",
    "# TODO: Initialize the parameters of a three-layer ConvNet.                    #\n",
    "################################################################################\n",
    "conv_w1 = random_weight((channel_1, 3, 5, 5))\n",
    "conv_b1 = zero_weight(channel_1)\n",
    "# cifar shape [64, 3, 32, 32]\n",
    "# out_size = n - f / stride + 1 \n",
    "# NB: need to add zero padding\n",
    "conv_1_output_size = (32 + 4 - 5) + 1 \n",
    "\n",
    "conv_w2 = random_weight((channel_2, channel_1, 3, 3))\n",
    "conv_b2 = zero_weight(channel_2)\n",
    "conv_2_output_size = (conv_1_output_size + 2 - 3) + 1\n",
    "\n",
    "fc_w = random_weight((channel_2 * conv_2_output_size**2, 10))\n",
    "fc_b = zero_weight(10)\n",
    "################################################################################\n",
    "#                                 END OF YOUR CODE                             #\n",
    "################################################################################\n",
    "\n",
    "params = [conv_w1, conv_b1, conv_w2, conv_b2, fc_w, fc_b]\n",
    "train_part2(three_layer_convnet, params, learning_rate)"
   ]
  },
  {
   "cell_type": "markdown",
   "metadata": {},
   "source": [
    "# Part III. PyTorch Module API\n",
    "\n",
    "Barebone PyTorch requires that we track all the parameter tensors by hand. This is fine for small networks with a few tensors, but it would be extremely inconvenient and error-prone to track tens or hundreds of tensors in larger networks.\n",
    "\n",
    "PyTorch provides the `nn.Module` API for you to define arbitrary network architectures, while tracking every learnable parameters for you. In Part II, we implemented SGD ourselves. PyTorch also provides the `torch.optim` package that implements all the common optimizers, such as RMSProp, Adagrad, and Adam. It even supports approximate second-order methods like L-BFGS! You can refer to the [doc](http://pytorch.org/docs/master/optim.html) for the exact specifications of each optimizer.\n",
    "\n",
    "To use the Module API, follow the steps below:\n",
    "\n",
    "1. Subclass `nn.Module`. Give your network class an intuitive name like `TwoLayerFC`. \n",
    "\n",
    "2. In the constructor `__init__()`, define all the layers you need as class attributes. Layer objects like `nn.Linear` and `nn.Conv2d` are themselves `nn.Module` subclasses and contain learnable parameters, so that you don't have to instantiate the raw tensors yourself. `nn.Module` will track these internal parameters for you. Refer to the [doc](http://pytorch.org/docs/master/nn.html) to learn more about the dozens of builtin layers. **Warning**: don't forget to call the `super().__init__()` first!\n",
    "\n",
    "3. In the `forward()` method, define the *connectivity* of your network. You should use the attributes defined in `__init__` as function calls that take tensor as input and output the \"transformed\" tensor. Do *not* create any new layers with learnable parameters in `forward()`! All of them must be declared upfront in `__init__`. \n",
    "\n",
    "After you define your Module subclass, you can instantiate it as an object and call it just like the NN forward function in part II.\n",
    "\n",
    "### Module API: Two-Layer Network\n",
    "Here is a concrete example of a 2-layer fully connected network:"
   ]
  },
  {
   "cell_type": "code",
   "execution_count": 13,
   "metadata": {},
   "outputs": [
    {
     "name": "stdout",
     "output_type": "stream",
     "text": [
      "torch.Size([64, 10])\n"
     ]
    }
   ],
   "source": [
    "class TwoLayerFC(nn.Module):\n",
    "    def __init__(self, input_size, hidden_size, num_classes):\n",
    "        super().__init__()\n",
    "        # assign layer objects to class attributes\n",
    "        self.fc1 = nn.Linear(input_size, hidden_size)\n",
    "        # nn.init package contains convenient initialization methods\n",
    "        # http://pytorch.org/docs/master/nn.html#torch-nn-init \n",
    "        nn.init.kaiming_normal_(self.fc1.weight)\n",
    "        self.fc2 = nn.Linear(hidden_size, num_classes)\n",
    "        nn.init.kaiming_normal_(self.fc2.weight)\n",
    "    \n",
    "    def forward(self, x):\n",
    "        # forward always defines connectivity\n",
    "        x = flatten(x)\n",
    "        scores = self.fc2(F.relu(self.fc1(x)))\n",
    "        return scores\n",
    "\n",
    "def test_TwoLayerFC():\n",
    "    input_size = 50\n",
    "    x = torch.zeros((64, input_size), dtype=dtype)  # minibatch size 64, feature dimension 50\n",
    "    model = TwoLayerFC(input_size, 42, 10)\n",
    "    scores = model(x)\n",
    "    print(scores.size())  # you should see [64, 10]\n",
    "test_TwoLayerFC()"
   ]
  },
  {
   "cell_type": "markdown",
   "metadata": {},
   "source": [
    "### Module API: Three-Layer ConvNet\n",
    "It's your turn to implement a 3-layer ConvNet followed by a fully connected layer. The network architecture should be the same as in Part II:\n",
    "\n",
    "1. Convolutional layer with `channel_1` 5x5 filters with zero-padding of 2\n",
    "2. ReLU\n",
    "3. Convolutional layer with `channel_2` 3x3 filters with zero-padding of 1\n",
    "4. ReLU\n",
    "5. Fully-connected layer to `num_classes` classes\n",
    "\n",
    "You should initialize the weight matrices of the model using the Kaiming normal initialization method.\n",
    "\n",
    "**HINT**: http://pytorch.org/docs/stable/nn.html#conv2d\n",
    "\n",
    "After you implement the three-layer ConvNet, the `test_ThreeLayerConvNet` function will run your implementation; it should print `(64, 10)` for the shape of the output scores."
   ]
  },
  {
   "cell_type": "code",
   "execution_count": 14,
   "metadata": {},
   "outputs": [
    {
     "name": "stdout",
     "output_type": "stream",
     "text": [
      "torch.Size([64, 10])\n"
     ]
    }
   ],
   "source": [
    "class ThreeLayerConvNet(nn.Module):\n",
    "    def __init__(self, in_channel, channel_1, channel_2, num_classes):\n",
    "        super().__init__()\n",
    "        ########################################################################\n",
    "        # TODO: Set up the layers you need for a three-layer ConvNet with the  #\n",
    "        # architecture defined above.                                          #\n",
    "        ########################################################################\n",
    "        self.conv1 = nn.Conv2d(in_channel, channel_1, kernel_size=5, padding=2)\n",
    "        nn.init.kaiming_normal_(self.conv1.weight)\n",
    "        \n",
    "        self.conv2 = nn.Conv2d(channel_1, channel_2, kernel_size=3, padding=1)\n",
    "        nn.init.kaiming_normal_(self.conv2.weight)\n",
    "        \n",
    "        conv_1_output_size = (32 + 4 - 5) + 1 \n",
    "        conv_2_output_size = (conv_1_output_size + 2 - 3) + 1\n",
    "\n",
    "        self.fc = nn.Linear(channel_2 * conv_2_output_size**2, 10)\n",
    "        nn.init.kaiming_normal_(self.fc.weight)\n",
    "        ########################################################################\n",
    "        #                          END OF YOUR CODE                            #       \n",
    "        ########################################################################\n",
    "\n",
    "    def forward(self, x):\n",
    "        scores = None\n",
    "        ########################################################################\n",
    "        # TODO: Implement the forward function for a 3-layer ConvNet. you      #\n",
    "        # should use the layers you defined in __init__ and specify the        #\n",
    "        # connectivity of those layers in forward()                            #\n",
    "        ########################################################################\n",
    "        conv1_out = F.relu(self.conv1(x))\n",
    "        conv2_out = F.relu(self.conv2(conv1_out))\n",
    "        \n",
    "        flattened_x = flatten(conv2_out)\n",
    "        scores = self.fc(flattened_x)\n",
    "        ########################################################################\n",
    "        #                             END OF YOUR CODE                         #\n",
    "        ########################################################################\n",
    "        return scores\n",
    "\n",
    "\n",
    "def test_ThreeLayerConvNet():\n",
    "    x = torch.zeros((64, 3, 32, 32), dtype=dtype)  # minibatch size 64, image size [3, 32, 32]\n",
    "    model = ThreeLayerConvNet(in_channel=3, channel_1=12, channel_2=8, num_classes=10)\n",
    "    scores = model(x)\n",
    "    print(scores.size())  # you should see [64, 10]\n",
    "test_ThreeLayerConvNet()"
   ]
  },
  {
   "cell_type": "markdown",
   "metadata": {},
   "source": [
    "### Module API: Check Accuracy\n",
    "Given the validation or test set, we can check the classification accuracy of a neural network. \n",
    "\n",
    "This version is slightly different from the one in part II. You don't manually pass in the parameters anymore."
   ]
  },
  {
   "cell_type": "code",
   "execution_count": 26,
   "metadata": {},
   "outputs": [],
   "source": [
    "def check_accuracy_part34(loader, model):\n",
    "    if loader.dataset.train:\n",
    "        print('Checking accuracy on validation set')\n",
    "    else:\n",
    "        print('Checking accuracy on test set')   \n",
    "    num_correct = 0\n",
    "    num_samples = 0\n",
    "    model.eval()  # set model to evaluation mode\n",
    "    with torch.no_grad():\n",
    "        for x, y in loader:\n",
    "            x = x.to(device=device, dtype=dtype)  # move to device, e.g. GPU\n",
    "            y = y.to(device=device, dtype=torch.long)\n",
    "            scores = model(x)\n",
    "            _, preds = scores.max(1)\n",
    "            num_correct += (preds == y).sum()\n",
    "            num_samples += preds.size(0)\n",
    "        acc = float(num_correct) / num_samples\n",
    "        print('Got %d / %d correct (%.2f)' % (num_correct, num_samples, 100 * acc))"
   ]
  },
  {
   "cell_type": "markdown",
   "metadata": {},
   "source": [
    "### Module API: Training Loop\n",
    "We also use a slightly different training loop. Rather than updating the values of the weights ourselves, we use an Optimizer object from the `torch.optim` package, which abstract the notion of an optimization algorithm and provides implementations of most of the algorithms commonly used to optimize neural networks."
   ]
  },
  {
   "cell_type": "code",
   "execution_count": 12,
   "metadata": {},
   "outputs": [],
   "source": [
    "def train_part34(model, optimizer, epochs=1):\n",
    "    \"\"\"\n",
    "    Train a model on CIFAR-10 using the PyTorch Module API.\n",
    "    \n",
    "    Inputs:\n",
    "    - model: A PyTorch Module giving the model to train.\n",
    "    - optimizer: An Optimizer object we will use to train the model\n",
    "    - epochs: (Optional) A Python integer giving the number of epochs to train for\n",
    "    \n",
    "    Returns: Nothing, but prints model accuracies during training.\n",
    "    \"\"\"\n",
    "    model = model.to(device=device)  # move the model parameters to CPU/GPU\n",
    "    for e in range(epochs):\n",
    "        for t, (x, y) in enumerate(loader_train):\n",
    "            model.train()  # put model to training mode\n",
    "            x = x.to(device=device, dtype=dtype)  # move to device, e.g. GPU\n",
    "            y = y.to(device=device, dtype=torch.long)\n",
    "\n",
    "            scores = model(x)\n",
    "            loss = F.cross_entropy(scores, y)\n",
    "\n",
    "            # Zero out all of the gradients for the variables which the optimizer\n",
    "            # will update.\n",
    "            optimizer.zero_grad()\n",
    "\n",
    "            # This is the backwards pass: compute the gradient of the loss with\n",
    "            # respect to each  parameter of the model.\n",
    "            loss.backward()\n",
    "\n",
    "            # Actually update the parameters of the model using the gradients\n",
    "            # computed by the backwards pass.\n",
    "            optimizer.step()\n",
    "\n",
    "            if t % print_every == 0:\n",
    "                print('Iteration %d, loss = %.4f' % (t, loss.item()))\n",
    "                check_accuracy_part34(loader_val, model)\n",
    "                print()"
   ]
  },
  {
   "cell_type": "markdown",
   "metadata": {},
   "source": [
    "### Module API: Train a Two-Layer Network\n",
    "Now we are ready to run the training loop. In contrast to part II, we don't explicitly allocate parameter tensors anymore.\n",
    "\n",
    "Simply pass the input size, hidden layer size, and number of classes (i.e. output size) to the constructor of `TwoLayerFC`. \n",
    "\n",
    "You also need to define an optimizer that tracks all the learnable parameters inside `TwoLayerFC`.\n",
    "\n",
    "You don't need to tune any hyperparameters, but you should see model accuracies above 40% after training for one epoch."
   ]
  },
  {
   "cell_type": "code",
   "execution_count": 17,
   "metadata": {},
   "outputs": [
    {
     "name": "stdout",
     "output_type": "stream",
     "text": [
      "Iteration 0, loss = 3.2887\n",
      "Checking accuracy on validation set\n",
      "Got 139 / 1000 correct (13.90)\n",
      "\n",
      "Iteration 100, loss = 2.7882\n",
      "Checking accuracy on validation set\n",
      "Got 334 / 1000 correct (33.40)\n",
      "\n",
      "Iteration 200, loss = 2.2386\n",
      "Checking accuracy on validation set\n",
      "Got 367 / 1000 correct (36.70)\n",
      "\n",
      "Iteration 300, loss = 1.7592\n",
      "Checking accuracy on validation set\n",
      "Got 385 / 1000 correct (38.50)\n",
      "\n",
      "Iteration 400, loss = 1.9881\n",
      "Checking accuracy on validation set\n",
      "Got 413 / 1000 correct (41.30)\n",
      "\n",
      "Iteration 500, loss = 1.6803\n",
      "Checking accuracy on validation set\n",
      "Got 445 / 1000 correct (44.50)\n",
      "\n",
      "Iteration 600, loss = 1.7083\n",
      "Checking accuracy on validation set\n",
      "Got 464 / 1000 correct (46.40)\n",
      "\n",
      "Iteration 700, loss = 1.6552\n",
      "Checking accuracy on validation set\n",
      "Got 432 / 1000 correct (43.20)\n",
      "\n"
     ]
    }
   ],
   "source": [
    "hidden_layer_size = 4000\n",
    "learning_rate = 1e-2\n",
    "model = TwoLayerFC(3 * 32 * 32, hidden_layer_size, 10)\n",
    "optimizer = optim.SGD(model.parameters(), lr=learning_rate)\n",
    "\n",
    "train_part34(model, optimizer)"
   ]
  },
  {
   "cell_type": "markdown",
   "metadata": {},
   "source": [
    "### Module API: Train a Three-Layer ConvNet\n",
    "You should now use the Module API to train a three-layer ConvNet on CIFAR. This should look very similar to training the two-layer network! You don't need to tune any hyperparameters, but you should achieve above above 45% after training for one epoch.\n",
    "\n",
    "You should train the model using stochastic gradient descent without momentum."
   ]
  },
  {
   "cell_type": "code",
   "execution_count": 18,
   "metadata": {},
   "outputs": [
    {
     "name": "stdout",
     "output_type": "stream",
     "text": [
      "Iteration 0, loss = 2.8447\n",
      "Checking accuracy on validation set\n",
      "Got 141 / 1000 correct (14.10)\n",
      "\n",
      "Iteration 100, loss = 1.8939\n",
      "Checking accuracy on validation set\n",
      "Got 345 / 1000 correct (34.50)\n",
      "\n",
      "Iteration 200, loss = 1.7033\n",
      "Checking accuracy on validation set\n",
      "Got 399 / 1000 correct (39.90)\n",
      "\n",
      "Iteration 300, loss = 1.6121\n",
      "Checking accuracy on validation set\n",
      "Got 421 / 1000 correct (42.10)\n",
      "\n",
      "Iteration 400, loss = 1.6622\n",
      "Checking accuracy on validation set\n",
      "Got 437 / 1000 correct (43.70)\n",
      "\n",
      "Iteration 500, loss = 1.5674\n",
      "Checking accuracy on validation set\n",
      "Got 479 / 1000 correct (47.90)\n",
      "\n",
      "Iteration 600, loss = 1.2620\n",
      "Checking accuracy on validation set\n",
      "Got 491 / 1000 correct (49.10)\n",
      "\n",
      "Iteration 700, loss = 1.7217\n",
      "Checking accuracy on validation set\n",
      "Got 493 / 1000 correct (49.30)\n",
      "\n"
     ]
    }
   ],
   "source": [
    "learning_rate = 3e-3\n",
    "channel_1 = 32\n",
    "channel_2 = 16\n",
    "\n",
    "model = None\n",
    "optimizer = None\n",
    "################################################################################\n",
    "# TODO: Instantiate your ThreeLayerConvNet model and a corresponding optimizer #\n",
    "################################################################################\n",
    "model = ThreeLayerConvNet(3, channel_1, channel_2, 10)\n",
    "optimizer = optim.SGD(model.parameters(), lr=learning_rate)\n",
    "################################################################################\n",
    "#                                 END OF YOUR CODE                             \n",
    "################################################################################\n",
    "\n",
    "train_part34(model, optimizer)"
   ]
  },
  {
   "cell_type": "markdown",
   "metadata": {},
   "source": [
    "# Part IV. PyTorch Sequential API\n",
    "\n",
    "Part III introduced the PyTorch Module API, which allows you to define arbitrary learnable layers and their connectivity. \n",
    "\n",
    "For simple models like a stack of feed forward layers, you still need to go through 3 steps: subclass `nn.Module`, assign layers to class attributes in `__init__`, and call each layer one by one in `forward()`. Is there a more convenient way? \n",
    "\n",
    "Fortunately, PyTorch provides a container Module called `nn.Sequential`, which merges the above steps into one. It is not as flexible as `nn.Module`, because you cannot specify more complex topology than a feed-forward stack, but it's good enough for many use cases.\n",
    "\n",
    "### Sequential API: Two-Layer Network\n",
    "Let's see how to rewrite our two-layer fully connected network example with `nn.Sequential`, and train it using the training loop defined above.\n",
    "\n",
    "Again, you don't need to tune any hyperparameters here, but you shoud achieve above 40% accuracy after one epoch of training."
   ]
  },
  {
   "cell_type": "code",
   "execution_count": 12,
   "metadata": {},
   "outputs": [],
   "source": [
    "# We need to wrap `flatten` function in a module in order to stack it\n",
    "# in nn.Sequential\n",
    "class Flatten(nn.Module):\n",
    "    def forward(self, x):\n",
    "        return flatten(x)\n",
    "\n",
    "hidden_layer_size = 4000\n",
    "learning_rate = 1e-2\n",
    "\n",
    "model = nn.Sequential(\n",
    "    Flatten(),\n",
    "    nn.Linear(3 * 32 * 32, hidden_layer_size),\n",
    "    nn.ReLU(),\n",
    "    nn.Linear(hidden_layer_size, 10),\n",
    ")\n",
    "\n",
    "# you can use Nesterov momentum in optim.SGD\n",
    "optimizer = optim.SGD(model.parameters(), lr=learning_rate,\n",
    "                     momentum=0.9, nesterov=True)\n",
    "\n",
    "# train_part34(model, optimizer)"
   ]
  },
  {
   "cell_type": "markdown",
   "metadata": {},
   "source": [
    "### Sequential API: Three-Layer ConvNet\n",
    "Here you should use `nn.Sequential` to define and train a three-layer ConvNet with the same architecture we used in Part III:\n",
    "\n",
    "1. Convolutional layer (with bias) with 32 5x5 filters, with zero-padding of 2\n",
    "2. ReLU\n",
    "3. Convolutional layer (with bias) with 16 3x3 filters, with zero-padding of 1\n",
    "4. ReLU\n",
    "5. Fully-connected layer (with bias) to compute scores for 10 classes\n",
    "\n",
    "You should initialize your weight matrices using the `random_weight` function defined above, and you should initialize your bias vectors using the `zero_weight` function above.\n",
    "\n",
    "You should optimize your model using stochastic gradient descent with Nesterov momentum 0.9.\n",
    "\n",
    "Again, you don't need to tune any hyperparameters but you should see accuracy above 55% after one epoch of training."
   ]
  },
  {
   "cell_type": "code",
   "execution_count": 20,
   "metadata": {},
   "outputs": [
    {
     "name": "stdout",
     "output_type": "stream",
     "text": [
      "Iteration 0, loss = 2.3004\n",
      "Checking accuracy on validation set\n",
      "Got 102 / 1000 correct (10.20)\n",
      "\n",
      "Iteration 100, loss = 1.5120\n",
      "Checking accuracy on validation set\n",
      "Got 462 / 1000 correct (46.20)\n",
      "\n",
      "Iteration 200, loss = 1.5550\n",
      "Checking accuracy on validation set\n",
      "Got 460 / 1000 correct (46.00)\n",
      "\n",
      "Iteration 300, loss = 1.3126\n",
      "Checking accuracy on validation set\n",
      "Got 516 / 1000 correct (51.60)\n",
      "\n",
      "Iteration 400, loss = 1.3100\n",
      "Checking accuracy on validation set\n",
      "Got 547 / 1000 correct (54.70)\n",
      "\n",
      "Iteration 500, loss = 1.2195\n",
      "Checking accuracy on validation set\n",
      "Got 552 / 1000 correct (55.20)\n",
      "\n",
      "Iteration 600, loss = 1.2123\n",
      "Checking accuracy on validation set\n",
      "Got 577 / 1000 correct (57.70)\n",
      "\n",
      "Iteration 700, loss = 1.2870\n",
      "Checking accuracy on validation set\n",
      "Got 579 / 1000 correct (57.90)\n",
      "\n"
     ]
    }
   ],
   "source": [
    "channel_1 = 32\n",
    "channel_2 = 16\n",
    "learning_rate = 1e-2\n",
    "\n",
    "model = None\n",
    "optimizer = None\n",
    "\n",
    "################################################################################\n",
    "# TODO: Rewrite the 2-layer ConvNet with bias from Part III with the           #\n",
    "# Sequential API.                                                              #\n",
    "################################################################################\n",
    "conv1 = nn.Conv2d(3, channel_1, kernel_size=5, padding=2)\n",
    "# nn.init.kaiming_normal_(conv1.weight)\n",
    "# conv1.weight.data = random_weight((channel_1, 3, 5, 5))\n",
    "\n",
    "conv2 = nn.Conv2d(channel_1, channel_2, kernel_size=3, padding=1)\n",
    "# nn.init.kaiming_normal_(conv2.weight)\n",
    "# conv2.weight.data = random_weight((channel_2, channel_1, 3, 3))\n",
    "\n",
    "conv_1_output_size = (32 + 4 - 5) + 1 \n",
    "conv_2_output_size = (conv_1_output_size + 2 - 3) + 1\n",
    "flattened_size = channel_2 * conv_2_output_size**2\n",
    "fc = nn.Linear(flattened_size, 10)\n",
    "# nn.init.kaiming_normal_(fc.weight)\n",
    "# fc.weight.data = random_weight((10, flattened_size))\n",
    "        \n",
    "model = nn.Sequential(\n",
    "    conv1,\n",
    "    nn.ReLU(),\n",
    "    conv2,\n",
    "    nn.ReLU(),\n",
    "    Flatten(),\n",
    "    fc\n",
    ")\n",
    "\n",
    "# you can use Nesterov momentum in optim.SGD\n",
    "optimizer = optim.SGD(model.parameters(), lr=learning_rate,\n",
    "                     momentum=0.9, nesterov=True)\n",
    "\n",
    "################################################################################\n",
    "#                                 END OF YOUR CODE                             \n",
    "################################################################################\n",
    "\n",
    "train_part34(model, optimizer)"
   ]
  },
  {
   "cell_type": "markdown",
   "metadata": {},
   "source": [
    "# Part V. CIFAR-10 open-ended challenge\n",
    "\n",
    "In this section, you can experiment with whatever ConvNet architecture you'd like on CIFAR-10. \n",
    "\n",
    "Now it's your job to experiment with architectures, hyperparameters, loss functions, and optimizers to train a model that achieves **at least 70%** accuracy on the CIFAR-10 **validation** set within 10 epochs. You can use the check_accuracy and train functions from above. You can use either `nn.Module` or `nn.Sequential` API. \n",
    "\n",
    "Describe what you did at the end of this notebook.\n",
    "\n",
    "Here are the official API documentation for each component. One note: what we call in the class \"spatial batch norm\" is called \"BatchNorm2D\" in PyTorch.\n",
    "\n",
    "* Layers in torch.nn package: http://pytorch.org/docs/stable/nn.html\n",
    "* Activations: http://pytorch.org/docs/stable/nn.html#non-linear-activations\n",
    "* Loss functions: http://pytorch.org/docs/stable/nn.html#loss-functions\n",
    "* Optimizers: http://pytorch.org/docs/stable/optim.html\n",
    "\n",
    "\n",
    "### Things you might try:\n",
    "- **Filter size**: Above we used 5x5; would smaller filters be more efficient?\n",
    "- **Number of filters**: Above we used 32 filters. Do more or fewer do better?\n",
    "- **Pooling vs Strided Convolution**: Do you use max pooling or just stride convolutions?\n",
    "- **Batch normalization**: Try adding spatial batch normalization after convolution layers and vanilla batch normalization after affine layers. Do your networks train faster?\n",
    "- **Network architecture**: The network above has two layers of trainable parameters. Can you do better with a deep network? Good architectures to try include:\n",
    "    - [conv-relu-pool]xN -> [affine]xM -> [softmax or SVM]\n",
    "    - [conv-relu-conv-relu-pool]xN -> [affine]xM -> [softmax or SVM]\n",
    "    - [batchnorm-relu-conv]xN -> [affine]xM -> [softmax or SVM]\n",
    "- **Global Average Pooling**: Instead of flattening and then having multiple affine layers, perform convolutions until your image gets small (7x7 or so) and then perform an average pooling operation to get to a 1x1 image picture (1, 1 , Filter#), which is then reshaped into a (Filter#) vector. This is used in [Google's Inception Network](https://arxiv.org/abs/1512.00567) (See Table 1 for their architecture).\n",
    "- **Regularization**: Add l2 weight regularization, or perhaps use Dropout.\n",
    "\n",
    "### Tips for training\n",
    "For each network architecture that you try, you should tune the learning rate and other hyperparameters. When doing this there are a couple important things to keep in mind:\n",
    "\n",
    "- If the parameters are working well, you should see improvement within a few hundred iterations\n",
    "- Remember the coarse-to-fine approach for hyperparameter tuning: start by testing a large range of hyperparameters for just a few training iterations to find the combinations of parameters that are working at all.\n",
    "- Once you have found some sets of parameters that seem to work, search more finely around these parameters. You may need to train for more epochs.\n",
    "- You should use the validation set for hyperparameter search, and save your test set for evaluating your architecture on the best parameters as selected by the validation set.\n",
    "\n",
    "### Going above and beyond\n",
    "If you are feeling adventurous there are many other features you can implement to try and improve your performance. You are **not required** to implement any of these, but don't miss the fun if you have time!\n",
    "\n",
    "- Alternative optimizers: you can try Adam, Adagrad, RMSprop, etc.\n",
    "- Alternative activation functions such as leaky ReLU, parametric ReLU, ELU, or MaxOut.\n",
    "- Model ensembles\n",
    "- Data augmentation\n",
    "- New Architectures\n",
    "  - [ResNets](https://arxiv.org/abs/1512.03385) where the input from the previous layer is added to the output.\n",
    "  - [DenseNets](https://arxiv.org/abs/1608.06993) where inputs into previous layers are concatenated together.\n",
    "  - [This blog has an in-depth overview](https://chatbotslife.com/resnets-highwaynets-and-densenets-oh-my-9bb15918ee32)\n",
    "\n",
    "### Have fun and happy training! "
   ]
  },
  {
   "cell_type": "code",
   "execution_count": 14,
   "metadata": {},
   "outputs": [],
   "source": [
    "\n"
   ]
  },
  {
   "cell_type": "code",
   "execution_count": 62,
   "metadata": {},
   "outputs": [],
   "source": [
    "################################################################################\n",
    "# TODO:                                                                        #         \n",
    "# Experiment with any architectures, optimizers, and hyperparameters.          #\n",
    "# Achieve AT LEAST 70% accuracy on the *validation set* within 10 epochs.      #\n",
    "#                                                                              #\n",
    "# Note that you can use the check_accuracy function to evaluate on either      #\n",
    "# the test set or the validation set, by passing either loader_test or         #\n",
    "# loader_val as the second argument to check_accuracy. You should not touch    #\n",
    "# the test set until you have finished your architecture and  hyperparameter   #\n",
    "# tuning, and only run the test set once at the end to report a final value.   #\n",
    "################################################################################\n",
    "model = None\n",
    "optimizer = None\n",
    "\n",
    "def get_accuracy(loader, model):\n",
    "      \n",
    "    num_correct = 0\n",
    "    num_samples = 0\n",
    "    model.eval()  # set model to evaluation mode\n",
    "    with torch.no_grad():\n",
    "        for x, y in loader:\n",
    "            x = x.to(device=device, dtype=dtype)  # move to device, e.g. GPU\n",
    "            y = y.to(device=device, dtype=torch.long)\n",
    "            scores = model(x)\n",
    "            _, preds = scores.max(1)\n",
    "            num_correct += (preds == y).sum()\n",
    "            num_samples += preds.size(0)\n",
    "        acc = float(num_correct) / num_samples\n",
    "        return acc\n",
    "\n",
    "def train_net(model, optimizer, epochs=1, print_loss=True, stop_at=None):\n",
    "    \"\"\"\n",
    "    Train a model on CIFAR-10 using the PyTorch Module API.\n",
    "    \n",
    "    Inputs:\n",
    "    - model: A PyTorch Module giving the model to train.\n",
    "    - optimizer: An Optimizer object we will use to train the model\n",
    "    - epochs: (Optional) A Python integer giving the number of epochs to train for\n",
    "    \n",
    "    Returns: loss history\n",
    "    \"\"\"\n",
    "    loss_history = []\n",
    "    acc_history = []\n",
    "    model = model.to(device=device)  # move the model parameters to CPU/GPU\n",
    "    for e in range(epochs):\n",
    "        for t, (x, y) in enumerate(loader_train):\n",
    "            if stop_at and t > stop_at:\n",
    "                break\n",
    "            model.train()  # put model to training mode\n",
    "            x = x.to(device=device, dtype=dtype)  # move to device, e.g. GPU\n",
    "            y = y.to(device=device, dtype=torch.long)\n",
    "\n",
    "            scores = model(x)\n",
    "            loss = F.cross_entropy(scores, y)\n",
    "\n",
    "            # Zero out all of the gradients for the variables which the optimizer\n",
    "            # will update.\n",
    "            optimizer.zero_grad()\n",
    "\n",
    "            # This is the backwards pass: compute the gradient of the loss with\n",
    "            # respect to each  parameter of the model.\n",
    "            loss.backward()\n",
    "\n",
    "            # Actually update the parameters of the model using the gradients\n",
    "            # computed by the backwards pass.\n",
    "            optimizer.step()\n",
    "\n",
    "            loss_history.append(loss.item())\n",
    "            acc_history.append(get_accuracy(loader_val, model))\n",
    "            \n",
    "            if print_loss and t % print_every == 0:\n",
    "                print('Iteration %d, loss = %.4f' % (t, loss.item()))\n",
    "                check_accuracy_part34(loader_val, model)\n",
    "                print()\n",
    "                \n",
    "    return loss_history, acc_history\n",
    "\n",
    "def plot_loss_histories(results):\n",
    "    # turn dataframe to long format\n",
    "    data = pd.melt(results, id_vars='iter')\n",
    "    \n",
    "    return alt.Chart(data).mark_line().encode(\n",
    "        alt.X('iter', type='quantitative', title='iteration'),\n",
    "        alt.Y('value', type='quantitative', title='accuracy/loss'),\n",
    "        color='variable'\n",
    "#         alt.Color('variable', type='norminal', title='learning_rate')\n",
    "    ).interactive()\n",
    "\n",
    "    \n",
    "class Net(nn.Module):\n",
    "    def __init__(self, in_channel, channel_1, channel_2, num_classes, init_weights=False, batch_norm=False):\n",
    "        super(Net, self).__init__()\n",
    "        self.conv1 = nn.Conv2d(in_channel, channel_1, kernel_size=5, padding=2)\n",
    "        self.conv2 = nn.Conv2d(channel_1, channel_2, kernel_size=3, padding=1)\n",
    "        self.fc = nn.Linear(20480, 10)\n",
    "        self.bn = batch_norm\n",
    "        if init_weights:\n",
    "            nn.init.kaiming_normal_(self.conv1.weight, mode='fan_in', nonlinearity='relu')\n",
    "            self.conv1.bias.data.fill_(0)\n",
    "            nn.init.kaiming_normal_(self.conv2.weight, mode='fan_in', nonlinearity='relu')\n",
    "            self.conv2.bias.data.fill_(0)\n",
    "            nn.init.kaiming_normal_(self.fc.weight, mode='fan_in', nonlinearity='relu')\n",
    "            self.fc.bias.data.fill_(0)\n",
    "        if batch_norm:\n",
    "            self.bn1 = nn.BatchNorm2d(channel_1)\n",
    "            self.bn2 = nn.BatchNorm2d(channel_2)\n",
    "\n",
    "    def forward(self, x):\n",
    "        if self.bn:\n",
    "            conv1_out = F.relu(self.bn1(self.conv1(x)))\n",
    "            conv2_out = F.relu(self.bn2(self.conv2(conv1_out)))\n",
    "        else:\n",
    "            conv1_out = F.relu(self.conv1(x))\n",
    "            conv2_out = F.relu(self.conv2(conv1_out))\n",
    "        \n",
    "        flattened_x = flatten(conv2_out)\n",
    "        scores = self.fc(flattened_x)\n",
    "        return scores\n",
    "\n",
    "# you can use Nesterov momentum in optim.SGD\n",
    "# optimizer = optim.SGD(model.parameters(), lr=learning_rate,\n",
    "#                      momentum=0.9, nesterov=True)\n",
    "\n",
    "################################################################################\n",
    "#                                 END OF YOUR CODE                             \n",
    "################################################################################\n",
    "\n",
    "# You should get at least 70% accuracy\n",
    "# train_part34(model, optimizer, epochs=1)"
   ]
  },
  {
   "cell_type": "code",
   "execution_count": 43,
   "metadata": {},
   "outputs": [
    {
     "name": "stdout",
     "output_type": "stream",
     "text": [
      "Iteration 0, loss = 2.3254\n",
      "Checking accuracy on validation set\n",
      "Got 119 / 1000 correct (11.90)\n",
      "\n",
      "Iteration 100, loss = 1.5037\n",
      "Checking accuracy on validation set\n",
      "Got 438 / 1000 correct (43.80)\n",
      "\n",
      "Iteration 200, loss = 1.6405\n",
      "Checking accuracy on validation set\n",
      "Got 454 / 1000 correct (45.40)\n",
      "\n",
      "Iteration 0, loss = 1.6612\n",
      "Checking accuracy on validation set\n",
      "Got 395 / 1000 correct (39.50)\n",
      "\n",
      "Iteration 100, loss = 2.3114\n",
      "Checking accuracy on validation set\n",
      "Got 78 / 1000 correct (7.80)\n",
      "\n",
      "Iteration 200, loss = 2.3034\n",
      "Checking accuracy on validation set\n",
      "Got 126 / 1000 correct (12.60)\n",
      "\n",
      "Iteration 0, loss = 2.3029\n",
      "Checking accuracy on validation set\n",
      "Got 126 / 1000 correct (12.60)\n",
      "\n",
      "Iteration 100, loss = 2.3053\n",
      "Checking accuracy on validation set\n",
      "Got 126 / 1000 correct (12.60)\n",
      "\n",
      "Iteration 200, loss = 2.3021\n",
      "Checking accuracy on validation set\n",
      "Got 126 / 1000 correct (12.60)\n",
      "\n"
     ]
    }
   ],
   "source": [
    "learning_rates = [1e-2, 5e-2, 1e-3]\n",
    "model = Net(3, 10, 20, 10)\n",
    "optimizer = None\n",
    "results = {}\n",
    "for lr in learning_rates:\n",
    "    optimizer = optim.SGD(model.parameters(), lr=lr, momentum=0.9, nesterov=True)\n",
    "    _, accuracy_history = train_net(model, optimizer, epochs=1)\n",
    "    results['lr_{:.6f}'.format(lr)] = accuracy_history\n",
    "    # add iter column if not exist\n",
    "    if not results.get('iter', None):\n",
    "        results['iter'] = list(range(len(results['lr_{:.6f}'.format(lr)])))\n"
   ]
  },
  {
   "cell_type": "code",
   "execution_count": 45,
   "metadata": {},
   "outputs": [
    {
     "data": {
      "application/vnd.vegalite.v2+json": {
       "$schema": "https://vega.github.io/schema/vega-lite/v2.4.1.json",
       "config": {
        "view": {
         "height": 300,
         "width": 400
        }
       },
       "data": {
        "values": [
         {
          "iter": 0,
          "value": 0.126,
          "variable": "lr_0.001000"
         },
         {
          "iter": 1,
          "value": 0.126,
          "variable": "lr_0.001000"
         },
         {
          "iter": 2,
          "value": 0.126,
          "variable": "lr_0.001000"
         },
         {
          "iter": 3,
          "value": 0.126,
          "variable": "lr_0.001000"
         },
         {
          "iter": 4,
          "value": 0.126,
          "variable": "lr_0.001000"
         },
         {
          "iter": 5,
          "value": 0.126,
          "variable": "lr_0.001000"
         },
         {
          "iter": 6,
          "value": 0.126,
          "variable": "lr_0.001000"
         },
         {
          "iter": 7,
          "value": 0.126,
          "variable": "lr_0.001000"
         },
         {
          "iter": 8,
          "value": 0.126,
          "variable": "lr_0.001000"
         },
         {
          "iter": 9,
          "value": 0.126,
          "variable": "lr_0.001000"
         },
         {
          "iter": 10,
          "value": 0.126,
          "variable": "lr_0.001000"
         },
         {
          "iter": 11,
          "value": 0.126,
          "variable": "lr_0.001000"
         },
         {
          "iter": 12,
          "value": 0.126,
          "variable": "lr_0.001000"
         },
         {
          "iter": 13,
          "value": 0.126,
          "variable": "lr_0.001000"
         },
         {
          "iter": 14,
          "value": 0.126,
          "variable": "lr_0.001000"
         },
         {
          "iter": 15,
          "value": 0.126,
          "variable": "lr_0.001000"
         },
         {
          "iter": 16,
          "value": 0.126,
          "variable": "lr_0.001000"
         },
         {
          "iter": 17,
          "value": 0.126,
          "variable": "lr_0.001000"
         },
         {
          "iter": 18,
          "value": 0.126,
          "variable": "lr_0.001000"
         },
         {
          "iter": 19,
          "value": 0.126,
          "variable": "lr_0.001000"
         },
         {
          "iter": 20,
          "value": 0.126,
          "variable": "lr_0.001000"
         },
         {
          "iter": 21,
          "value": 0.126,
          "variable": "lr_0.001000"
         },
         {
          "iter": 22,
          "value": 0.126,
          "variable": "lr_0.001000"
         },
         {
          "iter": 23,
          "value": 0.126,
          "variable": "lr_0.001000"
         },
         {
          "iter": 24,
          "value": 0.126,
          "variable": "lr_0.001000"
         },
         {
          "iter": 25,
          "value": 0.126,
          "variable": "lr_0.001000"
         },
         {
          "iter": 26,
          "value": 0.126,
          "variable": "lr_0.001000"
         },
         {
          "iter": 27,
          "value": 0.126,
          "variable": "lr_0.001000"
         },
         {
          "iter": 28,
          "value": 0.126,
          "variable": "lr_0.001000"
         },
         {
          "iter": 29,
          "value": 0.126,
          "variable": "lr_0.001000"
         },
         {
          "iter": 30,
          "value": 0.126,
          "variable": "lr_0.001000"
         },
         {
          "iter": 31,
          "value": 0.126,
          "variable": "lr_0.001000"
         },
         {
          "iter": 32,
          "value": 0.126,
          "variable": "lr_0.001000"
         },
         {
          "iter": 33,
          "value": 0.126,
          "variable": "lr_0.001000"
         },
         {
          "iter": 34,
          "value": 0.126,
          "variable": "lr_0.001000"
         },
         {
          "iter": 35,
          "value": 0.126,
          "variable": "lr_0.001000"
         },
         {
          "iter": 36,
          "value": 0.126,
          "variable": "lr_0.001000"
         },
         {
          "iter": 37,
          "value": 0.126,
          "variable": "lr_0.001000"
         },
         {
          "iter": 38,
          "value": 0.126,
          "variable": "lr_0.001000"
         },
         {
          "iter": 39,
          "value": 0.126,
          "variable": "lr_0.001000"
         },
         {
          "iter": 40,
          "value": 0.126,
          "variable": "lr_0.001000"
         },
         {
          "iter": 41,
          "value": 0.126,
          "variable": "lr_0.001000"
         },
         {
          "iter": 42,
          "value": 0.126,
          "variable": "lr_0.001000"
         },
         {
          "iter": 43,
          "value": 0.126,
          "variable": "lr_0.001000"
         },
         {
          "iter": 44,
          "value": 0.126,
          "variable": "lr_0.001000"
         },
         {
          "iter": 45,
          "value": 0.126,
          "variable": "lr_0.001000"
         },
         {
          "iter": 46,
          "value": 0.126,
          "variable": "lr_0.001000"
         },
         {
          "iter": 47,
          "value": 0.126,
          "variable": "lr_0.001000"
         },
         {
          "iter": 48,
          "value": 0.126,
          "variable": "lr_0.001000"
         },
         {
          "iter": 49,
          "value": 0.126,
          "variable": "lr_0.001000"
         },
         {
          "iter": 50,
          "value": 0.126,
          "variable": "lr_0.001000"
         },
         {
          "iter": 51,
          "value": 0.126,
          "variable": "lr_0.001000"
         },
         {
          "iter": 52,
          "value": 0.126,
          "variable": "lr_0.001000"
         },
         {
          "iter": 53,
          "value": 0.126,
          "variable": "lr_0.001000"
         },
         {
          "iter": 54,
          "value": 0.126,
          "variable": "lr_0.001000"
         },
         {
          "iter": 55,
          "value": 0.126,
          "variable": "lr_0.001000"
         },
         {
          "iter": 56,
          "value": 0.126,
          "variable": "lr_0.001000"
         },
         {
          "iter": 57,
          "value": 0.126,
          "variable": "lr_0.001000"
         },
         {
          "iter": 58,
          "value": 0.126,
          "variable": "lr_0.001000"
         },
         {
          "iter": 59,
          "value": 0.126,
          "variable": "lr_0.001000"
         },
         {
          "iter": 60,
          "value": 0.126,
          "variable": "lr_0.001000"
         },
         {
          "iter": 61,
          "value": 0.126,
          "variable": "lr_0.001000"
         },
         {
          "iter": 62,
          "value": 0.126,
          "variable": "lr_0.001000"
         },
         {
          "iter": 63,
          "value": 0.126,
          "variable": "lr_0.001000"
         },
         {
          "iter": 64,
          "value": 0.126,
          "variable": "lr_0.001000"
         },
         {
          "iter": 65,
          "value": 0.126,
          "variable": "lr_0.001000"
         },
         {
          "iter": 66,
          "value": 0.126,
          "variable": "lr_0.001000"
         },
         {
          "iter": 67,
          "value": 0.126,
          "variable": "lr_0.001000"
         },
         {
          "iter": 68,
          "value": 0.126,
          "variable": "lr_0.001000"
         },
         {
          "iter": 69,
          "value": 0.126,
          "variable": "lr_0.001000"
         },
         {
          "iter": 70,
          "value": 0.126,
          "variable": "lr_0.001000"
         },
         {
          "iter": 71,
          "value": 0.126,
          "variable": "lr_0.001000"
         },
         {
          "iter": 72,
          "value": 0.126,
          "variable": "lr_0.001000"
         },
         {
          "iter": 73,
          "value": 0.126,
          "variable": "lr_0.001000"
         },
         {
          "iter": 74,
          "value": 0.126,
          "variable": "lr_0.001000"
         },
         {
          "iter": 75,
          "value": 0.126,
          "variable": "lr_0.001000"
         },
         {
          "iter": 76,
          "value": 0.126,
          "variable": "lr_0.001000"
         },
         {
          "iter": 77,
          "value": 0.126,
          "variable": "lr_0.001000"
         },
         {
          "iter": 78,
          "value": 0.126,
          "variable": "lr_0.001000"
         },
         {
          "iter": 79,
          "value": 0.126,
          "variable": "lr_0.001000"
         },
         {
          "iter": 80,
          "value": 0.126,
          "variable": "lr_0.001000"
         },
         {
          "iter": 81,
          "value": 0.126,
          "variable": "lr_0.001000"
         },
         {
          "iter": 82,
          "value": 0.126,
          "variable": "lr_0.001000"
         },
         {
          "iter": 83,
          "value": 0.126,
          "variable": "lr_0.001000"
         },
         {
          "iter": 84,
          "value": 0.126,
          "variable": "lr_0.001000"
         },
         {
          "iter": 85,
          "value": 0.126,
          "variable": "lr_0.001000"
         },
         {
          "iter": 86,
          "value": 0.126,
          "variable": "lr_0.001000"
         },
         {
          "iter": 87,
          "value": 0.126,
          "variable": "lr_0.001000"
         },
         {
          "iter": 88,
          "value": 0.126,
          "variable": "lr_0.001000"
         },
         {
          "iter": 89,
          "value": 0.126,
          "variable": "lr_0.001000"
         },
         {
          "iter": 90,
          "value": 0.126,
          "variable": "lr_0.001000"
         },
         {
          "iter": 91,
          "value": 0.126,
          "variable": "lr_0.001000"
         },
         {
          "iter": 92,
          "value": 0.126,
          "variable": "lr_0.001000"
         },
         {
          "iter": 93,
          "value": 0.126,
          "variable": "lr_0.001000"
         },
         {
          "iter": 94,
          "value": 0.126,
          "variable": "lr_0.001000"
         },
         {
          "iter": 95,
          "value": 0.126,
          "variable": "lr_0.001000"
         },
         {
          "iter": 96,
          "value": 0.126,
          "variable": "lr_0.001000"
         },
         {
          "iter": 97,
          "value": 0.126,
          "variable": "lr_0.001000"
         },
         {
          "iter": 98,
          "value": 0.126,
          "variable": "lr_0.001000"
         },
         {
          "iter": 99,
          "value": 0.126,
          "variable": "lr_0.001000"
         },
         {
          "iter": 100,
          "value": 0.126,
          "variable": "lr_0.001000"
         },
         {
          "iter": 101,
          "value": 0.126,
          "variable": "lr_0.001000"
         },
         {
          "iter": 102,
          "value": 0.126,
          "variable": "lr_0.001000"
         },
         {
          "iter": 103,
          "value": 0.126,
          "variable": "lr_0.001000"
         },
         {
          "iter": 104,
          "value": 0.126,
          "variable": "lr_0.001000"
         },
         {
          "iter": 105,
          "value": 0.126,
          "variable": "lr_0.001000"
         },
         {
          "iter": 106,
          "value": 0.126,
          "variable": "lr_0.001000"
         },
         {
          "iter": 107,
          "value": 0.126,
          "variable": "lr_0.001000"
         },
         {
          "iter": 108,
          "value": 0.126,
          "variable": "lr_0.001000"
         },
         {
          "iter": 109,
          "value": 0.126,
          "variable": "lr_0.001000"
         },
         {
          "iter": 110,
          "value": 0.126,
          "variable": "lr_0.001000"
         },
         {
          "iter": 111,
          "value": 0.126,
          "variable": "lr_0.001000"
         },
         {
          "iter": 112,
          "value": 0.126,
          "variable": "lr_0.001000"
         },
         {
          "iter": 113,
          "value": 0.126,
          "variable": "lr_0.001000"
         },
         {
          "iter": 114,
          "value": 0.126,
          "variable": "lr_0.001000"
         },
         {
          "iter": 115,
          "value": 0.126,
          "variable": "lr_0.001000"
         },
         {
          "iter": 116,
          "value": 0.126,
          "variable": "lr_0.001000"
         },
         {
          "iter": 117,
          "value": 0.126,
          "variable": "lr_0.001000"
         },
         {
          "iter": 118,
          "value": 0.126,
          "variable": "lr_0.001000"
         },
         {
          "iter": 119,
          "value": 0.126,
          "variable": "lr_0.001000"
         },
         {
          "iter": 120,
          "value": 0.126,
          "variable": "lr_0.001000"
         },
         {
          "iter": 121,
          "value": 0.126,
          "variable": "lr_0.001000"
         },
         {
          "iter": 122,
          "value": 0.126,
          "variable": "lr_0.001000"
         },
         {
          "iter": 123,
          "value": 0.126,
          "variable": "lr_0.001000"
         },
         {
          "iter": 124,
          "value": 0.126,
          "variable": "lr_0.001000"
         },
         {
          "iter": 125,
          "value": 0.126,
          "variable": "lr_0.001000"
         },
         {
          "iter": 126,
          "value": 0.126,
          "variable": "lr_0.001000"
         },
         {
          "iter": 127,
          "value": 0.126,
          "variable": "lr_0.001000"
         },
         {
          "iter": 128,
          "value": 0.126,
          "variable": "lr_0.001000"
         },
         {
          "iter": 129,
          "value": 0.126,
          "variable": "lr_0.001000"
         },
         {
          "iter": 130,
          "value": 0.126,
          "variable": "lr_0.001000"
         },
         {
          "iter": 131,
          "value": 0.126,
          "variable": "lr_0.001000"
         },
         {
          "iter": 132,
          "value": 0.126,
          "variable": "lr_0.001000"
         },
         {
          "iter": 133,
          "value": 0.126,
          "variable": "lr_0.001000"
         },
         {
          "iter": 134,
          "value": 0.126,
          "variable": "lr_0.001000"
         },
         {
          "iter": 135,
          "value": 0.126,
          "variable": "lr_0.001000"
         },
         {
          "iter": 136,
          "value": 0.126,
          "variable": "lr_0.001000"
         },
         {
          "iter": 137,
          "value": 0.126,
          "variable": "lr_0.001000"
         },
         {
          "iter": 138,
          "value": 0.125,
          "variable": "lr_0.001000"
         },
         {
          "iter": 139,
          "value": 0.125,
          "variable": "lr_0.001000"
         },
         {
          "iter": 140,
          "value": 0.125,
          "variable": "lr_0.001000"
         },
         {
          "iter": 141,
          "value": 0.125,
          "variable": "lr_0.001000"
         },
         {
          "iter": 142,
          "value": 0.125,
          "variable": "lr_0.001000"
         },
         {
          "iter": 143,
          "value": 0.125,
          "variable": "lr_0.001000"
         },
         {
          "iter": 144,
          "value": 0.125,
          "variable": "lr_0.001000"
         },
         {
          "iter": 145,
          "value": 0.125,
          "variable": "lr_0.001000"
         },
         {
          "iter": 146,
          "value": 0.125,
          "variable": "lr_0.001000"
         },
         {
          "iter": 147,
          "value": 0.125,
          "variable": "lr_0.001000"
         },
         {
          "iter": 148,
          "value": 0.125,
          "variable": "lr_0.001000"
         },
         {
          "iter": 149,
          "value": 0.125,
          "variable": "lr_0.001000"
         },
         {
          "iter": 150,
          "value": 0.125,
          "variable": "lr_0.001000"
         },
         {
          "iter": 151,
          "value": 0.125,
          "variable": "lr_0.001000"
         },
         {
          "iter": 152,
          "value": 0.125,
          "variable": "lr_0.001000"
         },
         {
          "iter": 153,
          "value": 0.125,
          "variable": "lr_0.001000"
         },
         {
          "iter": 154,
          "value": 0.125,
          "variable": "lr_0.001000"
         },
         {
          "iter": 155,
          "value": 0.125,
          "variable": "lr_0.001000"
         },
         {
          "iter": 156,
          "value": 0.125,
          "variable": "lr_0.001000"
         },
         {
          "iter": 157,
          "value": 0.125,
          "variable": "lr_0.001000"
         },
         {
          "iter": 158,
          "value": 0.125,
          "variable": "lr_0.001000"
         },
         {
          "iter": 159,
          "value": 0.125,
          "variable": "lr_0.001000"
         },
         {
          "iter": 160,
          "value": 0.126,
          "variable": "lr_0.001000"
         },
         {
          "iter": 161,
          "value": 0.126,
          "variable": "lr_0.001000"
         },
         {
          "iter": 162,
          "value": 0.126,
          "variable": "lr_0.001000"
         },
         {
          "iter": 163,
          "value": 0.126,
          "variable": "lr_0.001000"
         },
         {
          "iter": 164,
          "value": 0.126,
          "variable": "lr_0.001000"
         },
         {
          "iter": 165,
          "value": 0.126,
          "variable": "lr_0.001000"
         },
         {
          "iter": 166,
          "value": 0.126,
          "variable": "lr_0.001000"
         },
         {
          "iter": 167,
          "value": 0.126,
          "variable": "lr_0.001000"
         },
         {
          "iter": 168,
          "value": 0.126,
          "variable": "lr_0.001000"
         },
         {
          "iter": 169,
          "value": 0.126,
          "variable": "lr_0.001000"
         },
         {
          "iter": 170,
          "value": 0.126,
          "variable": "lr_0.001000"
         },
         {
          "iter": 171,
          "value": 0.126,
          "variable": "lr_0.001000"
         },
         {
          "iter": 172,
          "value": 0.126,
          "variable": "lr_0.001000"
         },
         {
          "iter": 173,
          "value": 0.126,
          "variable": "lr_0.001000"
         },
         {
          "iter": 174,
          "value": 0.126,
          "variable": "lr_0.001000"
         },
         {
          "iter": 175,
          "value": 0.126,
          "variable": "lr_0.001000"
         },
         {
          "iter": 176,
          "value": 0.126,
          "variable": "lr_0.001000"
         },
         {
          "iter": 177,
          "value": 0.126,
          "variable": "lr_0.001000"
         },
         {
          "iter": 178,
          "value": 0.126,
          "variable": "lr_0.001000"
         },
         {
          "iter": 179,
          "value": 0.126,
          "variable": "lr_0.001000"
         },
         {
          "iter": 180,
          "value": 0.126,
          "variable": "lr_0.001000"
         },
         {
          "iter": 181,
          "value": 0.126,
          "variable": "lr_0.001000"
         },
         {
          "iter": 182,
          "value": 0.126,
          "variable": "lr_0.001000"
         },
         {
          "iter": 183,
          "value": 0.126,
          "variable": "lr_0.001000"
         },
         {
          "iter": 184,
          "value": 0.126,
          "variable": "lr_0.001000"
         },
         {
          "iter": 185,
          "value": 0.126,
          "variable": "lr_0.001000"
         },
         {
          "iter": 186,
          "value": 0.126,
          "variable": "lr_0.001000"
         },
         {
          "iter": 187,
          "value": 0.126,
          "variable": "lr_0.001000"
         },
         {
          "iter": 188,
          "value": 0.126,
          "variable": "lr_0.001000"
         },
         {
          "iter": 189,
          "value": 0.126,
          "variable": "lr_0.001000"
         },
         {
          "iter": 190,
          "value": 0.126,
          "variable": "lr_0.001000"
         },
         {
          "iter": 191,
          "value": 0.126,
          "variable": "lr_0.001000"
         },
         {
          "iter": 192,
          "value": 0.126,
          "variable": "lr_0.001000"
         },
         {
          "iter": 193,
          "value": 0.126,
          "variable": "lr_0.001000"
         },
         {
          "iter": 194,
          "value": 0.126,
          "variable": "lr_0.001000"
         },
         {
          "iter": 195,
          "value": 0.126,
          "variable": "lr_0.001000"
         },
         {
          "iter": 196,
          "value": 0.126,
          "variable": "lr_0.001000"
         },
         {
          "iter": 197,
          "value": 0.126,
          "variable": "lr_0.001000"
         },
         {
          "iter": 198,
          "value": 0.126,
          "variable": "lr_0.001000"
         },
         {
          "iter": 199,
          "value": 0.126,
          "variable": "lr_0.001000"
         },
         {
          "iter": 200,
          "value": 0.126,
          "variable": "lr_0.001000"
         },
         {
          "iter": 0,
          "value": 0.119,
          "variable": "lr_0.010000"
         },
         {
          "iter": 1,
          "value": 0.139,
          "variable": "lr_0.010000"
         },
         {
          "iter": 2,
          "value": 0.179,
          "variable": "lr_0.010000"
         },
         {
          "iter": 3,
          "value": 0.175,
          "variable": "lr_0.010000"
         },
         {
          "iter": 4,
          "value": 0.206,
          "variable": "lr_0.010000"
         },
         {
          "iter": 5,
          "value": 0.225,
          "variable": "lr_0.010000"
         },
         {
          "iter": 6,
          "value": 0.209,
          "variable": "lr_0.010000"
         },
         {
          "iter": 7,
          "value": 0.219,
          "variable": "lr_0.010000"
         },
         {
          "iter": 8,
          "value": 0.227,
          "variable": "lr_0.010000"
         },
         {
          "iter": 9,
          "value": 0.268,
          "variable": "lr_0.010000"
         },
         {
          "iter": 10,
          "value": 0.29,
          "variable": "lr_0.010000"
         },
         {
          "iter": 11,
          "value": 0.276,
          "variable": "lr_0.010000"
         },
         {
          "iter": 12,
          "value": 0.283,
          "variable": "lr_0.010000"
         },
         {
          "iter": 13,
          "value": 0.243,
          "variable": "lr_0.010000"
         },
         {
          "iter": 14,
          "value": 0.287,
          "variable": "lr_0.010000"
         },
         {
          "iter": 15,
          "value": 0.3,
          "variable": "lr_0.010000"
         },
         {
          "iter": 16,
          "value": 0.313,
          "variable": "lr_0.010000"
         },
         {
          "iter": 17,
          "value": 0.298,
          "variable": "lr_0.010000"
         },
         {
          "iter": 18,
          "value": 0.307,
          "variable": "lr_0.010000"
         },
         {
          "iter": 19,
          "value": 0.31,
          "variable": "lr_0.010000"
         },
         {
          "iter": 20,
          "value": 0.299,
          "variable": "lr_0.010000"
         },
         {
          "iter": 21,
          "value": 0.312,
          "variable": "lr_0.010000"
         },
         {
          "iter": 22,
          "value": 0.315,
          "variable": "lr_0.010000"
         },
         {
          "iter": 23,
          "value": 0.331,
          "variable": "lr_0.010000"
         },
         {
          "iter": 24,
          "value": 0.335,
          "variable": "lr_0.010000"
         },
         {
          "iter": 25,
          "value": 0.328,
          "variable": "lr_0.010000"
         },
         {
          "iter": 26,
          "value": 0.319,
          "variable": "lr_0.010000"
         },
         {
          "iter": 27,
          "value": 0.349,
          "variable": "lr_0.010000"
         },
         {
          "iter": 28,
          "value": 0.341,
          "variable": "lr_0.010000"
         },
         {
          "iter": 29,
          "value": 0.357,
          "variable": "lr_0.010000"
         },
         {
          "iter": 30,
          "value": 0.353,
          "variable": "lr_0.010000"
         },
         {
          "iter": 31,
          "value": 0.348,
          "variable": "lr_0.010000"
         },
         {
          "iter": 32,
          "value": 0.358,
          "variable": "lr_0.010000"
         },
         {
          "iter": 33,
          "value": 0.345,
          "variable": "lr_0.010000"
         },
         {
          "iter": 34,
          "value": 0.353,
          "variable": "lr_0.010000"
         },
         {
          "iter": 35,
          "value": 0.356,
          "variable": "lr_0.010000"
         },
         {
          "iter": 36,
          "value": 0.384,
          "variable": "lr_0.010000"
         },
         {
          "iter": 37,
          "value": 0.382,
          "variable": "lr_0.010000"
         },
         {
          "iter": 38,
          "value": 0.368,
          "variable": "lr_0.010000"
         },
         {
          "iter": 39,
          "value": 0.367,
          "variable": "lr_0.010000"
         },
         {
          "iter": 40,
          "value": 0.352,
          "variable": "lr_0.010000"
         },
         {
          "iter": 41,
          "value": 0.36,
          "variable": "lr_0.010000"
         },
         {
          "iter": 42,
          "value": 0.372,
          "variable": "lr_0.010000"
         },
         {
          "iter": 43,
          "value": 0.394,
          "variable": "lr_0.010000"
         },
         {
          "iter": 44,
          "value": 0.402,
          "variable": "lr_0.010000"
         },
         {
          "iter": 45,
          "value": 0.402,
          "variable": "lr_0.010000"
         },
         {
          "iter": 46,
          "value": 0.402,
          "variable": "lr_0.010000"
         },
         {
          "iter": 47,
          "value": 0.407,
          "variable": "lr_0.010000"
         },
         {
          "iter": 48,
          "value": 0.424,
          "variable": "lr_0.010000"
         },
         {
          "iter": 49,
          "value": 0.417,
          "variable": "lr_0.010000"
         },
         {
          "iter": 50,
          "value": 0.432,
          "variable": "lr_0.010000"
         },
         {
          "iter": 51,
          "value": 0.428,
          "variable": "lr_0.010000"
         },
         {
          "iter": 52,
          "value": 0.432,
          "variable": "lr_0.010000"
         },
         {
          "iter": 53,
          "value": 0.422,
          "variable": "lr_0.010000"
         },
         {
          "iter": 54,
          "value": 0.411,
          "variable": "lr_0.010000"
         },
         {
          "iter": 55,
          "value": 0.401,
          "variable": "lr_0.010000"
         },
         {
          "iter": 56,
          "value": 0.416,
          "variable": "lr_0.010000"
         },
         {
          "iter": 57,
          "value": 0.413,
          "variable": "lr_0.010000"
         },
         {
          "iter": 58,
          "value": 0.418,
          "variable": "lr_0.010000"
         },
         {
          "iter": 59,
          "value": 0.438,
          "variable": "lr_0.010000"
         },
         {
          "iter": 60,
          "value": 0.42,
          "variable": "lr_0.010000"
         },
         {
          "iter": 61,
          "value": 0.452,
          "variable": "lr_0.010000"
         },
         {
          "iter": 62,
          "value": 0.426,
          "variable": "lr_0.010000"
         },
         {
          "iter": 63,
          "value": 0.438,
          "variable": "lr_0.010000"
         },
         {
          "iter": 64,
          "value": 0.435,
          "variable": "lr_0.010000"
         },
         {
          "iter": 65,
          "value": 0.44,
          "variable": "lr_0.010000"
         },
         {
          "iter": 66,
          "value": 0.436,
          "variable": "lr_0.010000"
         },
         {
          "iter": 67,
          "value": 0.413,
          "variable": "lr_0.010000"
         },
         {
          "iter": 68,
          "value": 0.421,
          "variable": "lr_0.010000"
         },
         {
          "iter": 69,
          "value": 0.43,
          "variable": "lr_0.010000"
         },
         {
          "iter": 70,
          "value": 0.424,
          "variable": "lr_0.010000"
         },
         {
          "iter": 71,
          "value": 0.407,
          "variable": "lr_0.010000"
         },
         {
          "iter": 72,
          "value": 0.42,
          "variable": "lr_0.010000"
         },
         {
          "iter": 73,
          "value": 0.427,
          "variable": "lr_0.010000"
         },
         {
          "iter": 74,
          "value": 0.425,
          "variable": "lr_0.010000"
         },
         {
          "iter": 75,
          "value": 0.442,
          "variable": "lr_0.010000"
         },
         {
          "iter": 76,
          "value": 0.443,
          "variable": "lr_0.010000"
         },
         {
          "iter": 77,
          "value": 0.433,
          "variable": "lr_0.010000"
         },
         {
          "iter": 78,
          "value": 0.443,
          "variable": "lr_0.010000"
         },
         {
          "iter": 79,
          "value": 0.442,
          "variable": "lr_0.010000"
         },
         {
          "iter": 80,
          "value": 0.44,
          "variable": "lr_0.010000"
         },
         {
          "iter": 81,
          "value": 0.413,
          "variable": "lr_0.010000"
         },
         {
          "iter": 82,
          "value": 0.441,
          "variable": "lr_0.010000"
         },
         {
          "iter": 83,
          "value": 0.418,
          "variable": "lr_0.010000"
         },
         {
          "iter": 84,
          "value": 0.426,
          "variable": "lr_0.010000"
         },
         {
          "iter": 85,
          "value": 0.42,
          "variable": "lr_0.010000"
         },
         {
          "iter": 86,
          "value": 0.443,
          "variable": "lr_0.010000"
         },
         {
          "iter": 87,
          "value": 0.453,
          "variable": "lr_0.010000"
         },
         {
          "iter": 88,
          "value": 0.447,
          "variable": "lr_0.010000"
         },
         {
          "iter": 89,
          "value": 0.452,
          "variable": "lr_0.010000"
         },
         {
          "iter": 90,
          "value": 0.443,
          "variable": "lr_0.010000"
         },
         {
          "iter": 91,
          "value": 0.445,
          "variable": "lr_0.010000"
         },
         {
          "iter": 92,
          "value": 0.457,
          "variable": "lr_0.010000"
         },
         {
          "iter": 93,
          "value": 0.454,
          "variable": "lr_0.010000"
         },
         {
          "iter": 94,
          "value": 0.441,
          "variable": "lr_0.010000"
         },
         {
          "iter": 95,
          "value": 0.414,
          "variable": "lr_0.010000"
         },
         {
          "iter": 96,
          "value": 0.425,
          "variable": "lr_0.010000"
         },
         {
          "iter": 97,
          "value": 0.435,
          "variable": "lr_0.010000"
         },
         {
          "iter": 98,
          "value": 0.445,
          "variable": "lr_0.010000"
         },
         {
          "iter": 99,
          "value": 0.448,
          "variable": "lr_0.010000"
         },
         {
          "iter": 100,
          "value": 0.438,
          "variable": "lr_0.010000"
         },
         {
          "iter": 101,
          "value": 0.445,
          "variable": "lr_0.010000"
         },
         {
          "iter": 102,
          "value": 0.455,
          "variable": "lr_0.010000"
         },
         {
          "iter": 103,
          "value": 0.448,
          "variable": "lr_0.010000"
         },
         {
          "iter": 104,
          "value": 0.464,
          "variable": "lr_0.010000"
         },
         {
          "iter": 105,
          "value": 0.442,
          "variable": "lr_0.010000"
         },
         {
          "iter": 106,
          "value": 0.438,
          "variable": "lr_0.010000"
         },
         {
          "iter": 107,
          "value": 0.442,
          "variable": "lr_0.010000"
         },
         {
          "iter": 108,
          "value": 0.433,
          "variable": "lr_0.010000"
         },
         {
          "iter": 109,
          "value": 0.44,
          "variable": "lr_0.010000"
         },
         {
          "iter": 110,
          "value": 0.442,
          "variable": "lr_0.010000"
         },
         {
          "iter": 111,
          "value": 0.426,
          "variable": "lr_0.010000"
         },
         {
          "iter": 112,
          "value": 0.415,
          "variable": "lr_0.010000"
         },
         {
          "iter": 113,
          "value": 0.436,
          "variable": "lr_0.010000"
         },
         {
          "iter": 114,
          "value": 0.436,
          "variable": "lr_0.010000"
         },
         {
          "iter": 115,
          "value": 0.447,
          "variable": "lr_0.010000"
         },
         {
          "iter": 116,
          "value": 0.452,
          "variable": "lr_0.010000"
         },
         {
          "iter": 117,
          "value": 0.444,
          "variable": "lr_0.010000"
         },
         {
          "iter": 118,
          "value": 0.434,
          "variable": "lr_0.010000"
         },
         {
          "iter": 119,
          "value": 0.433,
          "variable": "lr_0.010000"
         },
         {
          "iter": 120,
          "value": 0.439,
          "variable": "lr_0.010000"
         },
         {
          "iter": 121,
          "value": 0.453,
          "variable": "lr_0.010000"
         },
         {
          "iter": 122,
          "value": 0.467,
          "variable": "lr_0.010000"
         },
         {
          "iter": 123,
          "value": 0.47,
          "variable": "lr_0.010000"
         },
         {
          "iter": 124,
          "value": 0.451,
          "variable": "lr_0.010000"
         },
         {
          "iter": 125,
          "value": 0.455,
          "variable": "lr_0.010000"
         },
         {
          "iter": 126,
          "value": 0.46,
          "variable": "lr_0.010000"
         },
         {
          "iter": 127,
          "value": 0.464,
          "variable": "lr_0.010000"
         },
         {
          "iter": 128,
          "value": 0.461,
          "variable": "lr_0.010000"
         },
         {
          "iter": 129,
          "value": 0.459,
          "variable": "lr_0.010000"
         },
         {
          "iter": 130,
          "value": 0.459,
          "variable": "lr_0.010000"
         },
         {
          "iter": 131,
          "value": 0.47,
          "variable": "lr_0.010000"
         },
         {
          "iter": 132,
          "value": 0.465,
          "variable": "lr_0.010000"
         },
         {
          "iter": 133,
          "value": 0.479,
          "variable": "lr_0.010000"
         },
         {
          "iter": 134,
          "value": 0.477,
          "variable": "lr_0.010000"
         },
         {
          "iter": 135,
          "value": 0.473,
          "variable": "lr_0.010000"
         },
         {
          "iter": 136,
          "value": 0.465,
          "variable": "lr_0.010000"
         },
         {
          "iter": 137,
          "value": 0.456,
          "variable": "lr_0.010000"
         },
         {
          "iter": 138,
          "value": 0.464,
          "variable": "lr_0.010000"
         },
         {
          "iter": 139,
          "value": 0.45,
          "variable": "lr_0.010000"
         },
         {
          "iter": 140,
          "value": 0.469,
          "variable": "lr_0.010000"
         },
         {
          "iter": 141,
          "value": 0.437,
          "variable": "lr_0.010000"
         },
         {
          "iter": 142,
          "value": 0.417,
          "variable": "lr_0.010000"
         },
         {
          "iter": 143,
          "value": 0.428,
          "variable": "lr_0.010000"
         },
         {
          "iter": 144,
          "value": 0.453,
          "variable": "lr_0.010000"
         },
         {
          "iter": 145,
          "value": 0.453,
          "variable": "lr_0.010000"
         },
         {
          "iter": 146,
          "value": 0.449,
          "variable": "lr_0.010000"
         },
         {
          "iter": 147,
          "value": 0.467,
          "variable": "lr_0.010000"
         },
         {
          "iter": 148,
          "value": 0.457,
          "variable": "lr_0.010000"
         },
         {
          "iter": 149,
          "value": 0.456,
          "variable": "lr_0.010000"
         },
         {
          "iter": 150,
          "value": 0.467,
          "variable": "lr_0.010000"
         },
         {
          "iter": 151,
          "value": 0.453,
          "variable": "lr_0.010000"
         },
         {
          "iter": 152,
          "value": 0.462,
          "variable": "lr_0.010000"
         },
         {
          "iter": 153,
          "value": 0.474,
          "variable": "lr_0.010000"
         },
         {
          "iter": 154,
          "value": 0.481,
          "variable": "lr_0.010000"
         },
         {
          "iter": 155,
          "value": 0.48,
          "variable": "lr_0.010000"
         },
         {
          "iter": 156,
          "value": 0.488,
          "variable": "lr_0.010000"
         },
         {
          "iter": 157,
          "value": 0.481,
          "variable": "lr_0.010000"
         },
         {
          "iter": 158,
          "value": 0.482,
          "variable": "lr_0.010000"
         },
         {
          "iter": 159,
          "value": 0.464,
          "variable": "lr_0.010000"
         },
         {
          "iter": 160,
          "value": 0.469,
          "variable": "lr_0.010000"
         },
         {
          "iter": 161,
          "value": 0.479,
          "variable": "lr_0.010000"
         },
         {
          "iter": 162,
          "value": 0.473,
          "variable": "lr_0.010000"
         },
         {
          "iter": 163,
          "value": 0.457,
          "variable": "lr_0.010000"
         },
         {
          "iter": 164,
          "value": 0.475,
          "variable": "lr_0.010000"
         },
         {
          "iter": 165,
          "value": 0.472,
          "variable": "lr_0.010000"
         },
         {
          "iter": 166,
          "value": 0.49,
          "variable": "lr_0.010000"
         },
         {
          "iter": 167,
          "value": 0.482,
          "variable": "lr_0.010000"
         },
         {
          "iter": 168,
          "value": 0.483,
          "variable": "lr_0.010000"
         },
         {
          "iter": 169,
          "value": 0.491,
          "variable": "lr_0.010000"
         },
         {
          "iter": 170,
          "value": 0.47,
          "variable": "lr_0.010000"
         },
         {
          "iter": 171,
          "value": 0.462,
          "variable": "lr_0.010000"
         },
         {
          "iter": 172,
          "value": 0.463,
          "variable": "lr_0.010000"
         },
         {
          "iter": 173,
          "value": 0.455,
          "variable": "lr_0.010000"
         },
         {
          "iter": 174,
          "value": 0.465,
          "variable": "lr_0.010000"
         },
         {
          "iter": 175,
          "value": 0.462,
          "variable": "lr_0.010000"
         },
         {
          "iter": 176,
          "value": 0.457,
          "variable": "lr_0.010000"
         },
         {
          "iter": 177,
          "value": 0.455,
          "variable": "lr_0.010000"
         },
         {
          "iter": 178,
          "value": 0.444,
          "variable": "lr_0.010000"
         },
         {
          "iter": 179,
          "value": 0.442,
          "variable": "lr_0.010000"
         },
         {
          "iter": 180,
          "value": 0.449,
          "variable": "lr_0.010000"
         },
         {
          "iter": 181,
          "value": 0.467,
          "variable": "lr_0.010000"
         },
         {
          "iter": 182,
          "value": 0.471,
          "variable": "lr_0.010000"
         },
         {
          "iter": 183,
          "value": 0.461,
          "variable": "lr_0.010000"
         },
         {
          "iter": 184,
          "value": 0.477,
          "variable": "lr_0.010000"
         },
         {
          "iter": 185,
          "value": 0.46,
          "variable": "lr_0.010000"
         },
         {
          "iter": 186,
          "value": 0.463,
          "variable": "lr_0.010000"
         },
         {
          "iter": 187,
          "value": 0.457,
          "variable": "lr_0.010000"
         },
         {
          "iter": 188,
          "value": 0.449,
          "variable": "lr_0.010000"
         },
         {
          "iter": 189,
          "value": 0.481,
          "variable": "lr_0.010000"
         },
         {
          "iter": 190,
          "value": 0.463,
          "variable": "lr_0.010000"
         },
         {
          "iter": 191,
          "value": 0.487,
          "variable": "lr_0.010000"
         },
         {
          "iter": 192,
          "value": 0.498,
          "variable": "lr_0.010000"
         },
         {
          "iter": 193,
          "value": 0.487,
          "variable": "lr_0.010000"
         },
         {
          "iter": 194,
          "value": 0.489,
          "variable": "lr_0.010000"
         },
         {
          "iter": 195,
          "value": 0.477,
          "variable": "lr_0.010000"
         },
         {
          "iter": 196,
          "value": 0.49,
          "variable": "lr_0.010000"
         },
         {
          "iter": 197,
          "value": 0.494,
          "variable": "lr_0.010000"
         },
         {
          "iter": 198,
          "value": 0.468,
          "variable": "lr_0.010000"
         },
         {
          "iter": 199,
          "value": 0.471,
          "variable": "lr_0.010000"
         },
         {
          "iter": 200,
          "value": 0.454,
          "variable": "lr_0.010000"
         },
         {
          "iter": 0,
          "value": 0.395,
          "variable": "lr_0.050000"
         },
         {
          "iter": 1,
          "value": 0.327,
          "variable": "lr_0.050000"
         },
         {
          "iter": 2,
          "value": 0.396,
          "variable": "lr_0.050000"
         },
         {
          "iter": 3,
          "value": 0.35,
          "variable": "lr_0.050000"
         },
         {
          "iter": 4,
          "value": 0.223,
          "variable": "lr_0.050000"
         },
         {
          "iter": 5,
          "value": 0.172,
          "variable": "lr_0.050000"
         },
         {
          "iter": 6,
          "value": 0.14,
          "variable": "lr_0.050000"
         },
         {
          "iter": 7,
          "value": 0.168,
          "variable": "lr_0.050000"
         },
         {
          "iter": 8,
          "value": 0.221,
          "variable": "lr_0.050000"
         },
         {
          "iter": 9,
          "value": 0.177,
          "variable": "lr_0.050000"
         },
         {
          "iter": 10,
          "value": 0.157,
          "variable": "lr_0.050000"
         },
         {
          "iter": 11,
          "value": 0.072,
          "variable": "lr_0.050000"
         },
         {
          "iter": 12,
          "value": 0.078,
          "variable": "lr_0.050000"
         },
         {
          "iter": 13,
          "value": 0.101,
          "variable": "lr_0.050000"
         },
         {
          "iter": 14,
          "value": 0.097,
          "variable": "lr_0.050000"
         },
         {
          "iter": 15,
          "value": 0.097,
          "variable": "lr_0.050000"
         },
         {
          "iter": 16,
          "value": 0.076,
          "variable": "lr_0.050000"
         },
         {
          "iter": 17,
          "value": 0.113,
          "variable": "lr_0.050000"
         },
         {
          "iter": 18,
          "value": 0.118,
          "variable": "lr_0.050000"
         },
         {
          "iter": 19,
          "value": 0.118,
          "variable": "lr_0.050000"
         },
         {
          "iter": 20,
          "value": 0.107,
          "variable": "lr_0.050000"
         },
         {
          "iter": 21,
          "value": 0.115,
          "variable": "lr_0.050000"
         },
         {
          "iter": 22,
          "value": 0.114,
          "variable": "lr_0.050000"
         },
         {
          "iter": 23,
          "value": 0.115,
          "variable": "lr_0.050000"
         },
         {
          "iter": 24,
          "value": 0.113,
          "variable": "lr_0.050000"
         },
         {
          "iter": 25,
          "value": 0.113,
          "variable": "lr_0.050000"
         },
         {
          "iter": 26,
          "value": 0.113,
          "variable": "lr_0.050000"
         },
         {
          "iter": 27,
          "value": 0.113,
          "variable": "lr_0.050000"
         },
         {
          "iter": 28,
          "value": 0.114,
          "variable": "lr_0.050000"
         },
         {
          "iter": 29,
          "value": 0.115,
          "variable": "lr_0.050000"
         },
         {
          "iter": 30,
          "value": 0.117,
          "variable": "lr_0.050000"
         },
         {
          "iter": 31,
          "value": 0.127,
          "variable": "lr_0.050000"
         },
         {
          "iter": 32,
          "value": 0.13,
          "variable": "lr_0.050000"
         },
         {
          "iter": 33,
          "value": 0.166,
          "variable": "lr_0.050000"
         },
         {
          "iter": 34,
          "value": 0.117,
          "variable": "lr_0.050000"
         },
         {
          "iter": 35,
          "value": 0.114,
          "variable": "lr_0.050000"
         },
         {
          "iter": 36,
          "value": 0.114,
          "variable": "lr_0.050000"
         },
         {
          "iter": 37,
          "value": 0.114,
          "variable": "lr_0.050000"
         },
         {
          "iter": 38,
          "value": 0.113,
          "variable": "lr_0.050000"
         },
         {
          "iter": 39,
          "value": 0.113,
          "variable": "lr_0.050000"
         },
         {
          "iter": 40,
          "value": 0.114,
          "variable": "lr_0.050000"
         },
         {
          "iter": 41,
          "value": 0.114,
          "variable": "lr_0.050000"
         },
         {
          "iter": 42,
          "value": 0.118,
          "variable": "lr_0.050000"
         },
         {
          "iter": 43,
          "value": 0.122,
          "variable": "lr_0.050000"
         },
         {
          "iter": 44,
          "value": 0.106,
          "variable": "lr_0.050000"
         },
         {
          "iter": 45,
          "value": 0.109,
          "variable": "lr_0.050000"
         },
         {
          "iter": 46,
          "value": 0.11,
          "variable": "lr_0.050000"
         },
         {
          "iter": 47,
          "value": 0.11,
          "variable": "lr_0.050000"
         },
         {
          "iter": 48,
          "value": 0.111,
          "variable": "lr_0.050000"
         },
         {
          "iter": 49,
          "value": 0.111,
          "variable": "lr_0.050000"
         },
         {
          "iter": 50,
          "value": 0.111,
          "variable": "lr_0.050000"
         },
         {
          "iter": 51,
          "value": 0.112,
          "variable": "lr_0.050000"
         },
         {
          "iter": 52,
          "value": 0.112,
          "variable": "lr_0.050000"
         },
         {
          "iter": 53,
          "value": 0.112,
          "variable": "lr_0.050000"
         },
         {
          "iter": 54,
          "value": 0.112,
          "variable": "lr_0.050000"
         },
         {
          "iter": 55,
          "value": 0.112,
          "variable": "lr_0.050000"
         },
         {
          "iter": 56,
          "value": 0.112,
          "variable": "lr_0.050000"
         },
         {
          "iter": 57,
          "value": 0.112,
          "variable": "lr_0.050000"
         },
         {
          "iter": 58,
          "value": 0.112,
          "variable": "lr_0.050000"
         },
         {
          "iter": 59,
          "value": 0.112,
          "variable": "lr_0.050000"
         },
         {
          "iter": 60,
          "value": 0.112,
          "variable": "lr_0.050000"
         },
         {
          "iter": 61,
          "value": 0.111,
          "variable": "lr_0.050000"
         },
         {
          "iter": 62,
          "value": 0.111,
          "variable": "lr_0.050000"
         },
         {
          "iter": 63,
          "value": 0.111,
          "variable": "lr_0.050000"
         },
         {
          "iter": 64,
          "value": 0.11,
          "variable": "lr_0.050000"
         },
         {
          "iter": 65,
          "value": 0.111,
          "variable": "lr_0.050000"
         },
         {
          "iter": 66,
          "value": 0.11,
          "variable": "lr_0.050000"
         },
         {
          "iter": 67,
          "value": 0.111,
          "variable": "lr_0.050000"
         },
         {
          "iter": 68,
          "value": 0.11,
          "variable": "lr_0.050000"
         },
         {
          "iter": 69,
          "value": 0.11,
          "variable": "lr_0.050000"
         },
         {
          "iter": 70,
          "value": 0.11,
          "variable": "lr_0.050000"
         },
         {
          "iter": 71,
          "value": 0.11,
          "variable": "lr_0.050000"
         },
         {
          "iter": 72,
          "value": 0.11,
          "variable": "lr_0.050000"
         },
         {
          "iter": 73,
          "value": 0.111,
          "variable": "lr_0.050000"
         },
         {
          "iter": 74,
          "value": 0.112,
          "variable": "lr_0.050000"
         },
         {
          "iter": 75,
          "value": 0.112,
          "variable": "lr_0.050000"
         },
         {
          "iter": 76,
          "value": 0.11,
          "variable": "lr_0.050000"
         },
         {
          "iter": 77,
          "value": 0.109,
          "variable": "lr_0.050000"
         },
         {
          "iter": 78,
          "value": 0.111,
          "variable": "lr_0.050000"
         },
         {
          "iter": 79,
          "value": 0.079,
          "variable": "lr_0.050000"
         },
         {
          "iter": 80,
          "value": 0.078,
          "variable": "lr_0.050000"
         },
         {
          "iter": 81,
          "value": 0.078,
          "variable": "lr_0.050000"
         },
         {
          "iter": 82,
          "value": 0.078,
          "variable": "lr_0.050000"
         },
         {
          "iter": 83,
          "value": 0.077,
          "variable": "lr_0.050000"
         },
         {
          "iter": 84,
          "value": 0.08,
          "variable": "lr_0.050000"
         },
         {
          "iter": 85,
          "value": 0.081,
          "variable": "lr_0.050000"
         },
         {
          "iter": 86,
          "value": 0.081,
          "variable": "lr_0.050000"
         },
         {
          "iter": 87,
          "value": 0.083,
          "variable": "lr_0.050000"
         },
         {
          "iter": 88,
          "value": 0.083,
          "variable": "lr_0.050000"
         },
         {
          "iter": 89,
          "value": 0.084,
          "variable": "lr_0.050000"
         },
         {
          "iter": 90,
          "value": 0.082,
          "variable": "lr_0.050000"
         },
         {
          "iter": 91,
          "value": 0.078,
          "variable": "lr_0.050000"
         },
         {
          "iter": 92,
          "value": 0.078,
          "variable": "lr_0.050000"
         },
         {
          "iter": 93,
          "value": 0.076,
          "variable": "lr_0.050000"
         },
         {
          "iter": 94,
          "value": 0.078,
          "variable": "lr_0.050000"
         },
         {
          "iter": 95,
          "value": 0.078,
          "variable": "lr_0.050000"
         },
         {
          "iter": 96,
          "value": 0.078,
          "variable": "lr_0.050000"
         },
         {
          "iter": 97,
          "value": 0.077,
          "variable": "lr_0.050000"
         },
         {
          "iter": 98,
          "value": 0.096,
          "variable": "lr_0.050000"
         },
         {
          "iter": 99,
          "value": 0.078,
          "variable": "lr_0.050000"
         },
         {
          "iter": 100,
          "value": 0.078,
          "variable": "lr_0.050000"
         },
         {
          "iter": 101,
          "value": 0.078,
          "variable": "lr_0.050000"
         },
         {
          "iter": 102,
          "value": 0.079,
          "variable": "lr_0.050000"
         },
         {
          "iter": 103,
          "value": 0.079,
          "variable": "lr_0.050000"
         },
         {
          "iter": 104,
          "value": 0.079,
          "variable": "lr_0.050000"
         },
         {
          "iter": 105,
          "value": 0.079,
          "variable": "lr_0.050000"
         },
         {
          "iter": 106,
          "value": 0.078,
          "variable": "lr_0.050000"
         },
         {
          "iter": 107,
          "value": 0.078,
          "variable": "lr_0.050000"
         },
         {
          "iter": 108,
          "value": 0.078,
          "variable": "lr_0.050000"
         },
         {
          "iter": 109,
          "value": 0.078,
          "variable": "lr_0.050000"
         },
         {
          "iter": 110,
          "value": 0.078,
          "variable": "lr_0.050000"
         },
         {
          "iter": 111,
          "value": 0.078,
          "variable": "lr_0.050000"
         },
         {
          "iter": 112,
          "value": 0.078,
          "variable": "lr_0.050000"
         },
         {
          "iter": 113,
          "value": 0.078,
          "variable": "lr_0.050000"
         },
         {
          "iter": 114,
          "value": 0.078,
          "variable": "lr_0.050000"
         },
         {
          "iter": 115,
          "value": 0.078,
          "variable": "lr_0.050000"
         },
         {
          "iter": 116,
          "value": 0.078,
          "variable": "lr_0.050000"
         },
         {
          "iter": 117,
          "value": 0.078,
          "variable": "lr_0.050000"
         },
         {
          "iter": 118,
          "value": 0.078,
          "variable": "lr_0.050000"
         },
         {
          "iter": 119,
          "value": 0.078,
          "variable": "lr_0.050000"
         },
         {
          "iter": 120,
          "value": 0.078,
          "variable": "lr_0.050000"
         },
         {
          "iter": 121,
          "value": 0.078,
          "variable": "lr_0.050000"
         },
         {
          "iter": 122,
          "value": 0.078,
          "variable": "lr_0.050000"
         },
         {
          "iter": 123,
          "value": 0.078,
          "variable": "lr_0.050000"
         },
         {
          "iter": 124,
          "value": 0.078,
          "variable": "lr_0.050000"
         },
         {
          "iter": 125,
          "value": 0.078,
          "variable": "lr_0.050000"
         },
         {
          "iter": 126,
          "value": 0.078,
          "variable": "lr_0.050000"
         },
         {
          "iter": 127,
          "value": 0.077,
          "variable": "lr_0.050000"
         },
         {
          "iter": 128,
          "value": 0.077,
          "variable": "lr_0.050000"
         },
         {
          "iter": 129,
          "value": 0.079,
          "variable": "lr_0.050000"
         },
         {
          "iter": 130,
          "value": 0.13,
          "variable": "lr_0.050000"
         },
         {
          "iter": 131,
          "value": 0.124,
          "variable": "lr_0.050000"
         },
         {
          "iter": 132,
          "value": 0.126,
          "variable": "lr_0.050000"
         },
         {
          "iter": 133,
          "value": 0.126,
          "variable": "lr_0.050000"
         },
         {
          "iter": 134,
          "value": 0.126,
          "variable": "lr_0.050000"
         },
         {
          "iter": 135,
          "value": 0.126,
          "variable": "lr_0.050000"
         },
         {
          "iter": 136,
          "value": 0.126,
          "variable": "lr_0.050000"
         },
         {
          "iter": 137,
          "value": 0.126,
          "variable": "lr_0.050000"
         },
         {
          "iter": 138,
          "value": 0.127,
          "variable": "lr_0.050000"
         },
         {
          "iter": 139,
          "value": 0.125,
          "variable": "lr_0.050000"
         },
         {
          "iter": 140,
          "value": 0.128,
          "variable": "lr_0.050000"
         },
         {
          "iter": 141,
          "value": 0.125,
          "variable": "lr_0.050000"
         },
         {
          "iter": 142,
          "value": 0.125,
          "variable": "lr_0.050000"
         },
         {
          "iter": 143,
          "value": 0.128,
          "variable": "lr_0.050000"
         },
         {
          "iter": 144,
          "value": 0.128,
          "variable": "lr_0.050000"
         },
         {
          "iter": 145,
          "value": 0.125,
          "variable": "lr_0.050000"
         },
         {
          "iter": 146,
          "value": 0.127,
          "variable": "lr_0.050000"
         },
         {
          "iter": 147,
          "value": 0.125,
          "variable": "lr_0.050000"
         },
         {
          "iter": 148,
          "value": 0.127,
          "variable": "lr_0.050000"
         },
         {
          "iter": 149,
          "value": 0.128,
          "variable": "lr_0.050000"
         },
         {
          "iter": 150,
          "value": 0.128,
          "variable": "lr_0.050000"
         },
         {
          "iter": 151,
          "value": 0.127,
          "variable": "lr_0.050000"
         },
         {
          "iter": 152,
          "value": 0.129,
          "variable": "lr_0.050000"
         },
         {
          "iter": 153,
          "value": 0.1,
          "variable": "lr_0.050000"
         },
         {
          "iter": 154,
          "value": 0.095,
          "variable": "lr_0.050000"
         },
         {
          "iter": 155,
          "value": 0.093,
          "variable": "lr_0.050000"
         },
         {
          "iter": 156,
          "value": 0.092,
          "variable": "lr_0.050000"
         },
         {
          "iter": 157,
          "value": 0.092,
          "variable": "lr_0.050000"
         },
         {
          "iter": 158,
          "value": 0.092,
          "variable": "lr_0.050000"
         },
         {
          "iter": 159,
          "value": 0.094,
          "variable": "lr_0.050000"
         },
         {
          "iter": 160,
          "value": 0.1,
          "variable": "lr_0.050000"
         },
         {
          "iter": 161,
          "value": 0.11,
          "variable": "lr_0.050000"
         },
         {
          "iter": 162,
          "value": 0.11,
          "variable": "lr_0.050000"
         },
         {
          "iter": 163,
          "value": 0.114,
          "variable": "lr_0.050000"
         },
         {
          "iter": 164,
          "value": 0.11,
          "variable": "lr_0.050000"
         },
         {
          "iter": 165,
          "value": 0.108,
          "variable": "lr_0.050000"
         },
         {
          "iter": 166,
          "value": 0.09,
          "variable": "lr_0.050000"
         },
         {
          "iter": 167,
          "value": 0.083,
          "variable": "lr_0.050000"
         },
         {
          "iter": 168,
          "value": 0.128,
          "variable": "lr_0.050000"
         },
         {
          "iter": 169,
          "value": 0.129,
          "variable": "lr_0.050000"
         },
         {
          "iter": 170,
          "value": 0.131,
          "variable": "lr_0.050000"
         },
         {
          "iter": 171,
          "value": 0.131,
          "variable": "lr_0.050000"
         },
         {
          "iter": 172,
          "value": 0.128,
          "variable": "lr_0.050000"
         },
         {
          "iter": 173,
          "value": 0.128,
          "variable": "lr_0.050000"
         },
         {
          "iter": 174,
          "value": 0.125,
          "variable": "lr_0.050000"
         },
         {
          "iter": 175,
          "value": 0.124,
          "variable": "lr_0.050000"
         },
         {
          "iter": 176,
          "value": 0.124,
          "variable": "lr_0.050000"
         },
         {
          "iter": 177,
          "value": 0.124,
          "variable": "lr_0.050000"
         },
         {
          "iter": 178,
          "value": 0.124,
          "variable": "lr_0.050000"
         },
         {
          "iter": 179,
          "value": 0.124,
          "variable": "lr_0.050000"
         },
         {
          "iter": 180,
          "value": 0.123,
          "variable": "lr_0.050000"
         },
         {
          "iter": 181,
          "value": 0.124,
          "variable": "lr_0.050000"
         },
         {
          "iter": 182,
          "value": 0.124,
          "variable": "lr_0.050000"
         },
         {
          "iter": 183,
          "value": 0.125,
          "variable": "lr_0.050000"
         },
         {
          "iter": 184,
          "value": 0.125,
          "variable": "lr_0.050000"
         },
         {
          "iter": 185,
          "value": 0.125,
          "variable": "lr_0.050000"
         },
         {
          "iter": 186,
          "value": 0.124,
          "variable": "lr_0.050000"
         },
         {
          "iter": 187,
          "value": 0.124,
          "variable": "lr_0.050000"
         },
         {
          "iter": 188,
          "value": 0.124,
          "variable": "lr_0.050000"
         },
         {
          "iter": 189,
          "value": 0.124,
          "variable": "lr_0.050000"
         },
         {
          "iter": 190,
          "value": 0.124,
          "variable": "lr_0.050000"
         },
         {
          "iter": 191,
          "value": 0.126,
          "variable": "lr_0.050000"
         },
         {
          "iter": 192,
          "value": 0.126,
          "variable": "lr_0.050000"
         },
         {
          "iter": 193,
          "value": 0.125,
          "variable": "lr_0.050000"
         },
         {
          "iter": 194,
          "value": 0.125,
          "variable": "lr_0.050000"
         },
         {
          "iter": 195,
          "value": 0.125,
          "variable": "lr_0.050000"
         },
         {
          "iter": 196,
          "value": 0.125,
          "variable": "lr_0.050000"
         },
         {
          "iter": 197,
          "value": 0.124,
          "variable": "lr_0.050000"
         },
         {
          "iter": 198,
          "value": 0.124,
          "variable": "lr_0.050000"
         },
         {
          "iter": 199,
          "value": 0.123,
          "variable": "lr_0.050000"
         },
         {
          "iter": 200,
          "value": 0.126,
          "variable": "lr_0.050000"
         }
        ]
       },
       "encoding": {
        "color": {
         "field": "variable",
         "type": "nominal"
        },
        "x": {
         "field": "iter",
         "title": "iteration",
         "type": "quantitative"
        },
        "y": {
         "field": "value",
         "title": "accuracy/loss",
         "type": "quantitative"
        }
       },
       "mark": "line",
       "selection": {
        "selector007": {
         "bind": "scales",
         "encodings": [
          "x",
          "y"
         ],
         "mark": {
          "fill": "#333",
          "fillOpacity": 0.125,
          "stroke": "white"
         },
         "on": "[mousedown, window:mouseup] > window:mousemove!",
         "resolve": "global",
         "translate": "[mousedown, window:mouseup] > window:mousemove!",
         "type": "interval",
         "zoom": "wheel!"
        }
       }
      },
      "image/png": "[encoded data removed]",
      "text/plain": [
       "<VegaLite 2 object>\n",
       "\n",
       "If you see this message, it means the renderer has not been properly enabled\n",
       "for the frontend that you are using. For more information, see\n",
       "https://altair-viz.github.io/user_guide/troubleshooting.html\n"
      ]
     },
     "execution_count": 45,
     "metadata": {},
     "output_type": "execute_result"
    }
   ],
   "source": [
    "results = pd.DataFrame(results)\n",
    "plot_loss_histories(results)"
   ]
  },
  {
   "cell_type": "code",
   "execution_count": 53,
   "metadata": {},
   "outputs": [],
   "source": [
    "learning_rate = 1e-2\n",
    "model = None\n",
    "optimizer = None\n",
    "results = {}\n",
    "initialize_weights = [True, False]\n",
    "for init_option in initialize_weights:\n",
    "    model = Net(3, 10, 20, 10, init_weights=init_option)\n",
    "    optimizer = optim.SGD(model.parameters(), lr=learning_rate, momentum=0.9, nesterov=True)\n",
    "    _, accuracy_history = train_net(model, optimizer, epochs=1, print_loss=False)\n",
    "    results[f'init_weight_{init_option}'] = accuracy_history\n",
    "    # add iter column if not exist\n",
    "    if not results.get('iter', None):\n",
    "        results['iter'] = list(range(len(results[f'init_weight_{init_option}'])))"
   ]
  },
  {
   "cell_type": "code",
   "execution_count": 54,
   "metadata": {},
   "outputs": [
    {
     "data": {
      "application/vnd.vegalite.v2+json": {
       "$schema": "https://vega.github.io/schema/vega-lite/v2.4.1.json",
       "config": {
        "view": {
         "height": 300,
         "width": 400
        }
       },
       "data": {
        "values": [
         {
          "iter": 0,
          "value": 0.124,
          "variable": "init_weight_False"
         },
         {
          "iter": 1,
          "value": 0.128,
          "variable": "init_weight_False"
         },
         {
          "iter": 2,
          "value": 0.166,
          "variable": "init_weight_False"
         },
         {
          "iter": 3,
          "value": 0.193,
          "variable": "init_weight_False"
         },
         {
          "iter": 4,
          "value": 0.195,
          "variable": "init_weight_False"
         },
         {
          "iter": 5,
          "value": 0.196,
          "variable": "init_weight_False"
         },
         {
          "iter": 6,
          "value": 0.212,
          "variable": "init_weight_False"
         },
         {
          "iter": 7,
          "value": 0.221,
          "variable": "init_weight_False"
         },
         {
          "iter": 8,
          "value": 0.281,
          "variable": "init_weight_False"
         },
         {
          "iter": 9,
          "value": 0.271,
          "variable": "init_weight_False"
         },
         {
          "iter": 10,
          "value": 0.262,
          "variable": "init_weight_False"
         },
         {
          "iter": 11,
          "value": 0.276,
          "variable": "init_weight_False"
         },
         {
          "iter": 12,
          "value": 0.287,
          "variable": "init_weight_False"
         },
         {
          "iter": 13,
          "value": 0.29,
          "variable": "init_weight_False"
         },
         {
          "iter": 14,
          "value": 0.302,
          "variable": "init_weight_False"
         },
         {
          "iter": 15,
          "value": 0.313,
          "variable": "init_weight_False"
         },
         {
          "iter": 16,
          "value": 0.316,
          "variable": "init_weight_False"
         },
         {
          "iter": 17,
          "value": 0.325,
          "variable": "init_weight_False"
         },
         {
          "iter": 18,
          "value": 0.33,
          "variable": "init_weight_False"
         },
         {
          "iter": 19,
          "value": 0.325,
          "variable": "init_weight_False"
         },
         {
          "iter": 20,
          "value": 0.331,
          "variable": "init_weight_False"
         },
         {
          "iter": 21,
          "value": 0.333,
          "variable": "init_weight_False"
         },
         {
          "iter": 22,
          "value": 0.35,
          "variable": "init_weight_False"
         },
         {
          "iter": 23,
          "value": 0.333,
          "variable": "init_weight_False"
         },
         {
          "iter": 24,
          "value": 0.363,
          "variable": "init_weight_False"
         },
         {
          "iter": 25,
          "value": 0.373,
          "variable": "init_weight_False"
         },
         {
          "iter": 26,
          "value": 0.353,
          "variable": "init_weight_False"
         },
         {
          "iter": 27,
          "value": 0.368,
          "variable": "init_weight_False"
         },
         {
          "iter": 28,
          "value": 0.389,
          "variable": "init_weight_False"
         },
         {
          "iter": 29,
          "value": 0.366,
          "variable": "init_weight_False"
         },
         {
          "iter": 30,
          "value": 0.35,
          "variable": "init_weight_False"
         },
         {
          "iter": 31,
          "value": 0.386,
          "variable": "init_weight_False"
         },
         {
          "iter": 32,
          "value": 0.361,
          "variable": "init_weight_False"
         },
         {
          "iter": 33,
          "value": 0.379,
          "variable": "init_weight_False"
         },
         {
          "iter": 34,
          "value": 0.388,
          "variable": "init_weight_False"
         },
         {
          "iter": 35,
          "value": 0.39,
          "variable": "init_weight_False"
         },
         {
          "iter": 36,
          "value": 0.374,
          "variable": "init_weight_False"
         },
         {
          "iter": 37,
          "value": 0.37,
          "variable": "init_weight_False"
         },
         {
          "iter": 38,
          "value": 0.331,
          "variable": "init_weight_False"
         },
         {
          "iter": 39,
          "value": 0.335,
          "variable": "init_weight_False"
         },
         {
          "iter": 40,
          "value": 0.342,
          "variable": "init_weight_False"
         },
         {
          "iter": 41,
          "value": 0.365,
          "variable": "init_weight_False"
         },
         {
          "iter": 42,
          "value": 0.35,
          "variable": "init_weight_False"
         },
         {
          "iter": 43,
          "value": 0.371,
          "variable": "init_weight_False"
         },
         {
          "iter": 44,
          "value": 0.372,
          "variable": "init_weight_False"
         },
         {
          "iter": 45,
          "value": 0.38,
          "variable": "init_weight_False"
         },
         {
          "iter": 46,
          "value": 0.382,
          "variable": "init_weight_False"
         },
         {
          "iter": 47,
          "value": 0.394,
          "variable": "init_weight_False"
         },
         {
          "iter": 48,
          "value": 0.401,
          "variable": "init_weight_False"
         },
         {
          "iter": 49,
          "value": 0.404,
          "variable": "init_weight_False"
         },
         {
          "iter": 50,
          "value": 0.345,
          "variable": "init_weight_False"
         },
         {
          "iter": 51,
          "value": 0.367,
          "variable": "init_weight_False"
         },
         {
          "iter": 52,
          "value": 0.4,
          "variable": "init_weight_False"
         },
         {
          "iter": 53,
          "value": 0.414,
          "variable": "init_weight_False"
         },
         {
          "iter": 54,
          "value": 0.391,
          "variable": "init_weight_False"
         },
         {
          "iter": 55,
          "value": 0.411,
          "variable": "init_weight_False"
         },
         {
          "iter": 56,
          "value": 0.403,
          "variable": "init_weight_False"
         },
         {
          "iter": 57,
          "value": 0.418,
          "variable": "init_weight_False"
         },
         {
          "iter": 58,
          "value": 0.408,
          "variable": "init_weight_False"
         },
         {
          "iter": 59,
          "value": 0.424,
          "variable": "init_weight_False"
         },
         {
          "iter": 60,
          "value": 0.41,
          "variable": "init_weight_False"
         },
         {
          "iter": 61,
          "value": 0.416,
          "variable": "init_weight_False"
         },
         {
          "iter": 62,
          "value": 0.427,
          "variable": "init_weight_False"
         },
         {
          "iter": 63,
          "value": 0.438,
          "variable": "init_weight_False"
         },
         {
          "iter": 64,
          "value": 0.425,
          "variable": "init_weight_False"
         },
         {
          "iter": 65,
          "value": 0.438,
          "variable": "init_weight_False"
         },
         {
          "iter": 66,
          "value": 0.421,
          "variable": "init_weight_False"
         },
         {
          "iter": 67,
          "value": 0.406,
          "variable": "init_weight_False"
         },
         {
          "iter": 68,
          "value": 0.392,
          "variable": "init_weight_False"
         },
         {
          "iter": 69,
          "value": 0.402,
          "variable": "init_weight_False"
         },
         {
          "iter": 70,
          "value": 0.406,
          "variable": "init_weight_False"
         },
         {
          "iter": 71,
          "value": 0.392,
          "variable": "init_weight_False"
         },
         {
          "iter": 72,
          "value": 0.416,
          "variable": "init_weight_False"
         },
         {
          "iter": 73,
          "value": 0.421,
          "variable": "init_weight_False"
         },
         {
          "iter": 74,
          "value": 0.421,
          "variable": "init_weight_False"
         },
         {
          "iter": 75,
          "value": 0.42,
          "variable": "init_weight_False"
         },
         {
          "iter": 76,
          "value": 0.415,
          "variable": "init_weight_False"
         },
         {
          "iter": 77,
          "value": 0.411,
          "variable": "init_weight_False"
         },
         {
          "iter": 78,
          "value": 0.408,
          "variable": "init_weight_False"
         },
         {
          "iter": 79,
          "value": 0.429,
          "variable": "init_weight_False"
         },
         {
          "iter": 80,
          "value": 0.438,
          "variable": "init_weight_False"
         },
         {
          "iter": 81,
          "value": 0.427,
          "variable": "init_weight_False"
         },
         {
          "iter": 82,
          "value": 0.42,
          "variable": "init_weight_False"
         },
         {
          "iter": 83,
          "value": 0.424,
          "variable": "init_weight_False"
         },
         {
          "iter": 84,
          "value": 0.406,
          "variable": "init_weight_False"
         },
         {
          "iter": 85,
          "value": 0.389,
          "variable": "init_weight_False"
         },
         {
          "iter": 86,
          "value": 0.415,
          "variable": "init_weight_False"
         },
         {
          "iter": 87,
          "value": 0.418,
          "variable": "init_weight_False"
         },
         {
          "iter": 88,
          "value": 0.433,
          "variable": "init_weight_False"
         },
         {
          "iter": 89,
          "value": 0.443,
          "variable": "init_weight_False"
         },
         {
          "iter": 90,
          "value": 0.428,
          "variable": "init_weight_False"
         },
         {
          "iter": 91,
          "value": 0.422,
          "variable": "init_weight_False"
         },
         {
          "iter": 92,
          "value": 0.42,
          "variable": "init_weight_False"
         },
         {
          "iter": 93,
          "value": 0.43,
          "variable": "init_weight_False"
         },
         {
          "iter": 94,
          "value": 0.423,
          "variable": "init_weight_False"
         },
         {
          "iter": 95,
          "value": 0.423,
          "variable": "init_weight_False"
         },
         {
          "iter": 96,
          "value": 0.424,
          "variable": "init_weight_False"
         },
         {
          "iter": 97,
          "value": 0.438,
          "variable": "init_weight_False"
         },
         {
          "iter": 98,
          "value": 0.429,
          "variable": "init_weight_False"
         },
         {
          "iter": 99,
          "value": 0.436,
          "variable": "init_weight_False"
         },
         {
          "iter": 100,
          "value": 0.456,
          "variable": "init_weight_False"
         },
         {
          "iter": 101,
          "value": 0.454,
          "variable": "init_weight_False"
         },
         {
          "iter": 102,
          "value": 0.459,
          "variable": "init_weight_False"
         },
         {
          "iter": 103,
          "value": 0.463,
          "variable": "init_weight_False"
         },
         {
          "iter": 104,
          "value": 0.44,
          "variable": "init_weight_False"
         },
         {
          "iter": 105,
          "value": 0.435,
          "variable": "init_weight_False"
         },
         {
          "iter": 106,
          "value": 0.457,
          "variable": "init_weight_False"
         },
         {
          "iter": 107,
          "value": 0.458,
          "variable": "init_weight_False"
         },
         {
          "iter": 108,
          "value": 0.446,
          "variable": "init_weight_False"
         },
         {
          "iter": 109,
          "value": 0.455,
          "variable": "init_weight_False"
         },
         {
          "iter": 110,
          "value": 0.448,
          "variable": "init_weight_False"
         },
         {
          "iter": 111,
          "value": 0.452,
          "variable": "init_weight_False"
         },
         {
          "iter": 112,
          "value": 0.451,
          "variable": "init_weight_False"
         },
         {
          "iter": 113,
          "value": 0.444,
          "variable": "init_weight_False"
         },
         {
          "iter": 114,
          "value": 0.435,
          "variable": "init_weight_False"
         },
         {
          "iter": 115,
          "value": 0.423,
          "variable": "init_weight_False"
         },
         {
          "iter": 116,
          "value": 0.423,
          "variable": "init_weight_False"
         },
         {
          "iter": 117,
          "value": 0.455,
          "variable": "init_weight_False"
         },
         {
          "iter": 118,
          "value": 0.45,
          "variable": "init_weight_False"
         },
         {
          "iter": 119,
          "value": 0.453,
          "variable": "init_weight_False"
         },
         {
          "iter": 120,
          "value": 0.443,
          "variable": "init_weight_False"
         },
         {
          "iter": 121,
          "value": 0.419,
          "variable": "init_weight_False"
         },
         {
          "iter": 122,
          "value": 0.431,
          "variable": "init_weight_False"
         },
         {
          "iter": 123,
          "value": 0.452,
          "variable": "init_weight_False"
         },
         {
          "iter": 124,
          "value": 0.462,
          "variable": "init_weight_False"
         },
         {
          "iter": 125,
          "value": 0.467,
          "variable": "init_weight_False"
         },
         {
          "iter": 126,
          "value": 0.453,
          "variable": "init_weight_False"
         },
         {
          "iter": 127,
          "value": 0.449,
          "variable": "init_weight_False"
         },
         {
          "iter": 128,
          "value": 0.459,
          "variable": "init_weight_False"
         },
         {
          "iter": 129,
          "value": 0.457,
          "variable": "init_weight_False"
         },
         {
          "iter": 130,
          "value": 0.465,
          "variable": "init_weight_False"
         },
         {
          "iter": 131,
          "value": 0.46,
          "variable": "init_weight_False"
         },
         {
          "iter": 132,
          "value": 0.467,
          "variable": "init_weight_False"
         },
         {
          "iter": 133,
          "value": 0.483,
          "variable": "init_weight_False"
         },
         {
          "iter": 134,
          "value": 0.468,
          "variable": "init_weight_False"
         },
         {
          "iter": 135,
          "value": 0.447,
          "variable": "init_weight_False"
         },
         {
          "iter": 136,
          "value": 0.445,
          "variable": "init_weight_False"
         },
         {
          "iter": 137,
          "value": 0.435,
          "variable": "init_weight_False"
         },
         {
          "iter": 138,
          "value": 0.439,
          "variable": "init_weight_False"
         },
         {
          "iter": 139,
          "value": 0.423,
          "variable": "init_weight_False"
         },
         {
          "iter": 140,
          "value": 0.433,
          "variable": "init_weight_False"
         },
         {
          "iter": 141,
          "value": 0.428,
          "variable": "init_weight_False"
         },
         {
          "iter": 142,
          "value": 0.405,
          "variable": "init_weight_False"
         },
         {
          "iter": 143,
          "value": 0.43,
          "variable": "init_weight_False"
         },
         {
          "iter": 144,
          "value": 0.435,
          "variable": "init_weight_False"
         },
         {
          "iter": 145,
          "value": 0.444,
          "variable": "init_weight_False"
         },
         {
          "iter": 146,
          "value": 0.451,
          "variable": "init_weight_False"
         },
         {
          "iter": 147,
          "value": 0.469,
          "variable": "init_weight_False"
         },
         {
          "iter": 148,
          "value": 0.467,
          "variable": "init_weight_False"
         },
         {
          "iter": 149,
          "value": 0.475,
          "variable": "init_weight_False"
         },
         {
          "iter": 150,
          "value": 0.459,
          "variable": "init_weight_False"
         },
         {
          "iter": 151,
          "value": 0.459,
          "variable": "init_weight_False"
         },
         {
          "iter": 152,
          "value": 0.478,
          "variable": "init_weight_False"
         },
         {
          "iter": 153,
          "value": 0.468,
          "variable": "init_weight_False"
         },
         {
          "iter": 154,
          "value": 0.478,
          "variable": "init_weight_False"
         },
         {
          "iter": 155,
          "value": 0.471,
          "variable": "init_weight_False"
         },
         {
          "iter": 156,
          "value": 0.454,
          "variable": "init_weight_False"
         },
         {
          "iter": 157,
          "value": 0.477,
          "variable": "init_weight_False"
         },
         {
          "iter": 158,
          "value": 0.473,
          "variable": "init_weight_False"
         },
         {
          "iter": 159,
          "value": 0.465,
          "variable": "init_weight_False"
         },
         {
          "iter": 160,
          "value": 0.472,
          "variable": "init_weight_False"
         },
         {
          "iter": 161,
          "value": 0.478,
          "variable": "init_weight_False"
         },
         {
          "iter": 162,
          "value": 0.475,
          "variable": "init_weight_False"
         },
         {
          "iter": 163,
          "value": 0.464,
          "variable": "init_weight_False"
         },
         {
          "iter": 164,
          "value": 0.442,
          "variable": "init_weight_False"
         },
         {
          "iter": 165,
          "value": 0.475,
          "variable": "init_weight_False"
         },
         {
          "iter": 166,
          "value": 0.485,
          "variable": "init_weight_False"
         },
         {
          "iter": 167,
          "value": 0.48,
          "variable": "init_weight_False"
         },
         {
          "iter": 168,
          "value": 0.486,
          "variable": "init_weight_False"
         },
         {
          "iter": 169,
          "value": 0.498,
          "variable": "init_weight_False"
         },
         {
          "iter": 170,
          "value": 0.478,
          "variable": "init_weight_False"
         },
         {
          "iter": 171,
          "value": 0.487,
          "variable": "init_weight_False"
         },
         {
          "iter": 172,
          "value": 0.509,
          "variable": "init_weight_False"
         },
         {
          "iter": 173,
          "value": 0.509,
          "variable": "init_weight_False"
         },
         {
          "iter": 174,
          "value": 0.491,
          "variable": "init_weight_False"
         },
         {
          "iter": 175,
          "value": 0.491,
          "variable": "init_weight_False"
         },
         {
          "iter": 176,
          "value": 0.489,
          "variable": "init_weight_False"
         },
         {
          "iter": 177,
          "value": 0.493,
          "variable": "init_weight_False"
         },
         {
          "iter": 178,
          "value": 0.5,
          "variable": "init_weight_False"
         },
         {
          "iter": 179,
          "value": 0.497,
          "variable": "init_weight_False"
         },
         {
          "iter": 180,
          "value": 0.475,
          "variable": "init_weight_False"
         },
         {
          "iter": 181,
          "value": 0.461,
          "variable": "init_weight_False"
         },
         {
          "iter": 182,
          "value": 0.483,
          "variable": "init_weight_False"
         },
         {
          "iter": 183,
          "value": 0.47,
          "variable": "init_weight_False"
         },
         {
          "iter": 184,
          "value": 0.47,
          "variable": "init_weight_False"
         },
         {
          "iter": 185,
          "value": 0.473,
          "variable": "init_weight_False"
         },
         {
          "iter": 186,
          "value": 0.472,
          "variable": "init_weight_False"
         },
         {
          "iter": 187,
          "value": 0.476,
          "variable": "init_weight_False"
         },
         {
          "iter": 188,
          "value": 0.485,
          "variable": "init_weight_False"
         },
         {
          "iter": 189,
          "value": 0.481,
          "variable": "init_weight_False"
         },
         {
          "iter": 190,
          "value": 0.472,
          "variable": "init_weight_False"
         },
         {
          "iter": 191,
          "value": 0.456,
          "variable": "init_weight_False"
         },
         {
          "iter": 192,
          "value": 0.474,
          "variable": "init_weight_False"
         },
         {
          "iter": 193,
          "value": 0.476,
          "variable": "init_weight_False"
         },
         {
          "iter": 194,
          "value": 0.482,
          "variable": "init_weight_False"
         },
         {
          "iter": 195,
          "value": 0.475,
          "variable": "init_weight_False"
         },
         {
          "iter": 196,
          "value": 0.472,
          "variable": "init_weight_False"
         },
         {
          "iter": 197,
          "value": 0.47,
          "variable": "init_weight_False"
         },
         {
          "iter": 198,
          "value": 0.478,
          "variable": "init_weight_False"
         },
         {
          "iter": 199,
          "value": 0.491,
          "variable": "init_weight_False"
         },
         {
          "iter": 200,
          "value": 0.492,
          "variable": "init_weight_False"
         },
         {
          "iter": 0,
          "value": 0.078,
          "variable": "init_weight_True"
         },
         {
          "iter": 1,
          "value": 0.102,
          "variable": "init_weight_True"
         },
         {
          "iter": 2,
          "value": 0.095,
          "variable": "init_weight_True"
         },
         {
          "iter": 3,
          "value": 0.102,
          "variable": "init_weight_True"
         },
         {
          "iter": 4,
          "value": 0.121,
          "variable": "init_weight_True"
         },
         {
          "iter": 5,
          "value": 0.134,
          "variable": "init_weight_True"
         },
         {
          "iter": 6,
          "value": 0.136,
          "variable": "init_weight_True"
         },
         {
          "iter": 7,
          "value": 0.137,
          "variable": "init_weight_True"
         },
         {
          "iter": 8,
          "value": 0.144,
          "variable": "init_weight_True"
         },
         {
          "iter": 9,
          "value": 0.145,
          "variable": "init_weight_True"
         },
         {
          "iter": 10,
          "value": 0.155,
          "variable": "init_weight_True"
         },
         {
          "iter": 11,
          "value": 0.164,
          "variable": "init_weight_True"
         },
         {
          "iter": 12,
          "value": 0.165,
          "variable": "init_weight_True"
         },
         {
          "iter": 13,
          "value": 0.159,
          "variable": "init_weight_True"
         },
         {
          "iter": 14,
          "value": 0.177,
          "variable": "init_weight_True"
         },
         {
          "iter": 15,
          "value": 0.165,
          "variable": "init_weight_True"
         },
         {
          "iter": 16,
          "value": 0.161,
          "variable": "init_weight_True"
         },
         {
          "iter": 17,
          "value": 0.169,
          "variable": "init_weight_True"
         },
         {
          "iter": 18,
          "value": 0.161,
          "variable": "init_weight_True"
         },
         {
          "iter": 19,
          "value": 0.172,
          "variable": "init_weight_True"
         },
         {
          "iter": 20,
          "value": 0.204,
          "variable": "init_weight_True"
         },
         {
          "iter": 21,
          "value": 0.205,
          "variable": "init_weight_True"
         },
         {
          "iter": 22,
          "value": 0.195,
          "variable": "init_weight_True"
         },
         {
          "iter": 23,
          "value": 0.176,
          "variable": "init_weight_True"
         },
         {
          "iter": 24,
          "value": 0.183,
          "variable": "init_weight_True"
         },
         {
          "iter": 25,
          "value": 0.183,
          "variable": "init_weight_True"
         },
         {
          "iter": 26,
          "value": 0.186,
          "variable": "init_weight_True"
         },
         {
          "iter": 27,
          "value": 0.195,
          "variable": "init_weight_True"
         },
         {
          "iter": 28,
          "value": 0.196,
          "variable": "init_weight_True"
         },
         {
          "iter": 29,
          "value": 0.199,
          "variable": "init_weight_True"
         },
         {
          "iter": 30,
          "value": 0.215,
          "variable": "init_weight_True"
         },
         {
          "iter": 31,
          "value": 0.214,
          "variable": "init_weight_True"
         },
         {
          "iter": 32,
          "value": 0.22,
          "variable": "init_weight_True"
         },
         {
          "iter": 33,
          "value": 0.235,
          "variable": "init_weight_True"
         },
         {
          "iter": 34,
          "value": 0.239,
          "variable": "init_weight_True"
         },
         {
          "iter": 35,
          "value": 0.219,
          "variable": "init_weight_True"
         },
         {
          "iter": 36,
          "value": 0.241,
          "variable": "init_weight_True"
         },
         {
          "iter": 37,
          "value": 0.249,
          "variable": "init_weight_True"
         },
         {
          "iter": 38,
          "value": 0.241,
          "variable": "init_weight_True"
         },
         {
          "iter": 39,
          "value": 0.226,
          "variable": "init_weight_True"
         },
         {
          "iter": 40,
          "value": 0.215,
          "variable": "init_weight_True"
         },
         {
          "iter": 41,
          "value": 0.205,
          "variable": "init_weight_True"
         },
         {
          "iter": 42,
          "value": 0.187,
          "variable": "init_weight_True"
         },
         {
          "iter": 43,
          "value": 0.212,
          "variable": "init_weight_True"
         },
         {
          "iter": 44,
          "value": 0.222,
          "variable": "init_weight_True"
         },
         {
          "iter": 45,
          "value": 0.233,
          "variable": "init_weight_True"
         },
         {
          "iter": 46,
          "value": 0.21,
          "variable": "init_weight_True"
         },
         {
          "iter": 47,
          "value": 0.218,
          "variable": "init_weight_True"
         },
         {
          "iter": 48,
          "value": 0.216,
          "variable": "init_weight_True"
         },
         {
          "iter": 49,
          "value": 0.225,
          "variable": "init_weight_True"
         },
         {
          "iter": 50,
          "value": 0.242,
          "variable": "init_weight_True"
         },
         {
          "iter": 51,
          "value": 0.253,
          "variable": "init_weight_True"
         },
         {
          "iter": 52,
          "value": 0.241,
          "variable": "init_weight_True"
         },
         {
          "iter": 53,
          "value": 0.209,
          "variable": "init_weight_True"
         },
         {
          "iter": 54,
          "value": 0.204,
          "variable": "init_weight_True"
         },
         {
          "iter": 55,
          "value": 0.204,
          "variable": "init_weight_True"
         },
         {
          "iter": 56,
          "value": 0.19,
          "variable": "init_weight_True"
         },
         {
          "iter": 57,
          "value": 0.201,
          "variable": "init_weight_True"
         },
         {
          "iter": 58,
          "value": 0.216,
          "variable": "init_weight_True"
         },
         {
          "iter": 59,
          "value": 0.213,
          "variable": "init_weight_True"
         },
         {
          "iter": 60,
          "value": 0.218,
          "variable": "init_weight_True"
         },
         {
          "iter": 61,
          "value": 0.216,
          "variable": "init_weight_True"
         },
         {
          "iter": 62,
          "value": 0.209,
          "variable": "init_weight_True"
         },
         {
          "iter": 63,
          "value": 0.214,
          "variable": "init_weight_True"
         },
         {
          "iter": 64,
          "value": 0.214,
          "variable": "init_weight_True"
         },
         {
          "iter": 65,
          "value": 0.207,
          "variable": "init_weight_True"
         },
         {
          "iter": 66,
          "value": 0.215,
          "variable": "init_weight_True"
         },
         {
          "iter": 67,
          "value": 0.222,
          "variable": "init_weight_True"
         },
         {
          "iter": 68,
          "value": 0.231,
          "variable": "init_weight_True"
         },
         {
          "iter": 69,
          "value": 0.237,
          "variable": "init_weight_True"
         },
         {
          "iter": 70,
          "value": 0.227,
          "variable": "init_weight_True"
         },
         {
          "iter": 71,
          "value": 0.24,
          "variable": "init_weight_True"
         },
         {
          "iter": 72,
          "value": 0.232,
          "variable": "init_weight_True"
         },
         {
          "iter": 73,
          "value": 0.248,
          "variable": "init_weight_True"
         },
         {
          "iter": 74,
          "value": 0.26,
          "variable": "init_weight_True"
         },
         {
          "iter": 75,
          "value": 0.24,
          "variable": "init_weight_True"
         },
         {
          "iter": 76,
          "value": 0.221,
          "variable": "init_weight_True"
         },
         {
          "iter": 77,
          "value": 0.226,
          "variable": "init_weight_True"
         },
         {
          "iter": 78,
          "value": 0.233,
          "variable": "init_weight_True"
         },
         {
          "iter": 79,
          "value": 0.232,
          "variable": "init_weight_True"
         },
         {
          "iter": 80,
          "value": 0.229,
          "variable": "init_weight_True"
         },
         {
          "iter": 81,
          "value": 0.225,
          "variable": "init_weight_True"
         },
         {
          "iter": 82,
          "value": 0.227,
          "variable": "init_weight_True"
         },
         {
          "iter": 83,
          "value": 0.237,
          "variable": "init_weight_True"
         },
         {
          "iter": 84,
          "value": 0.235,
          "variable": "init_weight_True"
         },
         {
          "iter": 85,
          "value": 0.245,
          "variable": "init_weight_True"
         },
         {
          "iter": 86,
          "value": 0.251,
          "variable": "init_weight_True"
         },
         {
          "iter": 87,
          "value": 0.243,
          "variable": "init_weight_True"
         },
         {
          "iter": 88,
          "value": 0.241,
          "variable": "init_weight_True"
         },
         {
          "iter": 89,
          "value": 0.239,
          "variable": "init_weight_True"
         },
         {
          "iter": 90,
          "value": 0.242,
          "variable": "init_weight_True"
         },
         {
          "iter": 91,
          "value": 0.247,
          "variable": "init_weight_True"
         },
         {
          "iter": 92,
          "value": 0.246,
          "variable": "init_weight_True"
         },
         {
          "iter": 93,
          "value": 0.249,
          "variable": "init_weight_True"
         },
         {
          "iter": 94,
          "value": 0.253,
          "variable": "init_weight_True"
         },
         {
          "iter": 95,
          "value": 0.216,
          "variable": "init_weight_True"
         },
         {
          "iter": 96,
          "value": 0.21,
          "variable": "init_weight_True"
         },
         {
          "iter": 97,
          "value": 0.219,
          "variable": "init_weight_True"
         },
         {
          "iter": 98,
          "value": 0.238,
          "variable": "init_weight_True"
         },
         {
          "iter": 99,
          "value": 0.244,
          "variable": "init_weight_True"
         },
         {
          "iter": 100,
          "value": 0.256,
          "variable": "init_weight_True"
         },
         {
          "iter": 101,
          "value": 0.239,
          "variable": "init_weight_True"
         },
         {
          "iter": 102,
          "value": 0.249,
          "variable": "init_weight_True"
         },
         {
          "iter": 103,
          "value": 0.256,
          "variable": "init_weight_True"
         },
         {
          "iter": 104,
          "value": 0.231,
          "variable": "init_weight_True"
         },
         {
          "iter": 105,
          "value": 0.262,
          "variable": "init_weight_True"
         },
         {
          "iter": 106,
          "value": 0.261,
          "variable": "init_weight_True"
         },
         {
          "iter": 107,
          "value": 0.255,
          "variable": "init_weight_True"
         },
         {
          "iter": 108,
          "value": 0.257,
          "variable": "init_weight_True"
         },
         {
          "iter": 109,
          "value": 0.265,
          "variable": "init_weight_True"
         },
         {
          "iter": 110,
          "value": 0.26,
          "variable": "init_weight_True"
         },
         {
          "iter": 111,
          "value": 0.241,
          "variable": "init_weight_True"
         },
         {
          "iter": 112,
          "value": 0.266,
          "variable": "init_weight_True"
         },
         {
          "iter": 113,
          "value": 0.272,
          "variable": "init_weight_True"
         },
         {
          "iter": 114,
          "value": 0.268,
          "variable": "init_weight_True"
         },
         {
          "iter": 115,
          "value": 0.273,
          "variable": "init_weight_True"
         },
         {
          "iter": 116,
          "value": 0.248,
          "variable": "init_weight_True"
         },
         {
          "iter": 117,
          "value": 0.252,
          "variable": "init_weight_True"
         },
         {
          "iter": 118,
          "value": 0.251,
          "variable": "init_weight_True"
         },
         {
          "iter": 119,
          "value": 0.259,
          "variable": "init_weight_True"
         },
         {
          "iter": 120,
          "value": 0.251,
          "variable": "init_weight_True"
         },
         {
          "iter": 121,
          "value": 0.256,
          "variable": "init_weight_True"
         },
         {
          "iter": 122,
          "value": 0.254,
          "variable": "init_weight_True"
         },
         {
          "iter": 123,
          "value": 0.256,
          "variable": "init_weight_True"
         },
         {
          "iter": 124,
          "value": 0.259,
          "variable": "init_weight_True"
         },
         {
          "iter": 125,
          "value": 0.257,
          "variable": "init_weight_True"
         },
         {
          "iter": 126,
          "value": 0.254,
          "variable": "init_weight_True"
         },
         {
          "iter": 127,
          "value": 0.259,
          "variable": "init_weight_True"
         },
         {
          "iter": 128,
          "value": 0.266,
          "variable": "init_weight_True"
         },
         {
          "iter": 129,
          "value": 0.277,
          "variable": "init_weight_True"
         },
         {
          "iter": 130,
          "value": 0.274,
          "variable": "init_weight_True"
         },
         {
          "iter": 131,
          "value": 0.286,
          "variable": "init_weight_True"
         },
         {
          "iter": 132,
          "value": 0.287,
          "variable": "init_weight_True"
         },
         {
          "iter": 133,
          "value": 0.272,
          "variable": "init_weight_True"
         },
         {
          "iter": 134,
          "value": 0.284,
          "variable": "init_weight_True"
         },
         {
          "iter": 135,
          "value": 0.286,
          "variable": "init_weight_True"
         },
         {
          "iter": 136,
          "value": 0.288,
          "variable": "init_weight_True"
         },
         {
          "iter": 137,
          "value": 0.296,
          "variable": "init_weight_True"
         },
         {
          "iter": 138,
          "value": 0.28,
          "variable": "init_weight_True"
         },
         {
          "iter": 139,
          "value": 0.29,
          "variable": "init_weight_True"
         },
         {
          "iter": 140,
          "value": 0.287,
          "variable": "init_weight_True"
         },
         {
          "iter": 141,
          "value": 0.296,
          "variable": "init_weight_True"
         },
         {
          "iter": 142,
          "value": 0.303,
          "variable": "init_weight_True"
         },
         {
          "iter": 143,
          "value": 0.287,
          "variable": "init_weight_True"
         },
         {
          "iter": 144,
          "value": 0.3,
          "variable": "init_weight_True"
         },
         {
          "iter": 145,
          "value": 0.297,
          "variable": "init_weight_True"
         },
         {
          "iter": 146,
          "value": 0.303,
          "variable": "init_weight_True"
         },
         {
          "iter": 147,
          "value": 0.301,
          "variable": "init_weight_True"
         },
         {
          "iter": 148,
          "value": 0.312,
          "variable": "init_weight_True"
         },
         {
          "iter": 149,
          "value": 0.294,
          "variable": "init_weight_True"
         },
         {
          "iter": 150,
          "value": 0.291,
          "variable": "init_weight_True"
         },
         {
          "iter": 151,
          "value": 0.283,
          "variable": "init_weight_True"
         },
         {
          "iter": 152,
          "value": 0.318,
          "variable": "init_weight_True"
         },
         {
          "iter": 153,
          "value": 0.302,
          "variable": "init_weight_True"
         },
         {
          "iter": 154,
          "value": 0.314,
          "variable": "init_weight_True"
         },
         {
          "iter": 155,
          "value": 0.309,
          "variable": "init_weight_True"
         },
         {
          "iter": 156,
          "value": 0.281,
          "variable": "init_weight_True"
         },
         {
          "iter": 157,
          "value": 0.295,
          "variable": "init_weight_True"
         },
         {
          "iter": 158,
          "value": 0.286,
          "variable": "init_weight_True"
         },
         {
          "iter": 159,
          "value": 0.282,
          "variable": "init_weight_True"
         },
         {
          "iter": 160,
          "value": 0.275,
          "variable": "init_weight_True"
         },
         {
          "iter": 161,
          "value": 0.266,
          "variable": "init_weight_True"
         },
         {
          "iter": 162,
          "value": 0.268,
          "variable": "init_weight_True"
         },
         {
          "iter": 163,
          "value": 0.277,
          "variable": "init_weight_True"
         },
         {
          "iter": 164,
          "value": 0.272,
          "variable": "init_weight_True"
         },
         {
          "iter": 165,
          "value": 0.267,
          "variable": "init_weight_True"
         },
         {
          "iter": 166,
          "value": 0.269,
          "variable": "init_weight_True"
         },
         {
          "iter": 167,
          "value": 0.234,
          "variable": "init_weight_True"
         },
         {
          "iter": 168,
          "value": 0.231,
          "variable": "init_weight_True"
         },
         {
          "iter": 169,
          "value": 0.263,
          "variable": "init_weight_True"
         },
         {
          "iter": 170,
          "value": 0.267,
          "variable": "init_weight_True"
         },
         {
          "iter": 171,
          "value": 0.265,
          "variable": "init_weight_True"
         },
         {
          "iter": 172,
          "value": 0.277,
          "variable": "init_weight_True"
         },
         {
          "iter": 173,
          "value": 0.276,
          "variable": "init_weight_True"
         },
         {
          "iter": 174,
          "value": 0.292,
          "variable": "init_weight_True"
         },
         {
          "iter": 175,
          "value": 0.282,
          "variable": "init_weight_True"
         },
         {
          "iter": 176,
          "value": 0.286,
          "variable": "init_weight_True"
         },
         {
          "iter": 177,
          "value": 0.272,
          "variable": "init_weight_True"
         },
         {
          "iter": 178,
          "value": 0.273,
          "variable": "init_weight_True"
         },
         {
          "iter": 179,
          "value": 0.277,
          "variable": "init_weight_True"
         },
         {
          "iter": 180,
          "value": 0.274,
          "variable": "init_weight_True"
         },
         {
          "iter": 181,
          "value": 0.276,
          "variable": "init_weight_True"
         },
         {
          "iter": 182,
          "value": 0.271,
          "variable": "init_weight_True"
         },
         {
          "iter": 183,
          "value": 0.276,
          "variable": "init_weight_True"
         },
         {
          "iter": 184,
          "value": 0.275,
          "variable": "init_weight_True"
         },
         {
          "iter": 185,
          "value": 0.259,
          "variable": "init_weight_True"
         },
         {
          "iter": 186,
          "value": 0.289,
          "variable": "init_weight_True"
         },
         {
          "iter": 187,
          "value": 0.284,
          "variable": "init_weight_True"
         },
         {
          "iter": 188,
          "value": 0.27,
          "variable": "init_weight_True"
         },
         {
          "iter": 189,
          "value": 0.27,
          "variable": "init_weight_True"
         },
         {
          "iter": 190,
          "value": 0.279,
          "variable": "init_weight_True"
         },
         {
          "iter": 191,
          "value": 0.275,
          "variable": "init_weight_True"
         },
         {
          "iter": 192,
          "value": 0.289,
          "variable": "init_weight_True"
         },
         {
          "iter": 193,
          "value": 0.291,
          "variable": "init_weight_True"
         },
         {
          "iter": 194,
          "value": 0.292,
          "variable": "init_weight_True"
         },
         {
          "iter": 195,
          "value": 0.281,
          "variable": "init_weight_True"
         },
         {
          "iter": 196,
          "value": 0.284,
          "variable": "init_weight_True"
         },
         {
          "iter": 197,
          "value": 0.29,
          "variable": "init_weight_True"
         },
         {
          "iter": 198,
          "value": 0.282,
          "variable": "init_weight_True"
         },
         {
          "iter": 199,
          "value": 0.282,
          "variable": "init_weight_True"
         },
         {
          "iter": 200,
          "value": 0.289,
          "variable": "init_weight_True"
         }
        ]
       },
       "encoding": {
        "color": {
         "field": "variable",
         "type": "nominal"
        },
        "x": {
         "field": "iter",
         "title": "iteration",
         "type": "quantitative"
        },
        "y": {
         "field": "value",
         "title": "accuracy/loss",
         "type": "quantitative"
        }
       },
       "mark": "line",
       "selection": {
        "selector008": {
         "bind": "scales",
         "encodings": [
          "x",
          "y"
         ],
         "mark": {
          "fill": "#333",
          "fillOpacity": 0.125,
          "stroke": "white"
         },
         "on": "[mousedown, window:mouseup] > window:mousemove!",
         "resolve": "global",
         "translate": "[mousedown, window:mouseup] > window:mousemove!",
         "type": "interval",
         "zoom": "wheel!"
        }
       }
      },
      "image/png": "[encoded data removed]",
      "text/plain": [
       "<VegaLite 2 object>\n",
       "\n",
       "If you see this message, it means the renderer has not been properly enabled\n",
       "for the frontend that you are using. For more information, see\n",
       "https://altair-viz.github.io/user_guide/troubleshooting.html\n"
      ]
     },
     "execution_count": 54,
     "metadata": {},
     "output_type": "execute_result"
    }
   ],
   "source": [
    "results = pd.DataFrame(results)\n",
    "plot_loss_histories(results)"
   ]
  },
  {
   "cell_type": "code",
   "execution_count": 60,
   "metadata": {},
   "outputs": [],
   "source": [
    "learning_rate = 1e-2\n",
    "model = None\n",
    "optimizer = None\n",
    "results = {}\n",
    "use_BN = [True, False]\n",
    "for bn_option in use_BN:\n",
    "    model = Net(3, 10, 20, 10, init_weights=False, batch_norm=bn_option)\n",
    "    optimizer = optim.SGD(model.parameters(), lr=learning_rate, momentum=0.9, nesterov=True)\n",
    "    _, accuracy_history = train_net(model, optimizer, epochs=1, print_loss=False)\n",
    "    results[f'use_bn_{bn_option}'] = accuracy_history\n",
    "    # add iter column if not exist\n",
    "    if not results.get('iter', None):\n",
    "        results['iter'] = list(range(len(results[f'use_bn_{bn_option}'])))\n"
   ]
  },
  {
   "cell_type": "code",
   "execution_count": 61,
   "metadata": {},
   "outputs": [
    {
     "data": {
      "application/vnd.vegalite.v2+json": {
       "$schema": "https://vega.github.io/schema/vega-lite/v2.4.1.json",
       "config": {
        "view": {
         "height": 300,
         "width": 400
        }
       },
       "data": {
        "values": [
         {
          "iter": 0,
          "value": 0.138,
          "variable": "use_bn_False"
         },
         {
          "iter": 1,
          "value": 0.14,
          "variable": "use_bn_False"
         },
         {
          "iter": 2,
          "value": 0.165,
          "variable": "use_bn_False"
         },
         {
          "iter": 3,
          "value": 0.152,
          "variable": "use_bn_False"
         },
         {
          "iter": 4,
          "value": 0.198,
          "variable": "use_bn_False"
         },
         {
          "iter": 5,
          "value": 0.196,
          "variable": "use_bn_False"
         },
         {
          "iter": 6,
          "value": 0.166,
          "variable": "use_bn_False"
         },
         {
          "iter": 7,
          "value": 0.246,
          "variable": "use_bn_False"
         },
         {
          "iter": 8,
          "value": 0.255,
          "variable": "use_bn_False"
         },
         {
          "iter": 9,
          "value": 0.298,
          "variable": "use_bn_False"
         },
         {
          "iter": 10,
          "value": 0.306,
          "variable": "use_bn_False"
         },
         {
          "iter": 11,
          "value": 0.304,
          "variable": "use_bn_False"
         },
         {
          "iter": 12,
          "value": 0.31,
          "variable": "use_bn_False"
         },
         {
          "iter": 13,
          "value": 0.3,
          "variable": "use_bn_False"
         },
         {
          "iter": 14,
          "value": 0.306,
          "variable": "use_bn_False"
         },
         {
          "iter": 15,
          "value": 0.308,
          "variable": "use_bn_False"
         },
         {
          "iter": 16,
          "value": 0.295,
          "variable": "use_bn_False"
         },
         {
          "iter": 17,
          "value": 0.328,
          "variable": "use_bn_False"
         },
         {
          "iter": 18,
          "value": 0.301,
          "variable": "use_bn_False"
         },
         {
          "iter": 19,
          "value": 0.322,
          "variable": "use_bn_False"
         },
         {
          "iter": 20,
          "value": 0.315,
          "variable": "use_bn_False"
         },
         {
          "iter": 21,
          "value": 0.348,
          "variable": "use_bn_False"
         },
         {
          "iter": 22,
          "value": 0.316,
          "variable": "use_bn_False"
         },
         {
          "iter": 23,
          "value": 0.355,
          "variable": "use_bn_False"
         },
         {
          "iter": 24,
          "value": 0.357,
          "variable": "use_bn_False"
         },
         {
          "iter": 25,
          "value": 0.35,
          "variable": "use_bn_False"
         },
         {
          "iter": 26,
          "value": 0.382,
          "variable": "use_bn_False"
         },
         {
          "iter": 27,
          "value": 0.371,
          "variable": "use_bn_False"
         },
         {
          "iter": 28,
          "value": 0.354,
          "variable": "use_bn_False"
         },
         {
          "iter": 29,
          "value": 0.374,
          "variable": "use_bn_False"
         },
         {
          "iter": 30,
          "value": 0.372,
          "variable": "use_bn_False"
         },
         {
          "iter": 31,
          "value": 0.367,
          "variable": "use_bn_False"
         },
         {
          "iter": 32,
          "value": 0.367,
          "variable": "use_bn_False"
         },
         {
          "iter": 33,
          "value": 0.363,
          "variable": "use_bn_False"
         },
         {
          "iter": 34,
          "value": 0.354,
          "variable": "use_bn_False"
         },
         {
          "iter": 35,
          "value": 0.387,
          "variable": "use_bn_False"
         },
         {
          "iter": 36,
          "value": 0.359,
          "variable": "use_bn_False"
         },
         {
          "iter": 37,
          "value": 0.396,
          "variable": "use_bn_False"
         },
         {
          "iter": 38,
          "value": 0.374,
          "variable": "use_bn_False"
         },
         {
          "iter": 39,
          "value": 0.381,
          "variable": "use_bn_False"
         },
         {
          "iter": 40,
          "value": 0.396,
          "variable": "use_bn_False"
         },
         {
          "iter": 41,
          "value": 0.392,
          "variable": "use_bn_False"
         },
         {
          "iter": 42,
          "value": 0.382,
          "variable": "use_bn_False"
         },
         {
          "iter": 43,
          "value": 0.373,
          "variable": "use_bn_False"
         },
         {
          "iter": 44,
          "value": 0.358,
          "variable": "use_bn_False"
         },
         {
          "iter": 45,
          "value": 0.336,
          "variable": "use_bn_False"
         },
         {
          "iter": 46,
          "value": 0.394,
          "variable": "use_bn_False"
         },
         {
          "iter": 47,
          "value": 0.368,
          "variable": "use_bn_False"
         },
         {
          "iter": 48,
          "value": 0.363,
          "variable": "use_bn_False"
         },
         {
          "iter": 49,
          "value": 0.386,
          "variable": "use_bn_False"
         },
         {
          "iter": 50,
          "value": 0.38,
          "variable": "use_bn_False"
         },
         {
          "iter": 51,
          "value": 0.343,
          "variable": "use_bn_False"
         },
         {
          "iter": 52,
          "value": 0.339,
          "variable": "use_bn_False"
         },
         {
          "iter": 53,
          "value": 0.37,
          "variable": "use_bn_False"
         },
         {
          "iter": 54,
          "value": 0.364,
          "variable": "use_bn_False"
         },
         {
          "iter": 55,
          "value": 0.396,
          "variable": "use_bn_False"
         },
         {
          "iter": 56,
          "value": 0.401,
          "variable": "use_bn_False"
         },
         {
          "iter": 57,
          "value": 0.391,
          "variable": "use_bn_False"
         },
         {
          "iter": 58,
          "value": 0.39,
          "variable": "use_bn_False"
         },
         {
          "iter": 59,
          "value": 0.395,
          "variable": "use_bn_False"
         },
         {
          "iter": 60,
          "value": 0.388,
          "variable": "use_bn_False"
         },
         {
          "iter": 61,
          "value": 0.375,
          "variable": "use_bn_False"
         },
         {
          "iter": 62,
          "value": 0.413,
          "variable": "use_bn_False"
         },
         {
          "iter": 63,
          "value": 0.426,
          "variable": "use_bn_False"
         },
         {
          "iter": 64,
          "value": 0.409,
          "variable": "use_bn_False"
         },
         {
          "iter": 65,
          "value": 0.426,
          "variable": "use_bn_False"
         },
         {
          "iter": 66,
          "value": 0.419,
          "variable": "use_bn_False"
         },
         {
          "iter": 67,
          "value": 0.415,
          "variable": "use_bn_False"
         },
         {
          "iter": 68,
          "value": 0.403,
          "variable": "use_bn_False"
         },
         {
          "iter": 69,
          "value": 0.411,
          "variable": "use_bn_False"
         },
         {
          "iter": 70,
          "value": 0.417,
          "variable": "use_bn_False"
         },
         {
          "iter": 71,
          "value": 0.404,
          "variable": "use_bn_False"
         },
         {
          "iter": 72,
          "value": 0.415,
          "variable": "use_bn_False"
         },
         {
          "iter": 73,
          "value": 0.402,
          "variable": "use_bn_False"
         },
         {
          "iter": 74,
          "value": 0.396,
          "variable": "use_bn_False"
         },
         {
          "iter": 75,
          "value": 0.427,
          "variable": "use_bn_False"
         },
         {
          "iter": 76,
          "value": 0.424,
          "variable": "use_bn_False"
         },
         {
          "iter": 77,
          "value": 0.422,
          "variable": "use_bn_False"
         },
         {
          "iter": 78,
          "value": 0.42,
          "variable": "use_bn_False"
         },
         {
          "iter": 79,
          "value": 0.408,
          "variable": "use_bn_False"
         },
         {
          "iter": 80,
          "value": 0.431,
          "variable": "use_bn_False"
         },
         {
          "iter": 81,
          "value": 0.426,
          "variable": "use_bn_False"
         },
         {
          "iter": 82,
          "value": 0.412,
          "variable": "use_bn_False"
         },
         {
          "iter": 83,
          "value": 0.437,
          "variable": "use_bn_False"
         },
         {
          "iter": 84,
          "value": 0.436,
          "variable": "use_bn_False"
         },
         {
          "iter": 85,
          "value": 0.427,
          "variable": "use_bn_False"
         },
         {
          "iter": 86,
          "value": 0.436,
          "variable": "use_bn_False"
         },
         {
          "iter": 87,
          "value": 0.452,
          "variable": "use_bn_False"
         },
         {
          "iter": 88,
          "value": 0.404,
          "variable": "use_bn_False"
         },
         {
          "iter": 89,
          "value": 0.427,
          "variable": "use_bn_False"
         },
         {
          "iter": 90,
          "value": 0.452,
          "variable": "use_bn_False"
         },
         {
          "iter": 91,
          "value": 0.453,
          "variable": "use_bn_False"
         },
         {
          "iter": 92,
          "value": 0.437,
          "variable": "use_bn_False"
         },
         {
          "iter": 93,
          "value": 0.431,
          "variable": "use_bn_False"
         },
         {
          "iter": 94,
          "value": 0.447,
          "variable": "use_bn_False"
         },
         {
          "iter": 95,
          "value": 0.448,
          "variable": "use_bn_False"
         },
         {
          "iter": 96,
          "value": 0.461,
          "variable": "use_bn_False"
         },
         {
          "iter": 97,
          "value": 0.435,
          "variable": "use_bn_False"
         },
         {
          "iter": 98,
          "value": 0.453,
          "variable": "use_bn_False"
         },
         {
          "iter": 99,
          "value": 0.459,
          "variable": "use_bn_False"
         },
         {
          "iter": 100,
          "value": 0.457,
          "variable": "use_bn_False"
         },
         {
          "iter": 101,
          "value": 0.43,
          "variable": "use_bn_False"
         },
         {
          "iter": 102,
          "value": 0.451,
          "variable": "use_bn_False"
         },
         {
          "iter": 103,
          "value": 0.449,
          "variable": "use_bn_False"
         },
         {
          "iter": 104,
          "value": 0.434,
          "variable": "use_bn_False"
         },
         {
          "iter": 105,
          "value": 0.427,
          "variable": "use_bn_False"
         },
         {
          "iter": 106,
          "value": 0.443,
          "variable": "use_bn_False"
         },
         {
          "iter": 107,
          "value": 0.445,
          "variable": "use_bn_False"
         },
         {
          "iter": 108,
          "value": 0.444,
          "variable": "use_bn_False"
         },
         {
          "iter": 109,
          "value": 0.446,
          "variable": "use_bn_False"
         },
         {
          "iter": 110,
          "value": 0.453,
          "variable": "use_bn_False"
         },
         {
          "iter": 111,
          "value": 0.467,
          "variable": "use_bn_False"
         },
         {
          "iter": 112,
          "value": 0.461,
          "variable": "use_bn_False"
         },
         {
          "iter": 113,
          "value": 0.438,
          "variable": "use_bn_False"
         },
         {
          "iter": 114,
          "value": 0.432,
          "variable": "use_bn_False"
         },
         {
          "iter": 115,
          "value": 0.44,
          "variable": "use_bn_False"
         },
         {
          "iter": 116,
          "value": 0.45,
          "variable": "use_bn_False"
         },
         {
          "iter": 117,
          "value": 0.447,
          "variable": "use_bn_False"
         },
         {
          "iter": 118,
          "value": 0.436,
          "variable": "use_bn_False"
         },
         {
          "iter": 119,
          "value": 0.452,
          "variable": "use_bn_False"
         },
         {
          "iter": 120,
          "value": 0.448,
          "variable": "use_bn_False"
         },
         {
          "iter": 121,
          "value": 0.46,
          "variable": "use_bn_False"
         },
         {
          "iter": 122,
          "value": 0.474,
          "variable": "use_bn_False"
         },
         {
          "iter": 123,
          "value": 0.473,
          "variable": "use_bn_False"
         },
         {
          "iter": 124,
          "value": 0.463,
          "variable": "use_bn_False"
         },
         {
          "iter": 125,
          "value": 0.43,
          "variable": "use_bn_False"
         },
         {
          "iter": 126,
          "value": 0.458,
          "variable": "use_bn_False"
         },
         {
          "iter": 127,
          "value": 0.465,
          "variable": "use_bn_False"
         },
         {
          "iter": 128,
          "value": 0.465,
          "variable": "use_bn_False"
         },
         {
          "iter": 129,
          "value": 0.47,
          "variable": "use_bn_False"
         },
         {
          "iter": 130,
          "value": 0.457,
          "variable": "use_bn_False"
         },
         {
          "iter": 131,
          "value": 0.473,
          "variable": "use_bn_False"
         },
         {
          "iter": 132,
          "value": 0.448,
          "variable": "use_bn_False"
         },
         {
          "iter": 133,
          "value": 0.449,
          "variable": "use_bn_False"
         },
         {
          "iter": 134,
          "value": 0.448,
          "variable": "use_bn_False"
         },
         {
          "iter": 135,
          "value": 0.465,
          "variable": "use_bn_False"
         },
         {
          "iter": 136,
          "value": 0.458,
          "variable": "use_bn_False"
         },
         {
          "iter": 137,
          "value": 0.46,
          "variable": "use_bn_False"
         },
         {
          "iter": 138,
          "value": 0.471,
          "variable": "use_bn_False"
         },
         {
          "iter": 139,
          "value": 0.453,
          "variable": "use_bn_False"
         },
         {
          "iter": 140,
          "value": 0.466,
          "variable": "use_bn_False"
         },
         {
          "iter": 141,
          "value": 0.462,
          "variable": "use_bn_False"
         },
         {
          "iter": 142,
          "value": 0.45,
          "variable": "use_bn_False"
         },
         {
          "iter": 143,
          "value": 0.468,
          "variable": "use_bn_False"
         },
         {
          "iter": 144,
          "value": 0.441,
          "variable": "use_bn_False"
         },
         {
          "iter": 145,
          "value": 0.449,
          "variable": "use_bn_False"
         },
         {
          "iter": 146,
          "value": 0.444,
          "variable": "use_bn_False"
         },
         {
          "iter": 147,
          "value": 0.455,
          "variable": "use_bn_False"
         },
         {
          "iter": 148,
          "value": 0.447,
          "variable": "use_bn_False"
         },
         {
          "iter": 149,
          "value": 0.434,
          "variable": "use_bn_False"
         },
         {
          "iter": 150,
          "value": 0.426,
          "variable": "use_bn_False"
         },
         {
          "iter": 151,
          "value": 0.448,
          "variable": "use_bn_False"
         },
         {
          "iter": 152,
          "value": 0.441,
          "variable": "use_bn_False"
         },
         {
          "iter": 153,
          "value": 0.43,
          "variable": "use_bn_False"
         },
         {
          "iter": 154,
          "value": 0.444,
          "variable": "use_bn_False"
         },
         {
          "iter": 155,
          "value": 0.452,
          "variable": "use_bn_False"
         },
         {
          "iter": 156,
          "value": 0.439,
          "variable": "use_bn_False"
         },
         {
          "iter": 157,
          "value": 0.444,
          "variable": "use_bn_False"
         },
         {
          "iter": 158,
          "value": 0.471,
          "variable": "use_bn_False"
         },
         {
          "iter": 159,
          "value": 0.464,
          "variable": "use_bn_False"
         },
         {
          "iter": 160,
          "value": 0.465,
          "variable": "use_bn_False"
         },
         {
          "iter": 161,
          "value": 0.467,
          "variable": "use_bn_False"
         },
         {
          "iter": 162,
          "value": 0.475,
          "variable": "use_bn_False"
         },
         {
          "iter": 163,
          "value": 0.46,
          "variable": "use_bn_False"
         },
         {
          "iter": 164,
          "value": 0.466,
          "variable": "use_bn_False"
         },
         {
          "iter": 165,
          "value": 0.48,
          "variable": "use_bn_False"
         },
         {
          "iter": 166,
          "value": 0.485,
          "variable": "use_bn_False"
         },
         {
          "iter": 167,
          "value": 0.481,
          "variable": "use_bn_False"
         },
         {
          "iter": 168,
          "value": 0.463,
          "variable": "use_bn_False"
         },
         {
          "iter": 169,
          "value": 0.45,
          "variable": "use_bn_False"
         },
         {
          "iter": 170,
          "value": 0.467,
          "variable": "use_bn_False"
         },
         {
          "iter": 171,
          "value": 0.471,
          "variable": "use_bn_False"
         },
         {
          "iter": 172,
          "value": 0.453,
          "variable": "use_bn_False"
         },
         {
          "iter": 173,
          "value": 0.452,
          "variable": "use_bn_False"
         },
         {
          "iter": 174,
          "value": 0.465,
          "variable": "use_bn_False"
         },
         {
          "iter": 175,
          "value": 0.479,
          "variable": "use_bn_False"
         },
         {
          "iter": 176,
          "value": 0.487,
          "variable": "use_bn_False"
         },
         {
          "iter": 177,
          "value": 0.479,
          "variable": "use_bn_False"
         },
         {
          "iter": 178,
          "value": 0.49,
          "variable": "use_bn_False"
         },
         {
          "iter": 179,
          "value": 0.491,
          "variable": "use_bn_False"
         },
         {
          "iter": 180,
          "value": 0.489,
          "variable": "use_bn_False"
         },
         {
          "iter": 181,
          "value": 0.477,
          "variable": "use_bn_False"
         },
         {
          "iter": 182,
          "value": 0.481,
          "variable": "use_bn_False"
         },
         {
          "iter": 183,
          "value": 0.489,
          "variable": "use_bn_False"
         },
         {
          "iter": 184,
          "value": 0.485,
          "variable": "use_bn_False"
         },
         {
          "iter": 185,
          "value": 0.48,
          "variable": "use_bn_False"
         },
         {
          "iter": 186,
          "value": 0.47,
          "variable": "use_bn_False"
         },
         {
          "iter": 187,
          "value": 0.472,
          "variable": "use_bn_False"
         },
         {
          "iter": 188,
          "value": 0.475,
          "variable": "use_bn_False"
         },
         {
          "iter": 189,
          "value": 0.463,
          "variable": "use_bn_False"
         },
         {
          "iter": 190,
          "value": 0.469,
          "variable": "use_bn_False"
         },
         {
          "iter": 191,
          "value": 0.467,
          "variable": "use_bn_False"
         },
         {
          "iter": 192,
          "value": 0.448,
          "variable": "use_bn_False"
         },
         {
          "iter": 193,
          "value": 0.472,
          "variable": "use_bn_False"
         },
         {
          "iter": 194,
          "value": 0.471,
          "variable": "use_bn_False"
         },
         {
          "iter": 195,
          "value": 0.455,
          "variable": "use_bn_False"
         },
         {
          "iter": 196,
          "value": 0.456,
          "variable": "use_bn_False"
         },
         {
          "iter": 197,
          "value": 0.468,
          "variable": "use_bn_False"
         },
         {
          "iter": 198,
          "value": 0.449,
          "variable": "use_bn_False"
         },
         {
          "iter": 199,
          "value": 0.449,
          "variable": "use_bn_False"
         },
         {
          "iter": 200,
          "value": 0.48,
          "variable": "use_bn_False"
         },
         {
          "iter": 0,
          "value": 0.098,
          "variable": "use_bn_True"
         },
         {
          "iter": 1,
          "value": 0.104,
          "variable": "use_bn_True"
         },
         {
          "iter": 2,
          "value": 0.162,
          "variable": "use_bn_True"
         },
         {
          "iter": 3,
          "value": 0.213,
          "variable": "use_bn_True"
         },
         {
          "iter": 4,
          "value": 0.182,
          "variable": "use_bn_True"
         },
         {
          "iter": 5,
          "value": 0.102,
          "variable": "use_bn_True"
         },
         {
          "iter": 6,
          "value": 0.166,
          "variable": "use_bn_True"
         },
         {
          "iter": 7,
          "value": 0.184,
          "variable": "use_bn_True"
         },
         {
          "iter": 8,
          "value": 0.222,
          "variable": "use_bn_True"
         },
         {
          "iter": 9,
          "value": 0.205,
          "variable": "use_bn_True"
         },
         {
          "iter": 10,
          "value": 0.227,
          "variable": "use_bn_True"
         },
         {
          "iter": 11,
          "value": 0.195,
          "variable": "use_bn_True"
         },
         {
          "iter": 12,
          "value": 0.19,
          "variable": "use_bn_True"
         },
         {
          "iter": 13,
          "value": 0.202,
          "variable": "use_bn_True"
         },
         {
          "iter": 14,
          "value": 0.178,
          "variable": "use_bn_True"
         },
         {
          "iter": 15,
          "value": 0.179,
          "variable": "use_bn_True"
         },
         {
          "iter": 16,
          "value": 0.18,
          "variable": "use_bn_True"
         },
         {
          "iter": 17,
          "value": 0.19,
          "variable": "use_bn_True"
         },
         {
          "iter": 18,
          "value": 0.18,
          "variable": "use_bn_True"
         },
         {
          "iter": 19,
          "value": 0.189,
          "variable": "use_bn_True"
         },
         {
          "iter": 20,
          "value": 0.195,
          "variable": "use_bn_True"
         },
         {
          "iter": 21,
          "value": 0.207,
          "variable": "use_bn_True"
         },
         {
          "iter": 22,
          "value": 0.237,
          "variable": "use_bn_True"
         },
         {
          "iter": 23,
          "value": 0.253,
          "variable": "use_bn_True"
         },
         {
          "iter": 24,
          "value": 0.28,
          "variable": "use_bn_True"
         },
         {
          "iter": 25,
          "value": 0.276,
          "variable": "use_bn_True"
         },
         {
          "iter": 26,
          "value": 0.276,
          "variable": "use_bn_True"
         },
         {
          "iter": 27,
          "value": 0.275,
          "variable": "use_bn_True"
         },
         {
          "iter": 28,
          "value": 0.278,
          "variable": "use_bn_True"
         },
         {
          "iter": 29,
          "value": 0.286,
          "variable": "use_bn_True"
         },
         {
          "iter": 30,
          "value": 0.295,
          "variable": "use_bn_True"
         },
         {
          "iter": 31,
          "value": 0.292,
          "variable": "use_bn_True"
         },
         {
          "iter": 32,
          "value": 0.299,
          "variable": "use_bn_True"
         },
         {
          "iter": 33,
          "value": 0.309,
          "variable": "use_bn_True"
         },
         {
          "iter": 34,
          "value": 0.307,
          "variable": "use_bn_True"
         },
         {
          "iter": 35,
          "value": 0.317,
          "variable": "use_bn_True"
         },
         {
          "iter": 36,
          "value": 0.328,
          "variable": "use_bn_True"
         },
         {
          "iter": 37,
          "value": 0.339,
          "variable": "use_bn_True"
         },
         {
          "iter": 38,
          "value": 0.355,
          "variable": "use_bn_True"
         },
         {
          "iter": 39,
          "value": 0.364,
          "variable": "use_bn_True"
         },
         {
          "iter": 40,
          "value": 0.367,
          "variable": "use_bn_True"
         },
         {
          "iter": 41,
          "value": 0.364,
          "variable": "use_bn_True"
         },
         {
          "iter": 42,
          "value": 0.367,
          "variable": "use_bn_True"
         },
         {
          "iter": 43,
          "value": 0.362,
          "variable": "use_bn_True"
         },
         {
          "iter": 44,
          "value": 0.369,
          "variable": "use_bn_True"
         },
         {
          "iter": 45,
          "value": 0.357,
          "variable": "use_bn_True"
         },
         {
          "iter": 46,
          "value": 0.363,
          "variable": "use_bn_True"
         },
         {
          "iter": 47,
          "value": 0.361,
          "variable": "use_bn_True"
         },
         {
          "iter": 48,
          "value": 0.377,
          "variable": "use_bn_True"
         },
         {
          "iter": 49,
          "value": 0.375,
          "variable": "use_bn_True"
         },
         {
          "iter": 50,
          "value": 0.368,
          "variable": "use_bn_True"
         },
         {
          "iter": 51,
          "value": 0.367,
          "variable": "use_bn_True"
         },
         {
          "iter": 52,
          "value": 0.367,
          "variable": "use_bn_True"
         },
         {
          "iter": 53,
          "value": 0.365,
          "variable": "use_bn_True"
         },
         {
          "iter": 54,
          "value": 0.361,
          "variable": "use_bn_True"
         },
         {
          "iter": 55,
          "value": 0.365,
          "variable": "use_bn_True"
         },
         {
          "iter": 56,
          "value": 0.389,
          "variable": "use_bn_True"
         },
         {
          "iter": 57,
          "value": 0.38,
          "variable": "use_bn_True"
         },
         {
          "iter": 58,
          "value": 0.392,
          "variable": "use_bn_True"
         },
         {
          "iter": 59,
          "value": 0.39,
          "variable": "use_bn_True"
         },
         {
          "iter": 60,
          "value": 0.389,
          "variable": "use_bn_True"
         },
         {
          "iter": 61,
          "value": 0.388,
          "variable": "use_bn_True"
         },
         {
          "iter": 62,
          "value": 0.402,
          "variable": "use_bn_True"
         },
         {
          "iter": 63,
          "value": 0.412,
          "variable": "use_bn_True"
         },
         {
          "iter": 64,
          "value": 0.412,
          "variable": "use_bn_True"
         },
         {
          "iter": 65,
          "value": 0.41,
          "variable": "use_bn_True"
         },
         {
          "iter": 66,
          "value": 0.403,
          "variable": "use_bn_True"
         },
         {
          "iter": 67,
          "value": 0.399,
          "variable": "use_bn_True"
         },
         {
          "iter": 68,
          "value": 0.391,
          "variable": "use_bn_True"
         },
         {
          "iter": 69,
          "value": 0.386,
          "variable": "use_bn_True"
         },
         {
          "iter": 70,
          "value": 0.394,
          "variable": "use_bn_True"
         },
         {
          "iter": 71,
          "value": 0.396,
          "variable": "use_bn_True"
         },
         {
          "iter": 72,
          "value": 0.408,
          "variable": "use_bn_True"
         },
         {
          "iter": 73,
          "value": 0.406,
          "variable": "use_bn_True"
         },
         {
          "iter": 74,
          "value": 0.405,
          "variable": "use_bn_True"
         },
         {
          "iter": 75,
          "value": 0.41,
          "variable": "use_bn_True"
         },
         {
          "iter": 76,
          "value": 0.402,
          "variable": "use_bn_True"
         },
         {
          "iter": 77,
          "value": 0.391,
          "variable": "use_bn_True"
         },
         {
          "iter": 78,
          "value": 0.396,
          "variable": "use_bn_True"
         },
         {
          "iter": 79,
          "value": 0.398,
          "variable": "use_bn_True"
         },
         {
          "iter": 80,
          "value": 0.41,
          "variable": "use_bn_True"
         },
         {
          "iter": 81,
          "value": 0.394,
          "variable": "use_bn_True"
         },
         {
          "iter": 82,
          "value": 0.4,
          "variable": "use_bn_True"
         },
         {
          "iter": 83,
          "value": 0.4,
          "variable": "use_bn_True"
         },
         {
          "iter": 84,
          "value": 0.398,
          "variable": "use_bn_True"
         },
         {
          "iter": 85,
          "value": 0.4,
          "variable": "use_bn_True"
         },
         {
          "iter": 86,
          "value": 0.417,
          "variable": "use_bn_True"
         },
         {
          "iter": 87,
          "value": 0.413,
          "variable": "use_bn_True"
         },
         {
          "iter": 88,
          "value": 0.401,
          "variable": "use_bn_True"
         },
         {
          "iter": 89,
          "value": 0.393,
          "variable": "use_bn_True"
         },
         {
          "iter": 90,
          "value": 0.401,
          "variable": "use_bn_True"
         },
         {
          "iter": 91,
          "value": 0.407,
          "variable": "use_bn_True"
         },
         {
          "iter": 92,
          "value": 0.423,
          "variable": "use_bn_True"
         },
         {
          "iter": 93,
          "value": 0.428,
          "variable": "use_bn_True"
         },
         {
          "iter": 94,
          "value": 0.425,
          "variable": "use_bn_True"
         },
         {
          "iter": 95,
          "value": 0.419,
          "variable": "use_bn_True"
         },
         {
          "iter": 96,
          "value": 0.426,
          "variable": "use_bn_True"
         },
         {
          "iter": 97,
          "value": 0.416,
          "variable": "use_bn_True"
         },
         {
          "iter": 98,
          "value": 0.431,
          "variable": "use_bn_True"
         },
         {
          "iter": 99,
          "value": 0.427,
          "variable": "use_bn_True"
         },
         {
          "iter": 100,
          "value": 0.422,
          "variable": "use_bn_True"
         },
         {
          "iter": 101,
          "value": 0.432,
          "variable": "use_bn_True"
         },
         {
          "iter": 102,
          "value": 0.427,
          "variable": "use_bn_True"
         },
         {
          "iter": 103,
          "value": 0.426,
          "variable": "use_bn_True"
         },
         {
          "iter": 104,
          "value": 0.431,
          "variable": "use_bn_True"
         },
         {
          "iter": 105,
          "value": 0.43,
          "variable": "use_bn_True"
         },
         {
          "iter": 106,
          "value": 0.427,
          "variable": "use_bn_True"
         },
         {
          "iter": 107,
          "value": 0.416,
          "variable": "use_bn_True"
         },
         {
          "iter": 108,
          "value": 0.434,
          "variable": "use_bn_True"
         },
         {
          "iter": 109,
          "value": 0.431,
          "variable": "use_bn_True"
         },
         {
          "iter": 110,
          "value": 0.452,
          "variable": "use_bn_True"
         },
         {
          "iter": 111,
          "value": 0.441,
          "variable": "use_bn_True"
         },
         {
          "iter": 112,
          "value": 0.444,
          "variable": "use_bn_True"
         },
         {
          "iter": 113,
          "value": 0.444,
          "variable": "use_bn_True"
         },
         {
          "iter": 114,
          "value": 0.451,
          "variable": "use_bn_True"
         },
         {
          "iter": 115,
          "value": 0.452,
          "variable": "use_bn_True"
         },
         {
          "iter": 116,
          "value": 0.459,
          "variable": "use_bn_True"
         },
         {
          "iter": 117,
          "value": 0.465,
          "variable": "use_bn_True"
         },
         {
          "iter": 118,
          "value": 0.464,
          "variable": "use_bn_True"
         },
         {
          "iter": 119,
          "value": 0.465,
          "variable": "use_bn_True"
         },
         {
          "iter": 120,
          "value": 0.474,
          "variable": "use_bn_True"
         },
         {
          "iter": 121,
          "value": 0.454,
          "variable": "use_bn_True"
         },
         {
          "iter": 122,
          "value": 0.437,
          "variable": "use_bn_True"
         },
         {
          "iter": 123,
          "value": 0.441,
          "variable": "use_bn_True"
         },
         {
          "iter": 124,
          "value": 0.448,
          "variable": "use_bn_True"
         },
         {
          "iter": 125,
          "value": 0.451,
          "variable": "use_bn_True"
         },
         {
          "iter": 126,
          "value": 0.451,
          "variable": "use_bn_True"
         },
         {
          "iter": 127,
          "value": 0.443,
          "variable": "use_bn_True"
         },
         {
          "iter": 128,
          "value": 0.453,
          "variable": "use_bn_True"
         },
         {
          "iter": 129,
          "value": 0.47,
          "variable": "use_bn_True"
         },
         {
          "iter": 130,
          "value": 0.478,
          "variable": "use_bn_True"
         },
         {
          "iter": 131,
          "value": 0.462,
          "variable": "use_bn_True"
         },
         {
          "iter": 132,
          "value": 0.46,
          "variable": "use_bn_True"
         },
         {
          "iter": 133,
          "value": 0.469,
          "variable": "use_bn_True"
         },
         {
          "iter": 134,
          "value": 0.468,
          "variable": "use_bn_True"
         },
         {
          "iter": 135,
          "value": 0.473,
          "variable": "use_bn_True"
         },
         {
          "iter": 136,
          "value": 0.468,
          "variable": "use_bn_True"
         },
         {
          "iter": 137,
          "value": 0.459,
          "variable": "use_bn_True"
         },
         {
          "iter": 138,
          "value": 0.453,
          "variable": "use_bn_True"
         },
         {
          "iter": 139,
          "value": 0.441,
          "variable": "use_bn_True"
         },
         {
          "iter": 140,
          "value": 0.454,
          "variable": "use_bn_True"
         },
         {
          "iter": 141,
          "value": 0.461,
          "variable": "use_bn_True"
         },
         {
          "iter": 142,
          "value": 0.454,
          "variable": "use_bn_True"
         },
         {
          "iter": 143,
          "value": 0.467,
          "variable": "use_bn_True"
         },
         {
          "iter": 144,
          "value": 0.47,
          "variable": "use_bn_True"
         },
         {
          "iter": 145,
          "value": 0.454,
          "variable": "use_bn_True"
         },
         {
          "iter": 146,
          "value": 0.452,
          "variable": "use_bn_True"
         },
         {
          "iter": 147,
          "value": 0.455,
          "variable": "use_bn_True"
         },
         {
          "iter": 148,
          "value": 0.454,
          "variable": "use_bn_True"
         },
         {
          "iter": 149,
          "value": 0.457,
          "variable": "use_bn_True"
         },
         {
          "iter": 150,
          "value": 0.461,
          "variable": "use_bn_True"
         },
         {
          "iter": 151,
          "value": 0.446,
          "variable": "use_bn_True"
         },
         {
          "iter": 152,
          "value": 0.432,
          "variable": "use_bn_True"
         },
         {
          "iter": 153,
          "value": 0.418,
          "variable": "use_bn_True"
         },
         {
          "iter": 154,
          "value": 0.423,
          "variable": "use_bn_True"
         },
         {
          "iter": 155,
          "value": 0.426,
          "variable": "use_bn_True"
         },
         {
          "iter": 156,
          "value": 0.436,
          "variable": "use_bn_True"
         },
         {
          "iter": 157,
          "value": 0.443,
          "variable": "use_bn_True"
         },
         {
          "iter": 158,
          "value": 0.465,
          "variable": "use_bn_True"
         },
         {
          "iter": 159,
          "value": 0.469,
          "variable": "use_bn_True"
         },
         {
          "iter": 160,
          "value": 0.468,
          "variable": "use_bn_True"
         },
         {
          "iter": 161,
          "value": 0.481,
          "variable": "use_bn_True"
         },
         {
          "iter": 162,
          "value": 0.462,
          "variable": "use_bn_True"
         },
         {
          "iter": 163,
          "value": 0.459,
          "variable": "use_bn_True"
         },
         {
          "iter": 164,
          "value": 0.461,
          "variable": "use_bn_True"
         },
         {
          "iter": 165,
          "value": 0.455,
          "variable": "use_bn_True"
         },
         {
          "iter": 166,
          "value": 0.453,
          "variable": "use_bn_True"
         },
         {
          "iter": 167,
          "value": 0.454,
          "variable": "use_bn_True"
         },
         {
          "iter": 168,
          "value": 0.461,
          "variable": "use_bn_True"
         },
         {
          "iter": 169,
          "value": 0.466,
          "variable": "use_bn_True"
         },
         {
          "iter": 170,
          "value": 0.464,
          "variable": "use_bn_True"
         },
         {
          "iter": 171,
          "value": 0.457,
          "variable": "use_bn_True"
         },
         {
          "iter": 172,
          "value": 0.459,
          "variable": "use_bn_True"
         },
         {
          "iter": 173,
          "value": 0.456,
          "variable": "use_bn_True"
         },
         {
          "iter": 174,
          "value": 0.457,
          "variable": "use_bn_True"
         },
         {
          "iter": 175,
          "value": 0.462,
          "variable": "use_bn_True"
         },
         {
          "iter": 176,
          "value": 0.461,
          "variable": "use_bn_True"
         },
         {
          "iter": 177,
          "value": 0.446,
          "variable": "use_bn_True"
         },
         {
          "iter": 178,
          "value": 0.44,
          "variable": "use_bn_True"
         },
         {
          "iter": 179,
          "value": 0.453,
          "variable": "use_bn_True"
         },
         {
          "iter": 180,
          "value": 0.457,
          "variable": "use_bn_True"
         },
         {
          "iter": 181,
          "value": 0.454,
          "variable": "use_bn_True"
         },
         {
          "iter": 182,
          "value": 0.468,
          "variable": "use_bn_True"
         },
         {
          "iter": 183,
          "value": 0.474,
          "variable": "use_bn_True"
         },
         {
          "iter": 184,
          "value": 0.477,
          "variable": "use_bn_True"
         },
         {
          "iter": 185,
          "value": 0.469,
          "variable": "use_bn_True"
         },
         {
          "iter": 186,
          "value": 0.464,
          "variable": "use_bn_True"
         },
         {
          "iter": 187,
          "value": 0.469,
          "variable": "use_bn_True"
         },
         {
          "iter": 188,
          "value": 0.467,
          "variable": "use_bn_True"
         },
         {
          "iter": 189,
          "value": 0.458,
          "variable": "use_bn_True"
         },
         {
          "iter": 190,
          "value": 0.466,
          "variable": "use_bn_True"
         },
         {
          "iter": 191,
          "value": 0.466,
          "variable": "use_bn_True"
         },
         {
          "iter": 192,
          "value": 0.464,
          "variable": "use_bn_True"
         },
         {
          "iter": 193,
          "value": 0.458,
          "variable": "use_bn_True"
         },
         {
          "iter": 194,
          "value": 0.463,
          "variable": "use_bn_True"
         },
         {
          "iter": 195,
          "value": 0.46,
          "variable": "use_bn_True"
         },
         {
          "iter": 196,
          "value": 0.478,
          "variable": "use_bn_True"
         },
         {
          "iter": 197,
          "value": 0.483,
          "variable": "use_bn_True"
         },
         {
          "iter": 198,
          "value": 0.454,
          "variable": "use_bn_True"
         },
         {
          "iter": 199,
          "value": 0.463,
          "variable": "use_bn_True"
         },
         {
          "iter": 200,
          "value": 0.466,
          "variable": "use_bn_True"
         }
        ]
       },
       "encoding": {
        "color": {
         "field": "variable",
         "type": "nominal"
        },
        "x": {
         "field": "iter",
         "title": "iteration",
         "type": "quantitative"
        },
        "y": {
         "field": "value",
         "title": "accuracy/loss",
         "type": "quantitative"
        }
       },
       "mark": "line",
       "selection": {
        "selector010": {
         "bind": "scales",
         "encodings": [
          "x",
          "y"
         ],
         "mark": {
          "fill": "#333",
          "fillOpacity": 0.125,
          "stroke": "white"
         },
         "on": "[mousedown, window:mouseup] > window:mousemove!",
         "resolve": "global",
         "translate": "[mousedown, window:mouseup] > window:mousemove!",
         "type": "interval",
         "zoom": "wheel!"
        }
       }
      },
      "image/png": "[encoded data removed]",
      "text/plain": [
       "<VegaLite 2 object>\n",
       "\n",
       "If you see this message, it means the renderer has not been properly enabled\n",
       "for the frontend that you are using. For more information, see\n",
       "https://altair-viz.github.io/user_guide/troubleshooting.html\n"
      ]
     },
     "execution_count": 61,
     "metadata": {},
     "output_type": "execute_result"
    }
   ],
   "source": [
    "results = pd.DataFrame(results)\n",
    "plot_loss_histories(results)"
   ]
  },
  {
   "cell_type": "code",
   "execution_count": 64,
   "metadata": {},
   "outputs": [],
   "source": [
    "learning_rate = 1e-2\n",
    "model = Net(3, 10, 20, 10)\n",
    "results = {}\n",
    "optimizer = optim.SGD(model.parameters(), lr=learning_rate, momentum=0.9, nesterov=True)\n",
    "_, accuracy_history = train_net(model, optimizer, epochs=1, print_loss=False)\n",
    "results['accuracy'] = accuracy_history\n",
    "results['iter'] = list(range(len(results['accuracy'])))"
   ]
  },
  {
   "cell_type": "code",
   "execution_count": 65,
   "metadata": {},
   "outputs": [
    {
     "data": {
      "application/vnd.vegalite.v2+json": {
       "$schema": "https://vega.github.io/schema/vega-lite/v2.4.1.json",
       "config": {
        "view": {
         "height": 300,
         "width": 400
        }
       },
       "data": {
        "values": [
         {
          "iter": 0,
          "value": 0.154,
          "variable": "accuracy"
         },
         {
          "iter": 1,
          "value": 0.167,
          "variable": "accuracy"
         },
         {
          "iter": 2,
          "value": 0.17,
          "variable": "accuracy"
         },
         {
          "iter": 3,
          "value": 0.171,
          "variable": "accuracy"
         },
         {
          "iter": 4,
          "value": 0.204,
          "variable": "accuracy"
         },
         {
          "iter": 5,
          "value": 0.242,
          "variable": "accuracy"
         },
         {
          "iter": 6,
          "value": 0.219,
          "variable": "accuracy"
         },
         {
          "iter": 7,
          "value": 0.182,
          "variable": "accuracy"
         },
         {
          "iter": 8,
          "value": 0.244,
          "variable": "accuracy"
         },
         {
          "iter": 9,
          "value": 0.25,
          "variable": "accuracy"
         },
         {
          "iter": 10,
          "value": 0.262,
          "variable": "accuracy"
         },
         {
          "iter": 11,
          "value": 0.27,
          "variable": "accuracy"
         },
         {
          "iter": 12,
          "value": 0.256,
          "variable": "accuracy"
         },
         {
          "iter": 13,
          "value": 0.283,
          "variable": "accuracy"
         },
         {
          "iter": 14,
          "value": 0.285,
          "variable": "accuracy"
         },
         {
          "iter": 15,
          "value": 0.3,
          "variable": "accuracy"
         },
         {
          "iter": 16,
          "value": 0.287,
          "variable": "accuracy"
         },
         {
          "iter": 17,
          "value": 0.252,
          "variable": "accuracy"
         },
         {
          "iter": 18,
          "value": 0.278,
          "variable": "accuracy"
         },
         {
          "iter": 19,
          "value": 0.267,
          "variable": "accuracy"
         },
         {
          "iter": 20,
          "value": 0.328,
          "variable": "accuracy"
         },
         {
          "iter": 21,
          "value": 0.337,
          "variable": "accuracy"
         },
         {
          "iter": 22,
          "value": 0.328,
          "variable": "accuracy"
         },
         {
          "iter": 23,
          "value": 0.364,
          "variable": "accuracy"
         },
         {
          "iter": 24,
          "value": 0.353,
          "variable": "accuracy"
         },
         {
          "iter": 25,
          "value": 0.345,
          "variable": "accuracy"
         },
         {
          "iter": 26,
          "value": 0.349,
          "variable": "accuracy"
         },
         {
          "iter": 27,
          "value": 0.368,
          "variable": "accuracy"
         },
         {
          "iter": 28,
          "value": 0.36,
          "variable": "accuracy"
         },
         {
          "iter": 29,
          "value": 0.372,
          "variable": "accuracy"
         },
         {
          "iter": 30,
          "value": 0.356,
          "variable": "accuracy"
         },
         {
          "iter": 31,
          "value": 0.358,
          "variable": "accuracy"
         },
         {
          "iter": 32,
          "value": 0.353,
          "variable": "accuracy"
         },
         {
          "iter": 33,
          "value": 0.326,
          "variable": "accuracy"
         },
         {
          "iter": 34,
          "value": 0.382,
          "variable": "accuracy"
         },
         {
          "iter": 35,
          "value": 0.399,
          "variable": "accuracy"
         },
         {
          "iter": 36,
          "value": 0.409,
          "variable": "accuracy"
         },
         {
          "iter": 37,
          "value": 0.402,
          "variable": "accuracy"
         },
         {
          "iter": 38,
          "value": 0.379,
          "variable": "accuracy"
         },
         {
          "iter": 39,
          "value": 0.395,
          "variable": "accuracy"
         },
         {
          "iter": 40,
          "value": 0.384,
          "variable": "accuracy"
         },
         {
          "iter": 41,
          "value": 0.382,
          "variable": "accuracy"
         },
         {
          "iter": 42,
          "value": 0.383,
          "variable": "accuracy"
         },
         {
          "iter": 43,
          "value": 0.402,
          "variable": "accuracy"
         },
         {
          "iter": 44,
          "value": 0.384,
          "variable": "accuracy"
         },
         {
          "iter": 45,
          "value": 0.403,
          "variable": "accuracy"
         },
         {
          "iter": 46,
          "value": 0.402,
          "variable": "accuracy"
         },
         {
          "iter": 47,
          "value": 0.406,
          "variable": "accuracy"
         },
         {
          "iter": 48,
          "value": 0.41,
          "variable": "accuracy"
         },
         {
          "iter": 49,
          "value": 0.43,
          "variable": "accuracy"
         },
         {
          "iter": 50,
          "value": 0.418,
          "variable": "accuracy"
         },
         {
          "iter": 51,
          "value": 0.414,
          "variable": "accuracy"
         },
         {
          "iter": 52,
          "value": 0.438,
          "variable": "accuracy"
         },
         {
          "iter": 53,
          "value": 0.412,
          "variable": "accuracy"
         },
         {
          "iter": 54,
          "value": 0.42,
          "variable": "accuracy"
         },
         {
          "iter": 55,
          "value": 0.425,
          "variable": "accuracy"
         },
         {
          "iter": 56,
          "value": 0.388,
          "variable": "accuracy"
         },
         {
          "iter": 57,
          "value": 0.436,
          "variable": "accuracy"
         },
         {
          "iter": 58,
          "value": 0.382,
          "variable": "accuracy"
         },
         {
          "iter": 59,
          "value": 0.4,
          "variable": "accuracy"
         },
         {
          "iter": 60,
          "value": 0.414,
          "variable": "accuracy"
         },
         {
          "iter": 61,
          "value": 0.414,
          "variable": "accuracy"
         },
         {
          "iter": 62,
          "value": 0.425,
          "variable": "accuracy"
         },
         {
          "iter": 63,
          "value": 0.425,
          "variable": "accuracy"
         },
         {
          "iter": 64,
          "value": 0.459,
          "variable": "accuracy"
         },
         {
          "iter": 65,
          "value": 0.445,
          "variable": "accuracy"
         },
         {
          "iter": 66,
          "value": 0.427,
          "variable": "accuracy"
         },
         {
          "iter": 67,
          "value": 0.439,
          "variable": "accuracy"
         },
         {
          "iter": 68,
          "value": 0.428,
          "variable": "accuracy"
         },
         {
          "iter": 69,
          "value": 0.422,
          "variable": "accuracy"
         },
         {
          "iter": 70,
          "value": 0.439,
          "variable": "accuracy"
         },
         {
          "iter": 71,
          "value": 0.429,
          "variable": "accuracy"
         },
         {
          "iter": 72,
          "value": 0.439,
          "variable": "accuracy"
         },
         {
          "iter": 73,
          "value": 0.446,
          "variable": "accuracy"
         },
         {
          "iter": 74,
          "value": 0.391,
          "variable": "accuracy"
         },
         {
          "iter": 75,
          "value": 0.363,
          "variable": "accuracy"
         },
         {
          "iter": 76,
          "value": 0.424,
          "variable": "accuracy"
         },
         {
          "iter": 77,
          "value": 0.439,
          "variable": "accuracy"
         },
         {
          "iter": 78,
          "value": 0.419,
          "variable": "accuracy"
         },
         {
          "iter": 79,
          "value": 0.435,
          "variable": "accuracy"
         },
         {
          "iter": 80,
          "value": 0.447,
          "variable": "accuracy"
         },
         {
          "iter": 81,
          "value": 0.453,
          "variable": "accuracy"
         },
         {
          "iter": 82,
          "value": 0.46,
          "variable": "accuracy"
         },
         {
          "iter": 83,
          "value": 0.446,
          "variable": "accuracy"
         },
         {
          "iter": 84,
          "value": 0.424,
          "variable": "accuracy"
         },
         {
          "iter": 85,
          "value": 0.421,
          "variable": "accuracy"
         },
         {
          "iter": 86,
          "value": 0.406,
          "variable": "accuracy"
         },
         {
          "iter": 87,
          "value": 0.442,
          "variable": "accuracy"
         },
         {
          "iter": 88,
          "value": 0.453,
          "variable": "accuracy"
         },
         {
          "iter": 89,
          "value": 0.458,
          "variable": "accuracy"
         },
         {
          "iter": 90,
          "value": 0.46,
          "variable": "accuracy"
         },
         {
          "iter": 91,
          "value": 0.44,
          "variable": "accuracy"
         },
         {
          "iter": 92,
          "value": 0.425,
          "variable": "accuracy"
         },
         {
          "iter": 93,
          "value": 0.41,
          "variable": "accuracy"
         },
         {
          "iter": 94,
          "value": 0.443,
          "variable": "accuracy"
         },
         {
          "iter": 95,
          "value": 0.455,
          "variable": "accuracy"
         },
         {
          "iter": 96,
          "value": 0.445,
          "variable": "accuracy"
         },
         {
          "iter": 97,
          "value": 0.42,
          "variable": "accuracy"
         },
         {
          "iter": 98,
          "value": 0.409,
          "variable": "accuracy"
         },
         {
          "iter": 99,
          "value": 0.4,
          "variable": "accuracy"
         },
         {
          "iter": 100,
          "value": 0.448,
          "variable": "accuracy"
         },
         {
          "iter": 101,
          "value": 0.445,
          "variable": "accuracy"
         },
         {
          "iter": 102,
          "value": 0.444,
          "variable": "accuracy"
         },
         {
          "iter": 103,
          "value": 0.446,
          "variable": "accuracy"
         },
         {
          "iter": 104,
          "value": 0.455,
          "variable": "accuracy"
         },
         {
          "iter": 105,
          "value": 0.456,
          "variable": "accuracy"
         },
         {
          "iter": 106,
          "value": 0.448,
          "variable": "accuracy"
         },
         {
          "iter": 107,
          "value": 0.428,
          "variable": "accuracy"
         },
         {
          "iter": 108,
          "value": 0.441,
          "variable": "accuracy"
         },
         {
          "iter": 109,
          "value": 0.442,
          "variable": "accuracy"
         },
         {
          "iter": 110,
          "value": 0.46,
          "variable": "accuracy"
         },
         {
          "iter": 111,
          "value": 0.469,
          "variable": "accuracy"
         },
         {
          "iter": 112,
          "value": 0.468,
          "variable": "accuracy"
         },
         {
          "iter": 113,
          "value": 0.448,
          "variable": "accuracy"
         },
         {
          "iter": 114,
          "value": 0.45,
          "variable": "accuracy"
         },
         {
          "iter": 115,
          "value": 0.456,
          "variable": "accuracy"
         },
         {
          "iter": 116,
          "value": 0.45,
          "variable": "accuracy"
         },
         {
          "iter": 117,
          "value": 0.442,
          "variable": "accuracy"
         },
         {
          "iter": 118,
          "value": 0.433,
          "variable": "accuracy"
         },
         {
          "iter": 119,
          "value": 0.423,
          "variable": "accuracy"
         },
         {
          "iter": 120,
          "value": 0.427,
          "variable": "accuracy"
         },
         {
          "iter": 121,
          "value": 0.426,
          "variable": "accuracy"
         },
         {
          "iter": 122,
          "value": 0.474,
          "variable": "accuracy"
         },
         {
          "iter": 123,
          "value": 0.465,
          "variable": "accuracy"
         },
         {
          "iter": 124,
          "value": 0.446,
          "variable": "accuracy"
         },
         {
          "iter": 125,
          "value": 0.469,
          "variable": "accuracy"
         },
         {
          "iter": 126,
          "value": 0.466,
          "variable": "accuracy"
         },
         {
          "iter": 127,
          "value": 0.46,
          "variable": "accuracy"
         },
         {
          "iter": 128,
          "value": 0.466,
          "variable": "accuracy"
         },
         {
          "iter": 129,
          "value": 0.446,
          "variable": "accuracy"
         },
         {
          "iter": 130,
          "value": 0.428,
          "variable": "accuracy"
         },
         {
          "iter": 131,
          "value": 0.439,
          "variable": "accuracy"
         },
         {
          "iter": 132,
          "value": 0.476,
          "variable": "accuracy"
         },
         {
          "iter": 133,
          "value": 0.487,
          "variable": "accuracy"
         },
         {
          "iter": 134,
          "value": 0.499,
          "variable": "accuracy"
         },
         {
          "iter": 135,
          "value": 0.499,
          "variable": "accuracy"
         },
         {
          "iter": 136,
          "value": 0.474,
          "variable": "accuracy"
         },
         {
          "iter": 137,
          "value": 0.487,
          "variable": "accuracy"
         },
         {
          "iter": 138,
          "value": 0.494,
          "variable": "accuracy"
         },
         {
          "iter": 139,
          "value": 0.487,
          "variable": "accuracy"
         },
         {
          "iter": 140,
          "value": 0.478,
          "variable": "accuracy"
         },
         {
          "iter": 141,
          "value": 0.471,
          "variable": "accuracy"
         },
         {
          "iter": 142,
          "value": 0.473,
          "variable": "accuracy"
         },
         {
          "iter": 143,
          "value": 0.482,
          "variable": "accuracy"
         },
         {
          "iter": 144,
          "value": 0.478,
          "variable": "accuracy"
         },
         {
          "iter": 145,
          "value": 0.471,
          "variable": "accuracy"
         },
         {
          "iter": 146,
          "value": 0.481,
          "variable": "accuracy"
         },
         {
          "iter": 147,
          "value": 0.472,
          "variable": "accuracy"
         },
         {
          "iter": 148,
          "value": 0.452,
          "variable": "accuracy"
         },
         {
          "iter": 149,
          "value": 0.464,
          "variable": "accuracy"
         },
         {
          "iter": 150,
          "value": 0.464,
          "variable": "accuracy"
         },
         {
          "iter": 151,
          "value": 0.473,
          "variable": "accuracy"
         },
         {
          "iter": 152,
          "value": 0.468,
          "variable": "accuracy"
         },
         {
          "iter": 153,
          "value": 0.485,
          "variable": "accuracy"
         },
         {
          "iter": 154,
          "value": 0.486,
          "variable": "accuracy"
         },
         {
          "iter": 155,
          "value": 0.474,
          "variable": "accuracy"
         },
         {
          "iter": 156,
          "value": 0.482,
          "variable": "accuracy"
         },
         {
          "iter": 157,
          "value": 0.493,
          "variable": "accuracy"
         },
         {
          "iter": 158,
          "value": 0.481,
          "variable": "accuracy"
         },
         {
          "iter": 159,
          "value": 0.491,
          "variable": "accuracy"
         },
         {
          "iter": 160,
          "value": 0.488,
          "variable": "accuracy"
         },
         {
          "iter": 161,
          "value": 0.47,
          "variable": "accuracy"
         },
         {
          "iter": 162,
          "value": 0.47,
          "variable": "accuracy"
         },
         {
          "iter": 163,
          "value": 0.491,
          "variable": "accuracy"
         },
         {
          "iter": 164,
          "value": 0.483,
          "variable": "accuracy"
         },
         {
          "iter": 165,
          "value": 0.483,
          "variable": "accuracy"
         },
         {
          "iter": 166,
          "value": 0.479,
          "variable": "accuracy"
         },
         {
          "iter": 167,
          "value": 0.483,
          "variable": "accuracy"
         },
         {
          "iter": 168,
          "value": 0.488,
          "variable": "accuracy"
         },
         {
          "iter": 169,
          "value": 0.494,
          "variable": "accuracy"
         },
         {
          "iter": 170,
          "value": 0.489,
          "variable": "accuracy"
         },
         {
          "iter": 171,
          "value": 0.506,
          "variable": "accuracy"
         },
         {
          "iter": 172,
          "value": 0.502,
          "variable": "accuracy"
         },
         {
          "iter": 173,
          "value": 0.503,
          "variable": "accuracy"
         },
         {
          "iter": 174,
          "value": 0.51,
          "variable": "accuracy"
         },
         {
          "iter": 175,
          "value": 0.5,
          "variable": "accuracy"
         },
         {
          "iter": 176,
          "value": 0.474,
          "variable": "accuracy"
         },
         {
          "iter": 177,
          "value": 0.472,
          "variable": "accuracy"
         },
         {
          "iter": 178,
          "value": 0.477,
          "variable": "accuracy"
         },
         {
          "iter": 179,
          "value": 0.474,
          "variable": "accuracy"
         },
         {
          "iter": 180,
          "value": 0.474,
          "variable": "accuracy"
         },
         {
          "iter": 181,
          "value": 0.498,
          "variable": "accuracy"
         },
         {
          "iter": 182,
          "value": 0.49,
          "variable": "accuracy"
         },
         {
          "iter": 183,
          "value": 0.485,
          "variable": "accuracy"
         },
         {
          "iter": 184,
          "value": 0.488,
          "variable": "accuracy"
         },
         {
          "iter": 185,
          "value": 0.492,
          "variable": "accuracy"
         },
         {
          "iter": 186,
          "value": 0.49,
          "variable": "accuracy"
         },
         {
          "iter": 187,
          "value": 0.501,
          "variable": "accuracy"
         },
         {
          "iter": 188,
          "value": 0.499,
          "variable": "accuracy"
         },
         {
          "iter": 189,
          "value": 0.494,
          "variable": "accuracy"
         },
         {
          "iter": 190,
          "value": 0.498,
          "variable": "accuracy"
         },
         {
          "iter": 191,
          "value": 0.474,
          "variable": "accuracy"
         },
         {
          "iter": 192,
          "value": 0.48,
          "variable": "accuracy"
         },
         {
          "iter": 193,
          "value": 0.477,
          "variable": "accuracy"
         },
         {
          "iter": 194,
          "value": 0.474,
          "variable": "accuracy"
         },
         {
          "iter": 195,
          "value": 0.485,
          "variable": "accuracy"
         },
         {
          "iter": 196,
          "value": 0.48,
          "variable": "accuracy"
         },
         {
          "iter": 197,
          "value": 0.485,
          "variable": "accuracy"
         },
         {
          "iter": 198,
          "value": 0.485,
          "variable": "accuracy"
         },
         {
          "iter": 199,
          "value": 0.469,
          "variable": "accuracy"
         },
         {
          "iter": 200,
          "value": 0.46,
          "variable": "accuracy"
         },
         {
          "iter": 201,
          "value": 0.471,
          "variable": "accuracy"
         },
         {
          "iter": 202,
          "value": 0.475,
          "variable": "accuracy"
         },
         {
          "iter": 203,
          "value": 0.481,
          "variable": "accuracy"
         },
         {
          "iter": 204,
          "value": 0.472,
          "variable": "accuracy"
         },
         {
          "iter": 205,
          "value": 0.476,
          "variable": "accuracy"
         },
         {
          "iter": 206,
          "value": 0.502,
          "variable": "accuracy"
         },
         {
          "iter": 207,
          "value": 0.494,
          "variable": "accuracy"
         },
         {
          "iter": 208,
          "value": 0.483,
          "variable": "accuracy"
         },
         {
          "iter": 209,
          "value": 0.479,
          "variable": "accuracy"
         },
         {
          "iter": 210,
          "value": 0.485,
          "variable": "accuracy"
         },
         {
          "iter": 211,
          "value": 0.475,
          "variable": "accuracy"
         },
         {
          "iter": 212,
          "value": 0.485,
          "variable": "accuracy"
         },
         {
          "iter": 213,
          "value": 0.482,
          "variable": "accuracy"
         },
         {
          "iter": 214,
          "value": 0.467,
          "variable": "accuracy"
         },
         {
          "iter": 215,
          "value": 0.478,
          "variable": "accuracy"
         },
         {
          "iter": 216,
          "value": 0.471,
          "variable": "accuracy"
         },
         {
          "iter": 217,
          "value": 0.48,
          "variable": "accuracy"
         },
         {
          "iter": 218,
          "value": 0.491,
          "variable": "accuracy"
         },
         {
          "iter": 219,
          "value": 0.496,
          "variable": "accuracy"
         },
         {
          "iter": 220,
          "value": 0.469,
          "variable": "accuracy"
         },
         {
          "iter": 221,
          "value": 0.48,
          "variable": "accuracy"
         },
         {
          "iter": 222,
          "value": 0.485,
          "variable": "accuracy"
         },
         {
          "iter": 223,
          "value": 0.487,
          "variable": "accuracy"
         },
         {
          "iter": 224,
          "value": 0.492,
          "variable": "accuracy"
         },
         {
          "iter": 225,
          "value": 0.504,
          "variable": "accuracy"
         },
         {
          "iter": 226,
          "value": 0.517,
          "variable": "accuracy"
         },
         {
          "iter": 227,
          "value": 0.482,
          "variable": "accuracy"
         },
         {
          "iter": 228,
          "value": 0.483,
          "variable": "accuracy"
         },
         {
          "iter": 229,
          "value": 0.491,
          "variable": "accuracy"
         },
         {
          "iter": 230,
          "value": 0.513,
          "variable": "accuracy"
         },
         {
          "iter": 231,
          "value": 0.506,
          "variable": "accuracy"
         },
         {
          "iter": 232,
          "value": 0.511,
          "variable": "accuracy"
         },
         {
          "iter": 233,
          "value": 0.51,
          "variable": "accuracy"
         },
         {
          "iter": 234,
          "value": 0.505,
          "variable": "accuracy"
         },
         {
          "iter": 235,
          "value": 0.498,
          "variable": "accuracy"
         },
         {
          "iter": 236,
          "value": 0.511,
          "variable": "accuracy"
         },
         {
          "iter": 237,
          "value": 0.509,
          "variable": "accuracy"
         },
         {
          "iter": 238,
          "value": 0.51,
          "variable": "accuracy"
         },
         {
          "iter": 239,
          "value": 0.514,
          "variable": "accuracy"
         },
         {
          "iter": 240,
          "value": 0.513,
          "variable": "accuracy"
         },
         {
          "iter": 241,
          "value": 0.505,
          "variable": "accuracy"
         },
         {
          "iter": 242,
          "value": 0.492,
          "variable": "accuracy"
         },
         {
          "iter": 243,
          "value": 0.498,
          "variable": "accuracy"
         },
         {
          "iter": 244,
          "value": 0.489,
          "variable": "accuracy"
         },
         {
          "iter": 245,
          "value": 0.482,
          "variable": "accuracy"
         },
         {
          "iter": 246,
          "value": 0.49,
          "variable": "accuracy"
         },
         {
          "iter": 247,
          "value": 0.491,
          "variable": "accuracy"
         },
         {
          "iter": 248,
          "value": 0.508,
          "variable": "accuracy"
         },
         {
          "iter": 249,
          "value": 0.512,
          "variable": "accuracy"
         },
         {
          "iter": 250,
          "value": 0.51,
          "variable": "accuracy"
         },
         {
          "iter": 251,
          "value": 0.502,
          "variable": "accuracy"
         },
         {
          "iter": 252,
          "value": 0.498,
          "variable": "accuracy"
         },
         {
          "iter": 253,
          "value": 0.486,
          "variable": "accuracy"
         },
         {
          "iter": 254,
          "value": 0.497,
          "variable": "accuracy"
         },
         {
          "iter": 255,
          "value": 0.499,
          "variable": "accuracy"
         },
         {
          "iter": 256,
          "value": 0.504,
          "variable": "accuracy"
         },
         {
          "iter": 257,
          "value": 0.513,
          "variable": "accuracy"
         },
         {
          "iter": 258,
          "value": 0.513,
          "variable": "accuracy"
         },
         {
          "iter": 259,
          "value": 0.508,
          "variable": "accuracy"
         },
         {
          "iter": 260,
          "value": 0.514,
          "variable": "accuracy"
         },
         {
          "iter": 261,
          "value": 0.518,
          "variable": "accuracy"
         },
         {
          "iter": 262,
          "value": 0.488,
          "variable": "accuracy"
         },
         {
          "iter": 263,
          "value": 0.522,
          "variable": "accuracy"
         },
         {
          "iter": 264,
          "value": 0.507,
          "variable": "accuracy"
         },
         {
          "iter": 265,
          "value": 0.491,
          "variable": "accuracy"
         },
         {
          "iter": 266,
          "value": 0.487,
          "variable": "accuracy"
         },
         {
          "iter": 267,
          "value": 0.503,
          "variable": "accuracy"
         },
         {
          "iter": 268,
          "value": 0.49,
          "variable": "accuracy"
         },
         {
          "iter": 269,
          "value": 0.489,
          "variable": "accuracy"
         },
         {
          "iter": 270,
          "value": 0.495,
          "variable": "accuracy"
         },
         {
          "iter": 271,
          "value": 0.499,
          "variable": "accuracy"
         },
         {
          "iter": 272,
          "value": 0.5,
          "variable": "accuracy"
         },
         {
          "iter": 273,
          "value": 0.505,
          "variable": "accuracy"
         },
         {
          "iter": 274,
          "value": 0.496,
          "variable": "accuracy"
         },
         {
          "iter": 275,
          "value": 0.503,
          "variable": "accuracy"
         },
         {
          "iter": 276,
          "value": 0.495,
          "variable": "accuracy"
         },
         {
          "iter": 277,
          "value": 0.504,
          "variable": "accuracy"
         },
         {
          "iter": 278,
          "value": 0.512,
          "variable": "accuracy"
         },
         {
          "iter": 279,
          "value": 0.504,
          "variable": "accuracy"
         },
         {
          "iter": 280,
          "value": 0.507,
          "variable": "accuracy"
         },
         {
          "iter": 281,
          "value": 0.506,
          "variable": "accuracy"
         },
         {
          "iter": 282,
          "value": 0.501,
          "variable": "accuracy"
         },
         {
          "iter": 283,
          "value": 0.505,
          "variable": "accuracy"
         },
         {
          "iter": 284,
          "value": 0.503,
          "variable": "accuracy"
         },
         {
          "iter": 285,
          "value": 0.5,
          "variable": "accuracy"
         },
         {
          "iter": 286,
          "value": 0.517,
          "variable": "accuracy"
         },
         {
          "iter": 287,
          "value": 0.516,
          "variable": "accuracy"
         },
         {
          "iter": 288,
          "value": 0.509,
          "variable": "accuracy"
         },
         {
          "iter": 289,
          "value": 0.498,
          "variable": "accuracy"
         },
         {
          "iter": 290,
          "value": 0.504,
          "variable": "accuracy"
         },
         {
          "iter": 291,
          "value": 0.491,
          "variable": "accuracy"
         },
         {
          "iter": 292,
          "value": 0.495,
          "variable": "accuracy"
         },
         {
          "iter": 293,
          "value": 0.496,
          "variable": "accuracy"
         },
         {
          "iter": 294,
          "value": 0.498,
          "variable": "accuracy"
         },
         {
          "iter": 295,
          "value": 0.514,
          "variable": "accuracy"
         },
         {
          "iter": 296,
          "value": 0.521,
          "variable": "accuracy"
         },
         {
          "iter": 297,
          "value": 0.516,
          "variable": "accuracy"
         },
         {
          "iter": 298,
          "value": 0.518,
          "variable": "accuracy"
         },
         {
          "iter": 299,
          "value": 0.517,
          "variable": "accuracy"
         },
         {
          "iter": 300,
          "value": 0.508,
          "variable": "accuracy"
         },
         {
          "iter": 301,
          "value": 0.492,
          "variable": "accuracy"
         },
         {
          "iter": 302,
          "value": 0.514,
          "variable": "accuracy"
         },
         {
          "iter": 303,
          "value": 0.513,
          "variable": "accuracy"
         },
         {
          "iter": 304,
          "value": 0.511,
          "variable": "accuracy"
         },
         {
          "iter": 305,
          "value": 0.519,
          "variable": "accuracy"
         },
         {
          "iter": 306,
          "value": 0.498,
          "variable": "accuracy"
         },
         {
          "iter": 307,
          "value": 0.493,
          "variable": "accuracy"
         },
         {
          "iter": 308,
          "value": 0.497,
          "variable": "accuracy"
         },
         {
          "iter": 309,
          "value": 0.487,
          "variable": "accuracy"
         },
         {
          "iter": 310,
          "value": 0.509,
          "variable": "accuracy"
         },
         {
          "iter": 311,
          "value": 0.505,
          "variable": "accuracy"
         },
         {
          "iter": 312,
          "value": 0.506,
          "variable": "accuracy"
         },
         {
          "iter": 313,
          "value": 0.514,
          "variable": "accuracy"
         },
         {
          "iter": 314,
          "value": 0.505,
          "variable": "accuracy"
         },
         {
          "iter": 315,
          "value": 0.505,
          "variable": "accuracy"
         },
         {
          "iter": 316,
          "value": 0.507,
          "variable": "accuracy"
         },
         {
          "iter": 317,
          "value": 0.514,
          "variable": "accuracy"
         },
         {
          "iter": 318,
          "value": 0.518,
          "variable": "accuracy"
         },
         {
          "iter": 319,
          "value": 0.521,
          "variable": "accuracy"
         },
         {
          "iter": 320,
          "value": 0.524,
          "variable": "accuracy"
         },
         {
          "iter": 321,
          "value": 0.525,
          "variable": "accuracy"
         },
         {
          "iter": 322,
          "value": 0.509,
          "variable": "accuracy"
         },
         {
          "iter": 323,
          "value": 0.513,
          "variable": "accuracy"
         },
         {
          "iter": 324,
          "value": 0.526,
          "variable": "accuracy"
         },
         {
          "iter": 325,
          "value": 0.527,
          "variable": "accuracy"
         },
         {
          "iter": 326,
          "value": 0.53,
          "variable": "accuracy"
         },
         {
          "iter": 327,
          "value": 0.527,
          "variable": "accuracy"
         },
         {
          "iter": 328,
          "value": 0.53,
          "variable": "accuracy"
         },
         {
          "iter": 329,
          "value": 0.528,
          "variable": "accuracy"
         },
         {
          "iter": 330,
          "value": 0.522,
          "variable": "accuracy"
         },
         {
          "iter": 331,
          "value": 0.521,
          "variable": "accuracy"
         },
         {
          "iter": 332,
          "value": 0.524,
          "variable": "accuracy"
         },
         {
          "iter": 333,
          "value": 0.514,
          "variable": "accuracy"
         },
         {
          "iter": 334,
          "value": 0.531,
          "variable": "accuracy"
         },
         {
          "iter": 335,
          "value": 0.514,
          "variable": "accuracy"
         },
         {
          "iter": 336,
          "value": 0.507,
          "variable": "accuracy"
         },
         {
          "iter": 337,
          "value": 0.529,
          "variable": "accuracy"
         },
         {
          "iter": 338,
          "value": 0.539,
          "variable": "accuracy"
         },
         {
          "iter": 339,
          "value": 0.52,
          "variable": "accuracy"
         },
         {
          "iter": 340,
          "value": 0.524,
          "variable": "accuracy"
         },
         {
          "iter": 341,
          "value": 0.512,
          "variable": "accuracy"
         },
         {
          "iter": 342,
          "value": 0.512,
          "variable": "accuracy"
         },
         {
          "iter": 343,
          "value": 0.506,
          "variable": "accuracy"
         },
         {
          "iter": 344,
          "value": 0.513,
          "variable": "accuracy"
         },
         {
          "iter": 345,
          "value": 0.507,
          "variable": "accuracy"
         },
         {
          "iter": 346,
          "value": 0.511,
          "variable": "accuracy"
         },
         {
          "iter": 347,
          "value": 0.518,
          "variable": "accuracy"
         },
         {
          "iter": 348,
          "value": 0.512,
          "variable": "accuracy"
         },
         {
          "iter": 349,
          "value": 0.516,
          "variable": "accuracy"
         },
         {
          "iter": 350,
          "value": 0.508,
          "variable": "accuracy"
         },
         {
          "iter": 351,
          "value": 0.519,
          "variable": "accuracy"
         },
         {
          "iter": 352,
          "value": 0.519,
          "variable": "accuracy"
         },
         {
          "iter": 353,
          "value": 0.511,
          "variable": "accuracy"
         },
         {
          "iter": 354,
          "value": 0.514,
          "variable": "accuracy"
         },
         {
          "iter": 355,
          "value": 0.517,
          "variable": "accuracy"
         },
         {
          "iter": 356,
          "value": 0.528,
          "variable": "accuracy"
         },
         {
          "iter": 357,
          "value": 0.525,
          "variable": "accuracy"
         },
         {
          "iter": 358,
          "value": 0.509,
          "variable": "accuracy"
         },
         {
          "iter": 359,
          "value": 0.504,
          "variable": "accuracy"
         },
         {
          "iter": 360,
          "value": 0.477,
          "variable": "accuracy"
         },
         {
          "iter": 361,
          "value": 0.481,
          "variable": "accuracy"
         },
         {
          "iter": 362,
          "value": 0.483,
          "variable": "accuracy"
         },
         {
          "iter": 363,
          "value": 0.509,
          "variable": "accuracy"
         },
         {
          "iter": 364,
          "value": 0.511,
          "variable": "accuracy"
         },
         {
          "iter": 365,
          "value": 0.504,
          "variable": "accuracy"
         },
         {
          "iter": 366,
          "value": 0.51,
          "variable": "accuracy"
         },
         {
          "iter": 367,
          "value": 0.504,
          "variable": "accuracy"
         },
         {
          "iter": 368,
          "value": 0.504,
          "variable": "accuracy"
         },
         {
          "iter": 369,
          "value": 0.506,
          "variable": "accuracy"
         },
         {
          "iter": 370,
          "value": 0.503,
          "variable": "accuracy"
         },
         {
          "iter": 371,
          "value": 0.507,
          "variable": "accuracy"
         },
         {
          "iter": 372,
          "value": 0.517,
          "variable": "accuracy"
         },
         {
          "iter": 373,
          "value": 0.531,
          "variable": "accuracy"
         },
         {
          "iter": 374,
          "value": 0.533,
          "variable": "accuracy"
         },
         {
          "iter": 375,
          "value": 0.536,
          "variable": "accuracy"
         },
         {
          "iter": 376,
          "value": 0.542,
          "variable": "accuracy"
         },
         {
          "iter": 377,
          "value": 0.543,
          "variable": "accuracy"
         },
         {
          "iter": 378,
          "value": 0.537,
          "variable": "accuracy"
         },
         {
          "iter": 379,
          "value": 0.538,
          "variable": "accuracy"
         },
         {
          "iter": 380,
          "value": 0.541,
          "variable": "accuracy"
         },
         {
          "iter": 381,
          "value": 0.514,
          "variable": "accuracy"
         },
         {
          "iter": 382,
          "value": 0.52,
          "variable": "accuracy"
         },
         {
          "iter": 383,
          "value": 0.507,
          "variable": "accuracy"
         },
         {
          "iter": 384,
          "value": 0.516,
          "variable": "accuracy"
         },
         {
          "iter": 385,
          "value": 0.517,
          "variable": "accuracy"
         },
         {
          "iter": 386,
          "value": 0.528,
          "variable": "accuracy"
         },
         {
          "iter": 387,
          "value": 0.538,
          "variable": "accuracy"
         },
         {
          "iter": 388,
          "value": 0.545,
          "variable": "accuracy"
         },
         {
          "iter": 389,
          "value": 0.538,
          "variable": "accuracy"
         },
         {
          "iter": 390,
          "value": 0.539,
          "variable": "accuracy"
         },
         {
          "iter": 391,
          "value": 0.533,
          "variable": "accuracy"
         },
         {
          "iter": 392,
          "value": 0.52,
          "variable": "accuracy"
         },
         {
          "iter": 393,
          "value": 0.492,
          "variable": "accuracy"
         },
         {
          "iter": 394,
          "value": 0.515,
          "variable": "accuracy"
         },
         {
          "iter": 395,
          "value": 0.52,
          "variable": "accuracy"
         },
         {
          "iter": 396,
          "value": 0.521,
          "variable": "accuracy"
         },
         {
          "iter": 397,
          "value": 0.51,
          "variable": "accuracy"
         },
         {
          "iter": 398,
          "value": 0.529,
          "variable": "accuracy"
         },
         {
          "iter": 399,
          "value": 0.53,
          "variable": "accuracy"
         },
         {
          "iter": 400,
          "value": 0.533,
          "variable": "accuracy"
         },
         {
          "iter": 401,
          "value": 0.525,
          "variable": "accuracy"
         },
         {
          "iter": 402,
          "value": 0.529,
          "variable": "accuracy"
         },
         {
          "iter": 403,
          "value": 0.523,
          "variable": "accuracy"
         },
         {
          "iter": 404,
          "value": 0.53,
          "variable": "accuracy"
         },
         {
          "iter": 405,
          "value": 0.534,
          "variable": "accuracy"
         },
         {
          "iter": 406,
          "value": 0.524,
          "variable": "accuracy"
         },
         {
          "iter": 407,
          "value": 0.502,
          "variable": "accuracy"
         },
         {
          "iter": 408,
          "value": 0.523,
          "variable": "accuracy"
         },
         {
          "iter": 409,
          "value": 0.526,
          "variable": "accuracy"
         },
         {
          "iter": 410,
          "value": 0.501,
          "variable": "accuracy"
         },
         {
          "iter": 411,
          "value": 0.508,
          "variable": "accuracy"
         },
         {
          "iter": 412,
          "value": 0.522,
          "variable": "accuracy"
         },
         {
          "iter": 413,
          "value": 0.522,
          "variable": "accuracy"
         },
         {
          "iter": 414,
          "value": 0.522,
          "variable": "accuracy"
         },
         {
          "iter": 415,
          "value": 0.518,
          "variable": "accuracy"
         },
         {
          "iter": 416,
          "value": 0.524,
          "variable": "accuracy"
         },
         {
          "iter": 417,
          "value": 0.526,
          "variable": "accuracy"
         },
         {
          "iter": 418,
          "value": 0.52,
          "variable": "accuracy"
         },
         {
          "iter": 419,
          "value": 0.519,
          "variable": "accuracy"
         },
         {
          "iter": 420,
          "value": 0.505,
          "variable": "accuracy"
         },
         {
          "iter": 421,
          "value": 0.508,
          "variable": "accuracy"
         },
         {
          "iter": 422,
          "value": 0.516,
          "variable": "accuracy"
         },
         {
          "iter": 423,
          "value": 0.522,
          "variable": "accuracy"
         },
         {
          "iter": 424,
          "value": 0.521,
          "variable": "accuracy"
         },
         {
          "iter": 425,
          "value": 0.53,
          "variable": "accuracy"
         },
         {
          "iter": 426,
          "value": 0.512,
          "variable": "accuracy"
         },
         {
          "iter": 427,
          "value": 0.519,
          "variable": "accuracy"
         },
         {
          "iter": 428,
          "value": 0.508,
          "variable": "accuracy"
         },
         {
          "iter": 429,
          "value": 0.515,
          "variable": "accuracy"
         },
         {
          "iter": 430,
          "value": 0.529,
          "variable": "accuracy"
         },
         {
          "iter": 431,
          "value": 0.535,
          "variable": "accuracy"
         },
         {
          "iter": 432,
          "value": 0.535,
          "variable": "accuracy"
         },
         {
          "iter": 433,
          "value": 0.545,
          "variable": "accuracy"
         },
         {
          "iter": 434,
          "value": 0.534,
          "variable": "accuracy"
         },
         {
          "iter": 435,
          "value": 0.548,
          "variable": "accuracy"
         },
         {
          "iter": 436,
          "value": 0.539,
          "variable": "accuracy"
         },
         {
          "iter": 437,
          "value": 0.551,
          "variable": "accuracy"
         },
         {
          "iter": 438,
          "value": 0.546,
          "variable": "accuracy"
         },
         {
          "iter": 439,
          "value": 0.556,
          "variable": "accuracy"
         },
         {
          "iter": 440,
          "value": 0.544,
          "variable": "accuracy"
         },
         {
          "iter": 441,
          "value": 0.544,
          "variable": "accuracy"
         },
         {
          "iter": 442,
          "value": 0.54,
          "variable": "accuracy"
         },
         {
          "iter": 443,
          "value": 0.528,
          "variable": "accuracy"
         },
         {
          "iter": 444,
          "value": 0.551,
          "variable": "accuracy"
         },
         {
          "iter": 445,
          "value": 0.555,
          "variable": "accuracy"
         },
         {
          "iter": 446,
          "value": 0.536,
          "variable": "accuracy"
         },
         {
          "iter": 447,
          "value": 0.536,
          "variable": "accuracy"
         },
         {
          "iter": 448,
          "value": 0.54,
          "variable": "accuracy"
         },
         {
          "iter": 449,
          "value": 0.547,
          "variable": "accuracy"
         },
         {
          "iter": 450,
          "value": 0.544,
          "variable": "accuracy"
         },
         {
          "iter": 451,
          "value": 0.54,
          "variable": "accuracy"
         },
         {
          "iter": 452,
          "value": 0.534,
          "variable": "accuracy"
         },
         {
          "iter": 453,
          "value": 0.532,
          "variable": "accuracy"
         },
         {
          "iter": 454,
          "value": 0.556,
          "variable": "accuracy"
         },
         {
          "iter": 455,
          "value": 0.558,
          "variable": "accuracy"
         },
         {
          "iter": 456,
          "value": 0.558,
          "variable": "accuracy"
         },
         {
          "iter": 457,
          "value": 0.575,
          "variable": "accuracy"
         },
         {
          "iter": 458,
          "value": 0.547,
          "variable": "accuracy"
         },
         {
          "iter": 459,
          "value": 0.553,
          "variable": "accuracy"
         },
         {
          "iter": 460,
          "value": 0.537,
          "variable": "accuracy"
         },
         {
          "iter": 461,
          "value": 0.546,
          "variable": "accuracy"
         },
         {
          "iter": 462,
          "value": 0.548,
          "variable": "accuracy"
         },
         {
          "iter": 463,
          "value": 0.55,
          "variable": "accuracy"
         },
         {
          "iter": 464,
          "value": 0.555,
          "variable": "accuracy"
         },
         {
          "iter": 465,
          "value": 0.551,
          "variable": "accuracy"
         },
         {
          "iter": 466,
          "value": 0.553,
          "variable": "accuracy"
         },
         {
          "iter": 467,
          "value": 0.547,
          "variable": "accuracy"
         },
         {
          "iter": 468,
          "value": 0.538,
          "variable": "accuracy"
         },
         {
          "iter": 469,
          "value": 0.533,
          "variable": "accuracy"
         },
         {
          "iter": 470,
          "value": 0.529,
          "variable": "accuracy"
         },
         {
          "iter": 471,
          "value": 0.551,
          "variable": "accuracy"
         },
         {
          "iter": 472,
          "value": 0.55,
          "variable": "accuracy"
         },
         {
          "iter": 473,
          "value": 0.548,
          "variable": "accuracy"
         },
         {
          "iter": 474,
          "value": 0.557,
          "variable": "accuracy"
         },
         {
          "iter": 475,
          "value": 0.561,
          "variable": "accuracy"
         },
         {
          "iter": 476,
          "value": 0.553,
          "variable": "accuracy"
         },
         {
          "iter": 477,
          "value": 0.539,
          "variable": "accuracy"
         },
         {
          "iter": 478,
          "value": 0.53,
          "variable": "accuracy"
         },
         {
          "iter": 479,
          "value": 0.52,
          "variable": "accuracy"
         },
         {
          "iter": 480,
          "value": 0.543,
          "variable": "accuracy"
         },
         {
          "iter": 481,
          "value": 0.543,
          "variable": "accuracy"
         },
         {
          "iter": 482,
          "value": 0.549,
          "variable": "accuracy"
         },
         {
          "iter": 483,
          "value": 0.551,
          "variable": "accuracy"
         },
         {
          "iter": 484,
          "value": 0.551,
          "variable": "accuracy"
         },
         {
          "iter": 485,
          "value": 0.547,
          "variable": "accuracy"
         },
         {
          "iter": 486,
          "value": 0.547,
          "variable": "accuracy"
         },
         {
          "iter": 487,
          "value": 0.541,
          "variable": "accuracy"
         },
         {
          "iter": 488,
          "value": 0.543,
          "variable": "accuracy"
         },
         {
          "iter": 489,
          "value": 0.547,
          "variable": "accuracy"
         },
         {
          "iter": 490,
          "value": 0.537,
          "variable": "accuracy"
         },
         {
          "iter": 491,
          "value": 0.543,
          "variable": "accuracy"
         },
         {
          "iter": 492,
          "value": 0.539,
          "variable": "accuracy"
         },
         {
          "iter": 493,
          "value": 0.535,
          "variable": "accuracy"
         },
         {
          "iter": 494,
          "value": 0.544,
          "variable": "accuracy"
         },
         {
          "iter": 495,
          "value": 0.557,
          "variable": "accuracy"
         },
         {
          "iter": 496,
          "value": 0.561,
          "variable": "accuracy"
         },
         {
          "iter": 497,
          "value": 0.556,
          "variable": "accuracy"
         },
         {
          "iter": 498,
          "value": 0.554,
          "variable": "accuracy"
         },
         {
          "iter": 499,
          "value": 0.537,
          "variable": "accuracy"
         },
         {
          "iter": 500,
          "value": 0.556,
          "variable": "accuracy"
         },
         {
          "iter": 501,
          "value": 0.538,
          "variable": "accuracy"
         },
         {
          "iter": 502,
          "value": 0.532,
          "variable": "accuracy"
         },
         {
          "iter": 503,
          "value": 0.54,
          "variable": "accuracy"
         },
         {
          "iter": 504,
          "value": 0.535,
          "variable": "accuracy"
         },
         {
          "iter": 505,
          "value": 0.533,
          "variable": "accuracy"
         },
         {
          "iter": 506,
          "value": 0.549,
          "variable": "accuracy"
         },
         {
          "iter": 507,
          "value": 0.545,
          "variable": "accuracy"
         },
         {
          "iter": 508,
          "value": 0.53,
          "variable": "accuracy"
         },
         {
          "iter": 509,
          "value": 0.532,
          "variable": "accuracy"
         },
         {
          "iter": 510,
          "value": 0.54,
          "variable": "accuracy"
         },
         {
          "iter": 511,
          "value": 0.534,
          "variable": "accuracy"
         },
         {
          "iter": 512,
          "value": 0.548,
          "variable": "accuracy"
         },
         {
          "iter": 513,
          "value": 0.557,
          "variable": "accuracy"
         },
         {
          "iter": 514,
          "value": 0.547,
          "variable": "accuracy"
         },
         {
          "iter": 515,
          "value": 0.543,
          "variable": "accuracy"
         },
         {
          "iter": 516,
          "value": 0.546,
          "variable": "accuracy"
         },
         {
          "iter": 517,
          "value": 0.543,
          "variable": "accuracy"
         },
         {
          "iter": 518,
          "value": 0.535,
          "variable": "accuracy"
         },
         {
          "iter": 519,
          "value": 0.532,
          "variable": "accuracy"
         },
         {
          "iter": 520,
          "value": 0.527,
          "variable": "accuracy"
         },
         {
          "iter": 521,
          "value": 0.541,
          "variable": "accuracy"
         },
         {
          "iter": 522,
          "value": 0.553,
          "variable": "accuracy"
         },
         {
          "iter": 523,
          "value": 0.568,
          "variable": "accuracy"
         },
         {
          "iter": 524,
          "value": 0.575,
          "variable": "accuracy"
         },
         {
          "iter": 525,
          "value": 0.584,
          "variable": "accuracy"
         },
         {
          "iter": 526,
          "value": 0.572,
          "variable": "accuracy"
         },
         {
          "iter": 527,
          "value": 0.567,
          "variable": "accuracy"
         },
         {
          "iter": 528,
          "value": 0.571,
          "variable": "accuracy"
         },
         {
          "iter": 529,
          "value": 0.545,
          "variable": "accuracy"
         },
         {
          "iter": 530,
          "value": 0.555,
          "variable": "accuracy"
         },
         {
          "iter": 531,
          "value": 0.549,
          "variable": "accuracy"
         },
         {
          "iter": 532,
          "value": 0.562,
          "variable": "accuracy"
         },
         {
          "iter": 533,
          "value": 0.556,
          "variable": "accuracy"
         },
         {
          "iter": 534,
          "value": 0.536,
          "variable": "accuracy"
         },
         {
          "iter": 535,
          "value": 0.546,
          "variable": "accuracy"
         },
         {
          "iter": 536,
          "value": 0.566,
          "variable": "accuracy"
         },
         {
          "iter": 537,
          "value": 0.54,
          "variable": "accuracy"
         },
         {
          "iter": 538,
          "value": 0.547,
          "variable": "accuracy"
         },
         {
          "iter": 539,
          "value": 0.549,
          "variable": "accuracy"
         },
         {
          "iter": 540,
          "value": 0.556,
          "variable": "accuracy"
         },
         {
          "iter": 541,
          "value": 0.553,
          "variable": "accuracy"
         },
         {
          "iter": 542,
          "value": 0.542,
          "variable": "accuracy"
         },
         {
          "iter": 543,
          "value": 0.534,
          "variable": "accuracy"
         },
         {
          "iter": 544,
          "value": 0.549,
          "variable": "accuracy"
         },
         {
          "iter": 545,
          "value": 0.567,
          "variable": "accuracy"
         },
         {
          "iter": 546,
          "value": 0.565,
          "variable": "accuracy"
         },
         {
          "iter": 547,
          "value": 0.549,
          "variable": "accuracy"
         },
         {
          "iter": 548,
          "value": 0.557,
          "variable": "accuracy"
         },
         {
          "iter": 549,
          "value": 0.55,
          "variable": "accuracy"
         },
         {
          "iter": 550,
          "value": 0.546,
          "variable": "accuracy"
         },
         {
          "iter": 551,
          "value": 0.547,
          "variable": "accuracy"
         },
         {
          "iter": 552,
          "value": 0.534,
          "variable": "accuracy"
         },
         {
          "iter": 553,
          "value": 0.539,
          "variable": "accuracy"
         },
         {
          "iter": 554,
          "value": 0.548,
          "variable": "accuracy"
         },
         {
          "iter": 555,
          "value": 0.549,
          "variable": "accuracy"
         },
         {
          "iter": 556,
          "value": 0.549,
          "variable": "accuracy"
         },
         {
          "iter": 557,
          "value": 0.539,
          "variable": "accuracy"
         },
         {
          "iter": 558,
          "value": 0.54,
          "variable": "accuracy"
         },
         {
          "iter": 559,
          "value": 0.558,
          "variable": "accuracy"
         },
         {
          "iter": 560,
          "value": 0.557,
          "variable": "accuracy"
         },
         {
          "iter": 561,
          "value": 0.555,
          "variable": "accuracy"
         },
         {
          "iter": 562,
          "value": 0.54,
          "variable": "accuracy"
         },
         {
          "iter": 563,
          "value": 0.536,
          "variable": "accuracy"
         },
         {
          "iter": 564,
          "value": 0.535,
          "variable": "accuracy"
         },
         {
          "iter": 565,
          "value": 0.54,
          "variable": "accuracy"
         },
         {
          "iter": 566,
          "value": 0.544,
          "variable": "accuracy"
         },
         {
          "iter": 567,
          "value": 0.549,
          "variable": "accuracy"
         },
         {
          "iter": 568,
          "value": 0.55,
          "variable": "accuracy"
         },
         {
          "iter": 569,
          "value": 0.558,
          "variable": "accuracy"
         },
         {
          "iter": 570,
          "value": 0.567,
          "variable": "accuracy"
         },
         {
          "iter": 571,
          "value": 0.557,
          "variable": "accuracy"
         },
         {
          "iter": 572,
          "value": 0.545,
          "variable": "accuracy"
         },
         {
          "iter": 573,
          "value": 0.55,
          "variable": "accuracy"
         },
         {
          "iter": 574,
          "value": 0.558,
          "variable": "accuracy"
         },
         {
          "iter": 575,
          "value": 0.559,
          "variable": "accuracy"
         },
         {
          "iter": 576,
          "value": 0.557,
          "variable": "accuracy"
         },
         {
          "iter": 577,
          "value": 0.547,
          "variable": "accuracy"
         },
         {
          "iter": 578,
          "value": 0.542,
          "variable": "accuracy"
         },
         {
          "iter": 579,
          "value": 0.535,
          "variable": "accuracy"
         },
         {
          "iter": 580,
          "value": 0.549,
          "variable": "accuracy"
         },
         {
          "iter": 581,
          "value": 0.527,
          "variable": "accuracy"
         },
         {
          "iter": 582,
          "value": 0.518,
          "variable": "accuracy"
         },
         {
          "iter": 583,
          "value": 0.533,
          "variable": "accuracy"
         },
         {
          "iter": 584,
          "value": 0.542,
          "variable": "accuracy"
         },
         {
          "iter": 585,
          "value": 0.544,
          "variable": "accuracy"
         },
         {
          "iter": 586,
          "value": 0.548,
          "variable": "accuracy"
         },
         {
          "iter": 587,
          "value": 0.522,
          "variable": "accuracy"
         },
         {
          "iter": 588,
          "value": 0.537,
          "variable": "accuracy"
         },
         {
          "iter": 589,
          "value": 0.548,
          "variable": "accuracy"
         },
         {
          "iter": 590,
          "value": 0.548,
          "variable": "accuracy"
         },
         {
          "iter": 591,
          "value": 0.536,
          "variable": "accuracy"
         },
         {
          "iter": 592,
          "value": 0.541,
          "variable": "accuracy"
         },
         {
          "iter": 593,
          "value": 0.546,
          "variable": "accuracy"
         },
         {
          "iter": 594,
          "value": 0.544,
          "variable": "accuracy"
         },
         {
          "iter": 595,
          "value": 0.534,
          "variable": "accuracy"
         },
         {
          "iter": 596,
          "value": 0.551,
          "variable": "accuracy"
         },
         {
          "iter": 597,
          "value": 0.548,
          "variable": "accuracy"
         },
         {
          "iter": 598,
          "value": 0.551,
          "variable": "accuracy"
         },
         {
          "iter": 599,
          "value": 0.549,
          "variable": "accuracy"
         },
         {
          "iter": 600,
          "value": 0.557,
          "variable": "accuracy"
         },
         {
          "iter": 601,
          "value": 0.555,
          "variable": "accuracy"
         },
         {
          "iter": 602,
          "value": 0.564,
          "variable": "accuracy"
         },
         {
          "iter": 603,
          "value": 0.574,
          "variable": "accuracy"
         },
         {
          "iter": 604,
          "value": 0.57,
          "variable": "accuracy"
         },
         {
          "iter": 605,
          "value": 0.562,
          "variable": "accuracy"
         },
         {
          "iter": 606,
          "value": 0.547,
          "variable": "accuracy"
         },
         {
          "iter": 607,
          "value": 0.558,
          "variable": "accuracy"
         },
         {
          "iter": 608,
          "value": 0.562,
          "variable": "accuracy"
         },
         {
          "iter": 609,
          "value": 0.557,
          "variable": "accuracy"
         },
         {
          "iter": 610,
          "value": 0.555,
          "variable": "accuracy"
         },
         {
          "iter": 611,
          "value": 0.553,
          "variable": "accuracy"
         },
         {
          "iter": 612,
          "value": 0.56,
          "variable": "accuracy"
         },
         {
          "iter": 613,
          "value": 0.562,
          "variable": "accuracy"
         },
         {
          "iter": 614,
          "value": 0.565,
          "variable": "accuracy"
         },
         {
          "iter": 615,
          "value": 0.576,
          "variable": "accuracy"
         },
         {
          "iter": 616,
          "value": 0.572,
          "variable": "accuracy"
         },
         {
          "iter": 617,
          "value": 0.556,
          "variable": "accuracy"
         },
         {
          "iter": 618,
          "value": 0.547,
          "variable": "accuracy"
         },
         {
          "iter": 619,
          "value": 0.556,
          "variable": "accuracy"
         },
         {
          "iter": 620,
          "value": 0.563,
          "variable": "accuracy"
         },
         {
          "iter": 621,
          "value": 0.566,
          "variable": "accuracy"
         },
         {
          "iter": 622,
          "value": 0.568,
          "variable": "accuracy"
         },
         {
          "iter": 623,
          "value": 0.566,
          "variable": "accuracy"
         },
         {
          "iter": 624,
          "value": 0.545,
          "variable": "accuracy"
         },
         {
          "iter": 625,
          "value": 0.564,
          "variable": "accuracy"
         },
         {
          "iter": 626,
          "value": 0.54,
          "variable": "accuracy"
         },
         {
          "iter": 627,
          "value": 0.561,
          "variable": "accuracy"
         },
         {
          "iter": 628,
          "value": 0.559,
          "variable": "accuracy"
         },
         {
          "iter": 629,
          "value": 0.565,
          "variable": "accuracy"
         },
         {
          "iter": 630,
          "value": 0.554,
          "variable": "accuracy"
         },
         {
          "iter": 631,
          "value": 0.553,
          "variable": "accuracy"
         },
         {
          "iter": 632,
          "value": 0.567,
          "variable": "accuracy"
         },
         {
          "iter": 633,
          "value": 0.565,
          "variable": "accuracy"
         },
         {
          "iter": 634,
          "value": 0.554,
          "variable": "accuracy"
         },
         {
          "iter": 635,
          "value": 0.575,
          "variable": "accuracy"
         },
         {
          "iter": 636,
          "value": 0.565,
          "variable": "accuracy"
         },
         {
          "iter": 637,
          "value": 0.56,
          "variable": "accuracy"
         },
         {
          "iter": 638,
          "value": 0.559,
          "variable": "accuracy"
         },
         {
          "iter": 639,
          "value": 0.573,
          "variable": "accuracy"
         },
         {
          "iter": 640,
          "value": 0.551,
          "variable": "accuracy"
         },
         {
          "iter": 641,
          "value": 0.552,
          "variable": "accuracy"
         },
         {
          "iter": 642,
          "value": 0.547,
          "variable": "accuracy"
         },
         {
          "iter": 643,
          "value": 0.544,
          "variable": "accuracy"
         },
         {
          "iter": 644,
          "value": 0.539,
          "variable": "accuracy"
         },
         {
          "iter": 645,
          "value": 0.533,
          "variable": "accuracy"
         },
         {
          "iter": 646,
          "value": 0.562,
          "variable": "accuracy"
         },
         {
          "iter": 647,
          "value": 0.564,
          "variable": "accuracy"
         },
         {
          "iter": 648,
          "value": 0.559,
          "variable": "accuracy"
         },
         {
          "iter": 649,
          "value": 0.572,
          "variable": "accuracy"
         },
         {
          "iter": 650,
          "value": 0.559,
          "variable": "accuracy"
         },
         {
          "iter": 651,
          "value": 0.562,
          "variable": "accuracy"
         },
         {
          "iter": 652,
          "value": 0.57,
          "variable": "accuracy"
         },
         {
          "iter": 653,
          "value": 0.562,
          "variable": "accuracy"
         },
         {
          "iter": 654,
          "value": 0.545,
          "variable": "accuracy"
         },
         {
          "iter": 655,
          "value": 0.543,
          "variable": "accuracy"
         },
         {
          "iter": 656,
          "value": 0.537,
          "variable": "accuracy"
         },
         {
          "iter": 657,
          "value": 0.546,
          "variable": "accuracy"
         },
         {
          "iter": 658,
          "value": 0.54,
          "variable": "accuracy"
         },
         {
          "iter": 659,
          "value": 0.539,
          "variable": "accuracy"
         },
         {
          "iter": 660,
          "value": 0.532,
          "variable": "accuracy"
         },
         {
          "iter": 661,
          "value": 0.545,
          "variable": "accuracy"
         },
         {
          "iter": 662,
          "value": 0.544,
          "variable": "accuracy"
         },
         {
          "iter": 663,
          "value": 0.553,
          "variable": "accuracy"
         },
         {
          "iter": 664,
          "value": 0.56,
          "variable": "accuracy"
         },
         {
          "iter": 665,
          "value": 0.566,
          "variable": "accuracy"
         },
         {
          "iter": 666,
          "value": 0.562,
          "variable": "accuracy"
         },
         {
          "iter": 667,
          "value": 0.555,
          "variable": "accuracy"
         },
         {
          "iter": 668,
          "value": 0.557,
          "variable": "accuracy"
         },
         {
          "iter": 669,
          "value": 0.559,
          "variable": "accuracy"
         },
         {
          "iter": 670,
          "value": 0.569,
          "variable": "accuracy"
         },
         {
          "iter": 671,
          "value": 0.555,
          "variable": "accuracy"
         },
         {
          "iter": 672,
          "value": 0.553,
          "variable": "accuracy"
         },
         {
          "iter": 673,
          "value": 0.567,
          "variable": "accuracy"
         },
         {
          "iter": 674,
          "value": 0.549,
          "variable": "accuracy"
         },
         {
          "iter": 675,
          "value": 0.557,
          "variable": "accuracy"
         },
         {
          "iter": 676,
          "value": 0.567,
          "variable": "accuracy"
         },
         {
          "iter": 677,
          "value": 0.571,
          "variable": "accuracy"
         },
         {
          "iter": 678,
          "value": 0.566,
          "variable": "accuracy"
         },
         {
          "iter": 679,
          "value": 0.56,
          "variable": "accuracy"
         },
         {
          "iter": 680,
          "value": 0.554,
          "variable": "accuracy"
         },
         {
          "iter": 681,
          "value": 0.558,
          "variable": "accuracy"
         },
         {
          "iter": 682,
          "value": 0.551,
          "variable": "accuracy"
         },
         {
          "iter": 683,
          "value": 0.552,
          "variable": "accuracy"
         },
         {
          "iter": 684,
          "value": 0.557,
          "variable": "accuracy"
         },
         {
          "iter": 685,
          "value": 0.556,
          "variable": "accuracy"
         },
         {
          "iter": 686,
          "value": 0.555,
          "variable": "accuracy"
         },
         {
          "iter": 687,
          "value": 0.564,
          "variable": "accuracy"
         },
         {
          "iter": 688,
          "value": 0.56,
          "variable": "accuracy"
         },
         {
          "iter": 689,
          "value": 0.551,
          "variable": "accuracy"
         },
         {
          "iter": 690,
          "value": 0.554,
          "variable": "accuracy"
         },
         {
          "iter": 691,
          "value": 0.565,
          "variable": "accuracy"
         },
         {
          "iter": 692,
          "value": 0.566,
          "variable": "accuracy"
         },
         {
          "iter": 693,
          "value": 0.556,
          "variable": "accuracy"
         },
         {
          "iter": 694,
          "value": 0.565,
          "variable": "accuracy"
         },
         {
          "iter": 695,
          "value": 0.562,
          "variable": "accuracy"
         },
         {
          "iter": 696,
          "value": 0.553,
          "variable": "accuracy"
         },
         {
          "iter": 697,
          "value": 0.547,
          "variable": "accuracy"
         },
         {
          "iter": 698,
          "value": 0.544,
          "variable": "accuracy"
         },
         {
          "iter": 699,
          "value": 0.55,
          "variable": "accuracy"
         },
         {
          "iter": 700,
          "value": 0.56,
          "variable": "accuracy"
         },
         {
          "iter": 701,
          "value": 0.554,
          "variable": "accuracy"
         },
         {
          "iter": 702,
          "value": 0.549,
          "variable": "accuracy"
         },
         {
          "iter": 703,
          "value": 0.545,
          "variable": "accuracy"
         },
         {
          "iter": 704,
          "value": 0.545,
          "variable": "accuracy"
         },
         {
          "iter": 705,
          "value": 0.563,
          "variable": "accuracy"
         },
         {
          "iter": 706,
          "value": 0.565,
          "variable": "accuracy"
         },
         {
          "iter": 707,
          "value": 0.559,
          "variable": "accuracy"
         },
         {
          "iter": 708,
          "value": 0.569,
          "variable": "accuracy"
         },
         {
          "iter": 709,
          "value": 0.568,
          "variable": "accuracy"
         },
         {
          "iter": 710,
          "value": 0.57,
          "variable": "accuracy"
         },
         {
          "iter": 711,
          "value": 0.577,
          "variable": "accuracy"
         },
         {
          "iter": 712,
          "value": 0.57,
          "variable": "accuracy"
         },
         {
          "iter": 713,
          "value": 0.578,
          "variable": "accuracy"
         },
         {
          "iter": 714,
          "value": 0.59,
          "variable": "accuracy"
         },
         {
          "iter": 715,
          "value": 0.583,
          "variable": "accuracy"
         },
         {
          "iter": 716,
          "value": 0.579,
          "variable": "accuracy"
         },
         {
          "iter": 717,
          "value": 0.583,
          "variable": "accuracy"
         },
         {
          "iter": 718,
          "value": 0.578,
          "variable": "accuracy"
         },
         {
          "iter": 719,
          "value": 0.574,
          "variable": "accuracy"
         },
         {
          "iter": 720,
          "value": 0.576,
          "variable": "accuracy"
         },
         {
          "iter": 721,
          "value": 0.572,
          "variable": "accuracy"
         },
         {
          "iter": 722,
          "value": 0.578,
          "variable": "accuracy"
         },
         {
          "iter": 723,
          "value": 0.584,
          "variable": "accuracy"
         },
         {
          "iter": 724,
          "value": 0.571,
          "variable": "accuracy"
         },
         {
          "iter": 725,
          "value": 0.569,
          "variable": "accuracy"
         },
         {
          "iter": 726,
          "value": 0.569,
          "variable": "accuracy"
         },
         {
          "iter": 727,
          "value": 0.573,
          "variable": "accuracy"
         },
         {
          "iter": 728,
          "value": 0.578,
          "variable": "accuracy"
         },
         {
          "iter": 729,
          "value": 0.587,
          "variable": "accuracy"
         },
         {
          "iter": 730,
          "value": 0.573,
          "variable": "accuracy"
         },
         {
          "iter": 731,
          "value": 0.584,
          "variable": "accuracy"
         },
         {
          "iter": 732,
          "value": 0.588,
          "variable": "accuracy"
         },
         {
          "iter": 733,
          "value": 0.576,
          "variable": "accuracy"
         },
         {
          "iter": 734,
          "value": 0.558,
          "variable": "accuracy"
         },
         {
          "iter": 735,
          "value": 0.557,
          "variable": "accuracy"
         },
         {
          "iter": 736,
          "value": 0.576,
          "variable": "accuracy"
         },
         {
          "iter": 737,
          "value": 0.571,
          "variable": "accuracy"
         },
         {
          "iter": 738,
          "value": 0.59,
          "variable": "accuracy"
         },
         {
          "iter": 739,
          "value": 0.58,
          "variable": "accuracy"
         },
         {
          "iter": 740,
          "value": 0.58,
          "variable": "accuracy"
         },
         {
          "iter": 741,
          "value": 0.56,
          "variable": "accuracy"
         },
         {
          "iter": 742,
          "value": 0.563,
          "variable": "accuracy"
         },
         {
          "iter": 743,
          "value": 0.555,
          "variable": "accuracy"
         },
         {
          "iter": 744,
          "value": 0.567,
          "variable": "accuracy"
         },
         {
          "iter": 745,
          "value": 0.561,
          "variable": "accuracy"
         },
         {
          "iter": 746,
          "value": 0.563,
          "variable": "accuracy"
         },
         {
          "iter": 747,
          "value": 0.573,
          "variable": "accuracy"
         },
         {
          "iter": 748,
          "value": 0.572,
          "variable": "accuracy"
         },
         {
          "iter": 749,
          "value": 0.569,
          "variable": "accuracy"
         },
         {
          "iter": 750,
          "value": 0.592,
          "variable": "accuracy"
         },
         {
          "iter": 751,
          "value": 0.578,
          "variable": "accuracy"
         },
         {
          "iter": 752,
          "value": 0.579,
          "variable": "accuracy"
         },
         {
          "iter": 753,
          "value": 0.572,
          "variable": "accuracy"
         },
         {
          "iter": 754,
          "value": 0.567,
          "variable": "accuracy"
         },
         {
          "iter": 755,
          "value": 0.571,
          "variable": "accuracy"
         },
         {
          "iter": 756,
          "value": 0.542,
          "variable": "accuracy"
         },
         {
          "iter": 757,
          "value": 0.553,
          "variable": "accuracy"
         },
         {
          "iter": 758,
          "value": 0.56,
          "variable": "accuracy"
         },
         {
          "iter": 759,
          "value": 0.562,
          "variable": "accuracy"
         },
         {
          "iter": 760,
          "value": 0.556,
          "variable": "accuracy"
         },
         {
          "iter": 761,
          "value": 0.556,
          "variable": "accuracy"
         },
         {
          "iter": 762,
          "value": 0.574,
          "variable": "accuracy"
         },
         {
          "iter": 763,
          "value": 0.578,
          "variable": "accuracy"
         },
         {
          "iter": 764,
          "value": 0.583,
          "variable": "accuracy"
         },
         {
          "iter": 765,
          "value": 0.571,
          "variable": "accuracy"
         }
        ]
       },
       "encoding": {
        "color": {
         "field": "variable",
         "type": "nominal"
        },
        "x": {
         "field": "iter",
         "title": "iteration",
         "type": "quantitative"
        },
        "y": {
         "field": "value",
         "title": "accuracy/loss",
         "type": "quantitative"
        }
       },
       "mark": "line",
       "selection": {
        "selector011": {
         "bind": "scales",
         "encodings": [
          "x",
          "y"
         ],
         "mark": {
          "fill": "#333",
          "fillOpacity": 0.125,
          "stroke": "white"
         },
         "on": "[mousedown, window:mouseup] > window:mousemove!",
         "resolve": "global",
         "translate": "[mousedown, window:mouseup] > window:mousemove!",
         "type": "interval",
         "zoom": "wheel!"
        }
       }
      },
      "image/png": "[encoded data removed]",
      "text/plain": [
       "<VegaLite 2 object>\n",
       "\n",
       "If you see this message, it means the renderer has not been properly enabled\n",
       "for the frontend that you are using. For more information, see\n",
       "https://altair-viz.github.io/user_guide/troubleshooting.html\n"
      ]
     },
     "execution_count": 65,
     "metadata": {},
     "output_type": "execute_result"
    }
   ],
   "source": [
    "results = pd.DataFrame(results)\n",
    "plot_loss_histories(results)"
   ]
  },
  {
   "cell_type": "markdown",
   "metadata": {},
   "source": [
    "## Describe what you did \n",
    "\n",
    "In the cell below you should write an explanation of what you did, any additional features that you implemented, and/or any graphs that you made in the process of training and evaluating your network."
   ]
  },
  {
   "cell_type": "markdown",
   "metadata": {},
   "source": [
    "TODO: Describe what you did"
   ]
  },
  {
   "cell_type": "markdown",
   "metadata": {},
   "source": [
    "## Test set -- run this only once\n",
    "\n",
    "Now that we've gotten a result we're happy with, we test our final model on the test set (which you should store in best_model). Think about how this compares to your validation set accuracy."
   ]
  },
  {
   "cell_type": "code",
   "execution_count": null,
   "metadata": {},
   "outputs": [],
   "source": [
    "best_model = model\n",
    "check_accuracy_part34(loader_test, best_model)"
   ]
  },
  {
   "cell_type": "code",
   "execution_count": 17,
   "metadata": {},
   "outputs": [],
   "source": [
    "import torchvision.models as M"
   ]
  },
  {
   "cell_type": "code",
   "execution_count": 18,
   "metadata": {},
   "outputs": [
    {
     "name": "stderr",
     "output_type": "stream",
     "text": [
      "Downloading: \"https://download.pytorch.org/models/resnet18-5c106cde.pth\" to /Users/arnoldo/.torch/models/resnet18-5c106cde.pth\n",
      "100%|██████████| 46827520/46827520 [00:36<00:00, 1295015.29it/s]\n"
     ]
    }
   ],
   "source": [
    "resnet_model = M.resnet18(pretrained=True)\n",
    "num_ftrs = resnet_model.fc.in_features\n",
    "resnet_model.fc = nn.Linear(num_ftrs, 10)\n",
    "input_size = 224"
   ]
  },
  {
   "cell_type": "code",
   "execution_count": 20,
   "metadata": {},
   "outputs": [
    {
     "name": "stdout",
     "output_type": "stream",
     "text": [
      "Files already downloaded and verified\n",
      "Files already downloaded and verified\n",
      "Files already downloaded and verified\n"
     ]
    }
   ],
   "source": [
    "NUM_TRAIN = 49000\n",
    "\n",
    "# The torchvision.transforms package provides tools for preprocessing data\n",
    "# and for performing data augmentation; here we set up a transform to\n",
    "# preprocess the data by subtracting the mean RGB value and dividing by the\n",
    "# standard deviation of each RGB value; we've hardcoded the mean and std.\n",
    "transform = T.Compose([\n",
    "                T.Resize(input_size),\n",
    "                T.ToTensor(),\n",
    "                T.Normalize((0.4914, 0.4822, 0.4465), (0.2023, 0.1994, 0.2010))\n",
    "            ])\n",
    "aug_transform = T.Compose([\n",
    "                T.Resize(input_size),\n",
    "                T.RandomHorizontalFlip(),\n",
    "                T.ToTensor(),\n",
    "                T.Normalize((0.4914, 0.4822, 0.4465), (0.2023, 0.1994, 0.2010))\n",
    "            ])                \n",
    "\n",
    "# We set up a Dataset object for each split (train / val / test); Datasets load\n",
    "# training examples one at a time, so we wrap each Dataset in a DataLoader which\n",
    "# iterates through the Dataset and forms minibatches. We divide the CIFAR-10\n",
    "# training set into train and val sets by passing a Sampler object to the\n",
    "# DataLoader telling how it should sample from the underlying Dataset.\n",
    "cifar10_train = dset.CIFAR10('./cs231n/datasets', train=True, download=True,\n",
    "                             transform=aug_transform)\n",
    "loader_train = DataLoader(cifar10_train, batch_size=64, \n",
    "                          sampler=sampler.SubsetRandomSampler(range(NUM_TRAIN)))\n",
    "\n",
    "cifar10_val = dset.CIFAR10('./cs231n/datasets', train=True, download=True,\n",
    "                           transform=transform)\n",
    "loader_val = DataLoader(cifar10_val, batch_size=64, \n",
    "                        sampler=sampler.SubsetRandomSampler(range(NUM_TRAIN, 50000)))\n",
    "\n",
    "cifar10_test = dset.CIFAR10('./cs231n/datasets', train=False, download=True, \n",
    "                            transform=transform)\n",
    "loader_test = DataLoader(cifar10_test, batch_size=64)"
   ]
  },
  {
   "cell_type": "code",
   "execution_count": 24,
   "metadata": {},
   "outputs": [],
   "source": [
    "def get_accuracy(loader, model):\n",
    "      \n",
    "    num_correct = 0\n",
    "    num_samples = 0\n",
    "    model.eval()  # set model to evaluation mode\n",
    "    with torch.no_grad():\n",
    "        for x, y in loader:\n",
    "            x = x.to(device=device, dtype=dtype)  # move to device, e.g. GPU\n",
    "            y = y.to(device=device, dtype=torch.long)\n",
    "            scores = model(x)\n",
    "            _, preds = scores.max(1)\n",
    "            num_correct += (preds == y).sum()\n",
    "            num_samples += preds.size(0)\n",
    "        acc = float(num_correct) / num_samples\n",
    "        return acc\n",
    "\n",
    "def train_net(model, optimizer, epochs=1, print_loss=True, stop_at=None, scheduler=None):\n",
    "    \"\"\"\n",
    "    Train a model on CIFAR-10 using the PyTorch Module API.\n",
    "    \n",
    "    Inputs:\n",
    "    - model: A PyTorch Module giving the model to train.\n",
    "    - optimizer: An Optimizer object we will use to train the model\n",
    "    - epochs: (Optional) A Python integer giving the number of epochs to train for\n",
    "    \n",
    "    Returns: loss history\n",
    "    \"\"\"\n",
    "    loss_history = []\n",
    "    acc_history = []\n",
    "    model = model.to(device=device)  # move the model parameters to CPU/GPU\n",
    "    for e in range(epochs):\n",
    "        \n",
    "        for t, (x, y) in enumerate(loader_train):\n",
    "            if stop_at and t > stop_at:\n",
    "                break\n",
    "            model.train()  # put model to training mode\n",
    "            x = x.to(device=device, dtype=dtype)  # move to device, e.g. GPU\n",
    "            y = y.to(device=device, dtype=torch.long)\n",
    "\n",
    "            scores = model(x)\n",
    "            loss = F.cross_entropy(scores, y)\n",
    "\n",
    "            # Zero out all of the gradients for the variables which the optimizer\n",
    "            # will update.\n",
    "            optimizer.zero_grad()\n",
    "\n",
    "            # This is the backwards pass: compute the gradient of the loss with\n",
    "            # respect to each  parameter of the model.\n",
    "            loss.backward()\n",
    "\n",
    "            # Actually update the parameters of the model using the gradients\n",
    "            # computed by the backwards pass.\n",
    "            optimizer.step()\n",
    "\n",
    "            loss_history.append(loss.item())\n",
    "            accuracy = get_accuracy(loader_val, model)\n",
    "            acc_history.append(accuracy)\n",
    "            \n",
    "            if print_loss and t % print_every == 0:\n",
    "                print('Iteration %d, loss = %.4f' % (t, loss.item()))\n",
    "                check_accuracy_part34(loader_val, model)\n",
    "                print()\n",
    "                \n",
    "        if scheduler and scheduler.__class__.__name__ == 'ReduceLROnPlateau':\n",
    "            scheduler.step(accuracy)\n",
    "        elif scheduler:\n",
    "            scheduler.step()\n",
    "              \n",
    "                \n",
    "    return loss_history, acc_history\n"
   ]
  },
  {
   "cell_type": "code",
   "execution_count": 27,
   "metadata": {},
   "outputs": [
    {
     "name": "stdout",
     "output_type": "stream",
     "text": [
      "Iteration 0, loss = 2.4874\n",
      "Checking accuracy on validation set\n",
      "Got 88 / 1000 correct (8.80)\n",
      "\n"
     ]
    },
    {
     "ename": "KeyboardInterrupt",
     "evalue": "",
     "output_type": "error",
     "traceback": [
      "\u001b[0;31m---------------------------------------------------------------------------\u001b[0m",
      "\u001b[0;31mKeyboardInterrupt\u001b[0m                         Traceback (most recent call last)",
      "\u001b[0;32m<ipython-input-27-d48c956038de>\u001b[0m in \u001b[0;36m<module>\u001b[0;34m()\u001b[0m\n\u001b[1;32m      2\u001b[0m \u001b[0moptimizer\u001b[0m \u001b[0;34m=\u001b[0m \u001b[0moptim\u001b[0m\u001b[0;34m.\u001b[0m\u001b[0mSGD\u001b[0m\u001b[0;34m(\u001b[0m\u001b[0mresnet_model\u001b[0m\u001b[0;34m.\u001b[0m\u001b[0mparameters\u001b[0m\u001b[0;34m(\u001b[0m\u001b[0;34m)\u001b[0m\u001b[0;34m,\u001b[0m \u001b[0mlr\u001b[0m\u001b[0;34m=\u001b[0m\u001b[0mlearning_rate\u001b[0m\u001b[0;34m,\u001b[0m \u001b[0mmomentum\u001b[0m\u001b[0;34m=\u001b[0m\u001b[0;36m0.9\u001b[0m\u001b[0;34m,\u001b[0m \u001b[0mnesterov\u001b[0m\u001b[0;34m=\u001b[0m\u001b[0;32mTrue\u001b[0m\u001b[0;34m)\u001b[0m\u001b[0;34m\u001b[0m\u001b[0m\n\u001b[1;32m      3\u001b[0m \u001b[0mscheduler\u001b[0m \u001b[0;34m=\u001b[0m \u001b[0moptim\u001b[0m\u001b[0;34m.\u001b[0m\u001b[0mlr_scheduler\u001b[0m\u001b[0;34m.\u001b[0m\u001b[0mReduceLROnPlateau\u001b[0m\u001b[0;34m(\u001b[0m\u001b[0moptimizer\u001b[0m\u001b[0;34m,\u001b[0m \u001b[0;34m'max'\u001b[0m\u001b[0;34m,\u001b[0m \u001b[0mpatience\u001b[0m\u001b[0;34m=\u001b[0m\u001b[0;36m1\u001b[0m\u001b[0;34m,\u001b[0m \u001b[0mverbose\u001b[0m\u001b[0;34m=\u001b[0m\u001b[0;32mTrue\u001b[0m\u001b[0;34m)\u001b[0m\u001b[0;34m\u001b[0m\u001b[0m\n\u001b[0;32m----> 4\u001b[0;31m \u001b[0m_\u001b[0m\u001b[0;34m,\u001b[0m \u001b[0maccuracy_history\u001b[0m \u001b[0;34m=\u001b[0m \u001b[0mtrain_net\u001b[0m\u001b[0;34m(\u001b[0m\u001b[0mresnet_model\u001b[0m\u001b[0;34m,\u001b[0m \u001b[0moptimizer\u001b[0m\u001b[0;34m,\u001b[0m \u001b[0mepochs\u001b[0m\u001b[0;34m=\u001b[0m\u001b[0;36m1\u001b[0m\u001b[0;34m,\u001b[0m \u001b[0mstop_at\u001b[0m\u001b[0;34m=\u001b[0m\u001b[0;36m200\u001b[0m\u001b[0;34m,\u001b[0m \u001b[0mprint_loss\u001b[0m\u001b[0;34m=\u001b[0m\u001b[0;32mTrue\u001b[0m\u001b[0;34m,\u001b[0m \u001b[0mscheduler\u001b[0m\u001b[0;34m=\u001b[0m\u001b[0mscheduler\u001b[0m\u001b[0;34m)\u001b[0m\u001b[0;34m\u001b[0m\u001b[0m\n\u001b[0m\u001b[1;32m      5\u001b[0m \u001b[0mresults\u001b[0m\u001b[0;34m[\u001b[0m\u001b[0;34m'accuracy'\u001b[0m\u001b[0;34m]\u001b[0m \u001b[0;34m=\u001b[0m \u001b[0maccuracy_history\u001b[0m\u001b[0;34m\u001b[0m\u001b[0m\n\u001b[1;32m      6\u001b[0m \u001b[0mresults\u001b[0m\u001b[0;34m[\u001b[0m\u001b[0;34m'iter'\u001b[0m\u001b[0;34m]\u001b[0m \u001b[0;34m=\u001b[0m \u001b[0mlist\u001b[0m\u001b[0;34m(\u001b[0m\u001b[0mrange\u001b[0m\u001b[0;34m(\u001b[0m\u001b[0mlen\u001b[0m\u001b[0;34m(\u001b[0m\u001b[0mresults\u001b[0m\u001b[0;34m[\u001b[0m\u001b[0;34m'accuracy'\u001b[0m\u001b[0;34m]\u001b[0m\u001b[0;34m)\u001b[0m\u001b[0;34m)\u001b[0m\u001b[0;34m)\u001b[0m\u001b[0;34m\u001b[0m\u001b[0m\n",
      "\u001b[0;32m<ipython-input-24-f4d01fdf4001>\u001b[0m in \u001b[0;36mtrain_net\u001b[0;34m(model, optimizer, epochs, print_loss, stop_at, scheduler)\u001b[0m\n\u001b[1;32m     54\u001b[0m \u001b[0;34m\u001b[0m\u001b[0m\n\u001b[1;32m     55\u001b[0m             \u001b[0mloss_history\u001b[0m\u001b[0;34m.\u001b[0m\u001b[0mappend\u001b[0m\u001b[0;34m(\u001b[0m\u001b[0mloss\u001b[0m\u001b[0;34m.\u001b[0m\u001b[0mitem\u001b[0m\u001b[0;34m(\u001b[0m\u001b[0;34m)\u001b[0m\u001b[0;34m)\u001b[0m\u001b[0;34m\u001b[0m\u001b[0m\n\u001b[0;32m---> 56\u001b[0;31m             \u001b[0maccuracy\u001b[0m \u001b[0;34m=\u001b[0m \u001b[0mget_accuracy\u001b[0m\u001b[0;34m(\u001b[0m\u001b[0mloader_val\u001b[0m\u001b[0;34m,\u001b[0m \u001b[0mmodel\u001b[0m\u001b[0;34m)\u001b[0m\u001b[0;34m\u001b[0m\u001b[0m\n\u001b[0m\u001b[1;32m     57\u001b[0m             \u001b[0macc_history\u001b[0m\u001b[0;34m.\u001b[0m\u001b[0mappend\u001b[0m\u001b[0;34m(\u001b[0m\u001b[0maccuracy\u001b[0m\u001b[0;34m)\u001b[0m\u001b[0;34m\u001b[0m\u001b[0m\n\u001b[1;32m     58\u001b[0m \u001b[0;34m\u001b[0m\u001b[0m\n",
      "\u001b[0;32m<ipython-input-24-f4d01fdf4001>\u001b[0m in \u001b[0;36mget_accuracy\u001b[0;34m(loader, model)\u001b[0m\n\u001b[1;32m      8\u001b[0m             \u001b[0mx\u001b[0m \u001b[0;34m=\u001b[0m \u001b[0mx\u001b[0m\u001b[0;34m.\u001b[0m\u001b[0mto\u001b[0m\u001b[0;34m(\u001b[0m\u001b[0mdevice\u001b[0m\u001b[0;34m=\u001b[0m\u001b[0mdevice\u001b[0m\u001b[0;34m,\u001b[0m \u001b[0mdtype\u001b[0m\u001b[0;34m=\u001b[0m\u001b[0mdtype\u001b[0m\u001b[0;34m)\u001b[0m  \u001b[0;31m# move to device, e.g. GPU\u001b[0m\u001b[0;34m\u001b[0m\u001b[0m\n\u001b[1;32m      9\u001b[0m             \u001b[0my\u001b[0m \u001b[0;34m=\u001b[0m \u001b[0my\u001b[0m\u001b[0;34m.\u001b[0m\u001b[0mto\u001b[0m\u001b[0;34m(\u001b[0m\u001b[0mdevice\u001b[0m\u001b[0;34m=\u001b[0m\u001b[0mdevice\u001b[0m\u001b[0;34m,\u001b[0m \u001b[0mdtype\u001b[0m\u001b[0;34m=\u001b[0m\u001b[0mtorch\u001b[0m\u001b[0;34m.\u001b[0m\u001b[0mlong\u001b[0m\u001b[0;34m)\u001b[0m\u001b[0;34m\u001b[0m\u001b[0m\n\u001b[0;32m---> 10\u001b[0;31m             \u001b[0mscores\u001b[0m \u001b[0;34m=\u001b[0m \u001b[0mmodel\u001b[0m\u001b[0;34m(\u001b[0m\u001b[0mx\u001b[0m\u001b[0;34m)\u001b[0m\u001b[0;34m\u001b[0m\u001b[0m\n\u001b[0m\u001b[1;32m     11\u001b[0m             \u001b[0m_\u001b[0m\u001b[0;34m,\u001b[0m \u001b[0mpreds\u001b[0m \u001b[0;34m=\u001b[0m \u001b[0mscores\u001b[0m\u001b[0;34m.\u001b[0m\u001b[0mmax\u001b[0m\u001b[0;34m(\u001b[0m\u001b[0;36m1\u001b[0m\u001b[0;34m)\u001b[0m\u001b[0;34m\u001b[0m\u001b[0m\n\u001b[1;32m     12\u001b[0m             \u001b[0mnum_correct\u001b[0m \u001b[0;34m+=\u001b[0m \u001b[0;34m(\u001b[0m\u001b[0mpreds\u001b[0m \u001b[0;34m==\u001b[0m \u001b[0my\u001b[0m\u001b[0;34m)\u001b[0m\u001b[0;34m.\u001b[0m\u001b[0msum\u001b[0m\u001b[0;34m(\u001b[0m\u001b[0;34m)\u001b[0m\u001b[0;34m\u001b[0m\u001b[0m\n",
      "\u001b[0;32m~/anaconda3/lib/python3.6/site-packages/torch/nn/modules/module.py\u001b[0m in \u001b[0;36m__call__\u001b[0;34m(self, *input, **kwargs)\u001b[0m\n\u001b[1;32m    475\u001b[0m             \u001b[0mresult\u001b[0m \u001b[0;34m=\u001b[0m \u001b[0mself\u001b[0m\u001b[0;34m.\u001b[0m\u001b[0m_slow_forward\u001b[0m\u001b[0;34m(\u001b[0m\u001b[0;34m*\u001b[0m\u001b[0minput\u001b[0m\u001b[0;34m,\u001b[0m \u001b[0;34m**\u001b[0m\u001b[0mkwargs\u001b[0m\u001b[0;34m)\u001b[0m\u001b[0;34m\u001b[0m\u001b[0m\n\u001b[1;32m    476\u001b[0m         \u001b[0;32melse\u001b[0m\u001b[0;34m:\u001b[0m\u001b[0;34m\u001b[0m\u001b[0m\n\u001b[0;32m--> 477\u001b[0;31m             \u001b[0mresult\u001b[0m \u001b[0;34m=\u001b[0m \u001b[0mself\u001b[0m\u001b[0;34m.\u001b[0m\u001b[0mforward\u001b[0m\u001b[0;34m(\u001b[0m\u001b[0;34m*\u001b[0m\u001b[0minput\u001b[0m\u001b[0;34m,\u001b[0m \u001b[0;34m**\u001b[0m\u001b[0mkwargs\u001b[0m\u001b[0;34m)\u001b[0m\u001b[0;34m\u001b[0m\u001b[0m\n\u001b[0m\u001b[1;32m    478\u001b[0m         \u001b[0;32mfor\u001b[0m \u001b[0mhook\u001b[0m \u001b[0;32min\u001b[0m \u001b[0mself\u001b[0m\u001b[0;34m.\u001b[0m\u001b[0m_forward_hooks\u001b[0m\u001b[0;34m.\u001b[0m\u001b[0mvalues\u001b[0m\u001b[0;34m(\u001b[0m\u001b[0;34m)\u001b[0m\u001b[0;34m:\u001b[0m\u001b[0;34m\u001b[0m\u001b[0m\n\u001b[1;32m    479\u001b[0m             \u001b[0mhook_result\u001b[0m \u001b[0;34m=\u001b[0m \u001b[0mhook\u001b[0m\u001b[0;34m(\u001b[0m\u001b[0mself\u001b[0m\u001b[0;34m,\u001b[0m \u001b[0minput\u001b[0m\u001b[0;34m,\u001b[0m \u001b[0mresult\u001b[0m\u001b[0;34m)\u001b[0m\u001b[0;34m\u001b[0m\u001b[0m\n",
      "\u001b[0;32m~/anaconda3/lib/python3.6/site-packages/torchvision-0.2.1-py3.6.egg/torchvision/models/resnet.py\u001b[0m in \u001b[0;36mforward\u001b[0;34m(self, x)\u001b[0m\n\u001b[1;32m    140\u001b[0m         \u001b[0mx\u001b[0m \u001b[0;34m=\u001b[0m \u001b[0mself\u001b[0m\u001b[0;34m.\u001b[0m\u001b[0mbn1\u001b[0m\u001b[0;34m(\u001b[0m\u001b[0mx\u001b[0m\u001b[0;34m)\u001b[0m\u001b[0;34m\u001b[0m\u001b[0m\n\u001b[1;32m    141\u001b[0m         \u001b[0mx\u001b[0m \u001b[0;34m=\u001b[0m \u001b[0mself\u001b[0m\u001b[0;34m.\u001b[0m\u001b[0mrelu\u001b[0m\u001b[0;34m(\u001b[0m\u001b[0mx\u001b[0m\u001b[0;34m)\u001b[0m\u001b[0;34m\u001b[0m\u001b[0m\n\u001b[0;32m--> 142\u001b[0;31m         \u001b[0mx\u001b[0m \u001b[0;34m=\u001b[0m \u001b[0mself\u001b[0m\u001b[0;34m.\u001b[0m\u001b[0mmaxpool\u001b[0m\u001b[0;34m(\u001b[0m\u001b[0mx\u001b[0m\u001b[0;34m)\u001b[0m\u001b[0;34m\u001b[0m\u001b[0m\n\u001b[0m\u001b[1;32m    143\u001b[0m \u001b[0;34m\u001b[0m\u001b[0m\n\u001b[1;32m    144\u001b[0m         \u001b[0mx\u001b[0m \u001b[0;34m=\u001b[0m \u001b[0mself\u001b[0m\u001b[0;34m.\u001b[0m\u001b[0mlayer1\u001b[0m\u001b[0;34m(\u001b[0m\u001b[0mx\u001b[0m\u001b[0;34m)\u001b[0m\u001b[0;34m\u001b[0m\u001b[0m\n",
      "\u001b[0;32m~/anaconda3/lib/python3.6/site-packages/torch/nn/modules/module.py\u001b[0m in \u001b[0;36m__call__\u001b[0;34m(self, *input, **kwargs)\u001b[0m\n\u001b[1;32m    475\u001b[0m             \u001b[0mresult\u001b[0m \u001b[0;34m=\u001b[0m \u001b[0mself\u001b[0m\u001b[0;34m.\u001b[0m\u001b[0m_slow_forward\u001b[0m\u001b[0;34m(\u001b[0m\u001b[0;34m*\u001b[0m\u001b[0minput\u001b[0m\u001b[0;34m,\u001b[0m \u001b[0;34m**\u001b[0m\u001b[0mkwargs\u001b[0m\u001b[0;34m)\u001b[0m\u001b[0;34m\u001b[0m\u001b[0m\n\u001b[1;32m    476\u001b[0m         \u001b[0;32melse\u001b[0m\u001b[0;34m:\u001b[0m\u001b[0;34m\u001b[0m\u001b[0m\n\u001b[0;32m--> 477\u001b[0;31m             \u001b[0mresult\u001b[0m \u001b[0;34m=\u001b[0m \u001b[0mself\u001b[0m\u001b[0;34m.\u001b[0m\u001b[0mforward\u001b[0m\u001b[0;34m(\u001b[0m\u001b[0;34m*\u001b[0m\u001b[0minput\u001b[0m\u001b[0;34m,\u001b[0m \u001b[0;34m**\u001b[0m\u001b[0mkwargs\u001b[0m\u001b[0;34m)\u001b[0m\u001b[0;34m\u001b[0m\u001b[0m\n\u001b[0m\u001b[1;32m    478\u001b[0m         \u001b[0;32mfor\u001b[0m \u001b[0mhook\u001b[0m \u001b[0;32min\u001b[0m \u001b[0mself\u001b[0m\u001b[0;34m.\u001b[0m\u001b[0m_forward_hooks\u001b[0m\u001b[0;34m.\u001b[0m\u001b[0mvalues\u001b[0m\u001b[0;34m(\u001b[0m\u001b[0;34m)\u001b[0m\u001b[0;34m:\u001b[0m\u001b[0;34m\u001b[0m\u001b[0m\n\u001b[1;32m    479\u001b[0m             \u001b[0mhook_result\u001b[0m \u001b[0;34m=\u001b[0m \u001b[0mhook\u001b[0m\u001b[0;34m(\u001b[0m\u001b[0mself\u001b[0m\u001b[0;34m,\u001b[0m \u001b[0minput\u001b[0m\u001b[0;34m,\u001b[0m \u001b[0mresult\u001b[0m\u001b[0;34m)\u001b[0m\u001b[0;34m\u001b[0m\u001b[0m\n",
      "\u001b[0;32m~/anaconda3/lib/python3.6/site-packages/torch/nn/modules/pooling.py\u001b[0m in \u001b[0;36mforward\u001b[0;34m(self, input)\u001b[0m\n\u001b[1;32m    140\u001b[0m         return F.max_pool2d(input, self.kernel_size, self.stride,\n\u001b[1;32m    141\u001b[0m                             \u001b[0mself\u001b[0m\u001b[0;34m.\u001b[0m\u001b[0mpadding\u001b[0m\u001b[0;34m,\u001b[0m \u001b[0mself\u001b[0m\u001b[0;34m.\u001b[0m\u001b[0mdilation\u001b[0m\u001b[0;34m,\u001b[0m \u001b[0mself\u001b[0m\u001b[0;34m.\u001b[0m\u001b[0mceil_mode\u001b[0m\u001b[0;34m,\u001b[0m\u001b[0;34m\u001b[0m\u001b[0m\n\u001b[0;32m--> 142\u001b[0;31m                             self.return_indices)\n\u001b[0m\u001b[1;32m    143\u001b[0m \u001b[0;34m\u001b[0m\u001b[0m\n\u001b[1;32m    144\u001b[0m \u001b[0;34m\u001b[0m\u001b[0m\n",
      "\u001b[0;32m~/anaconda3/lib/python3.6/site-packages/torch/nn/functional.py\u001b[0m in \u001b[0;36mmax_pool2d\u001b[0;34m(input, kernel_size, stride, padding, dilation, ceil_mode, return_indices)\u001b[0m\n\u001b[1;32m    394\u001b[0m     \u001b[0mSee\u001b[0m \u001b[0;34m:\u001b[0m\u001b[0;32mclass\u001b[0m\u001b[0;34m:\u001b[0m\u001b[0;31m`\u001b[0m\u001b[0;34m~\u001b[0m\u001b[0mtorch\u001b[0m\u001b[0;34m.\u001b[0m\u001b[0mnn\u001b[0m\u001b[0;34m.\u001b[0m\u001b[0mMaxPool2d\u001b[0m\u001b[0;31m`\u001b[0m \u001b[0;32mfor\u001b[0m \u001b[0mdetails\u001b[0m\u001b[0;34m.\u001b[0m\u001b[0;34m\u001b[0m\u001b[0m\n\u001b[1;32m    395\u001b[0m     \"\"\"\n\u001b[0;32m--> 396\u001b[0;31m     \u001b[0mret\u001b[0m \u001b[0;34m=\u001b[0m \u001b[0mtorch\u001b[0m\u001b[0;34m.\u001b[0m\u001b[0m_C\u001b[0m\u001b[0;34m.\u001b[0m\u001b[0m_nn\u001b[0m\u001b[0;34m.\u001b[0m\u001b[0mmax_pool2d_with_indices\u001b[0m\u001b[0;34m(\u001b[0m\u001b[0minput\u001b[0m\u001b[0;34m,\u001b[0m \u001b[0mkernel_size\u001b[0m\u001b[0;34m,\u001b[0m \u001b[0mstride\u001b[0m\u001b[0;34m,\u001b[0m \u001b[0mpadding\u001b[0m\u001b[0;34m,\u001b[0m \u001b[0mdilation\u001b[0m\u001b[0;34m,\u001b[0m \u001b[0mceil_mode\u001b[0m\u001b[0;34m)\u001b[0m\u001b[0;34m\u001b[0m\u001b[0m\n\u001b[0m\u001b[1;32m    397\u001b[0m     \u001b[0;32mreturn\u001b[0m \u001b[0mret\u001b[0m \u001b[0;32mif\u001b[0m \u001b[0mreturn_indices\u001b[0m \u001b[0;32melse\u001b[0m \u001b[0mret\u001b[0m\u001b[0;34m[\u001b[0m\u001b[0;36m0\u001b[0m\u001b[0;34m]\u001b[0m\u001b[0;34m\u001b[0m\u001b[0m\n\u001b[1;32m    398\u001b[0m \u001b[0;34m\u001b[0m\u001b[0m\n",
      "\u001b[0;31mKeyboardInterrupt\u001b[0m: "
     ]
    }
   ],
   "source": [
    "learning_rate=1e-3\n",
    "optimizer = optim.SGD(resnet_model.parameters(), lr=learning_rate, momentum=0.9, nesterov=True)\n",
    "scheduler = optim.lr_scheduler.ReduceLROnPlateau(optimizer, 'max', patience=1, verbose=True)\n",
    "_, accuracy_history = train_net(resnet_model, optimizer, epochs=1, stop_at=200, print_loss=True, scheduler=scheduler)\n",
    "results['accuracy'] = accuracy_history\n",
    "results['iter'] = list(range(len(results['accuracy'])))"
   ]
  },
  {
   "cell_type": "code",
   "execution_count": null,
   "metadata": {},
   "outputs": [],
   "source": []
  }
 ],
 "metadata": {
  "kernelspec": {
   "display_name": "Python 3",
   "language": "python",
   "name": "python3"
  },
  "language_info": {
   "codemirror_mode": {
    "name": "ipython",
    "version": 3
   },
   "file_extension": ".py",
   "mimetype": "text/x-python",
   "name": "python",
   "nbconvert_exporter": "python",
   "pygments_lexer": "ipython3",
   "version": "3.6.5"
  },
  "toc": {
   "nav_menu": {},
   "number_sections": true,
   "sideBar": true,
   "skip_h1_title": false,
   "toc_cell": false,
   "toc_position": {},
   "toc_section_display": "block",
   "toc_window_display": false
  },
  "varInspector": {
   "cols": {
    "lenName": 16,
    "lenType": 16,
    "lenVar": 40
   },
   "kernels_config": {
    "python": {
     "delete_cmd_postfix": "",
     "delete_cmd_prefix": "del ",
     "library": "var_list.py",
     "varRefreshCmd": "print(var_dic_list())"
    },
    "r": {
     "delete_cmd_postfix": ") ",
     "delete_cmd_prefix": "rm(",
     "library": "var_list.r",
     "varRefreshCmd": "cat(var_dic_list()) "
    }
   },
   "types_to_exclude": [
    "module",
    "function",
    "builtin_function_or_method",
    "instance",
    "_Feature"
   ],
   "window_display": false
  }
 },
 "nbformat": 4,
 "nbformat_minor": 2
}
