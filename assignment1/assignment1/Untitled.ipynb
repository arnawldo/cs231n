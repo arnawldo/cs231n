{
 "cells": [
  {
   "cell_type": "code",
   "execution_count": 1,
   "metadata": {},
   "outputs": [
    {
     "name": "stdout",
     "output_type": "stream",
     "text": [
      "\u001b[31mREADME.md\u001b[m\u001b[m            \u001b[31mframeworkpython\u001b[m\u001b[m      \u001b[31mstart_ipython_osx.sh\u001b[m\u001b[m\n",
      "Untitled.ipynb       \u001b[31mknn.ipynb\u001b[m\u001b[m            \u001b[31msvm.ipynb\u001b[m\u001b[m\n",
      "\u001b[31mcollectSubmission.sh\u001b[m\u001b[m \u001b[31mrequirements.txt\u001b[m\u001b[m     \u001b[31mtwo_layer_net.ipynb\u001b[m\u001b[m\n",
      "\u001b[30m\u001b[43mcs231n\u001b[m\u001b[m               \u001b[31msetup_googlecloud.sh\u001b[m\u001b[m\n",
      "\u001b[31mfeatures.ipynb\u001b[m\u001b[m       \u001b[31msoftmax.ipynb\u001b[m\u001b[m\n"
     ]
    }
   ],
   "source": [
    "!ls"
   ]
  },
  {
   "cell_type": "code",
   "execution_count": 2,
   "metadata": {},
   "outputs": [],
   "source": [
    "!cd cs231n/datasets"
   ]
  },
  {
   "cell_type": "code",
   "execution_count": 3,
   "metadata": {},
   "outputs": [
    {
     "name": "stdout",
     "output_type": "stream",
     "text": [
      "\u001b[31mREADME.md\u001b[m\u001b[m            \u001b[31mframeworkpython\u001b[m\u001b[m      \u001b[31mstart_ipython_osx.sh\u001b[m\u001b[m\n",
      "Untitled.ipynb       \u001b[31mknn.ipynb\u001b[m\u001b[m            \u001b[31msvm.ipynb\u001b[m\u001b[m\n",
      "\u001b[31mcollectSubmission.sh\u001b[m\u001b[m \u001b[31mrequirements.txt\u001b[m\u001b[m     \u001b[31mtwo_layer_net.ipynb\u001b[m\u001b[m\n",
      "\u001b[30m\u001b[43mcs231n\u001b[m\u001b[m               \u001b[31msetup_googlecloud.sh\u001b[m\u001b[m\n",
      "\u001b[31mfeatures.ipynb\u001b[m\u001b[m       \u001b[31msoftmax.ipynb\u001b[m\u001b[m\n"
     ]
    }
   ],
   "source": [
    "!ls"
   ]
  },
  {
   "cell_type": "code",
   "execution_count": null,
   "metadata": {},
   "outputs": [],
   "source": []
  }
 ],
 "metadata": {
  "kernelspec": {
   "display_name": "Python 3",
   "language": "python",
   "name": "python3"
  },
  "language_info": {
   "codemirror_mode": {
    "name": "ipython",
    "version": 3
   },
   "file_extension": ".py",
   "mimetype": "text/x-python",
   "name": "python",
   "nbconvert_exporter": "python",
   "pygments_lexer": "ipython3",
   "version": "3.6.5"
  }
 },
 "nbformat": 4,
 "nbformat_minor": 2
}
